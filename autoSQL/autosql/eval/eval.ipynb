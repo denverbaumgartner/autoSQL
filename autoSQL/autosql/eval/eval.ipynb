{
 "cells": [
  {
   "cell_type": "code",
   "execution_count": 38,
   "metadata": {},
   "outputs": [],
   "source": [
    "import os\n",
    "import re\n",
    "import time\n",
    "import json\n",
    "import sqlglot\n",
    "import replicate\n",
    "import datasets\n",
    "from replicate import Client as rc\n",
    "from _decimal import Decimal\n",
    "from dotenv import load_dotenv\n",
    "from datasets import DatasetDict, Dataset\n",
    "from sqlglot.executor import execute\n",
    "import matplotlib.pyplot as plt\n",
    "import numpy as np\n",
    "\n",
    "from eval import SQLEval\n",
    "\n",
    "from sqlglot.errors import (\n",
    "    ExecuteError,\n",
    "    TokenError,\n",
    "    SchemaError,\n",
    "    ExecuteError,\n",
    "    ParseError,\n",
    "    UnsupportedError,\n",
    "    SqlglotError,\n",
    "    OptimizeError,\n",
    ")\n",
    "\n",
    "# Load environment variables from .env file\n",
    "load_dotenv(\"../.env\")\n",
    "\n",
    "# Now you can get the loaded environment variable using os.environ\n",
    "GITHUB_GIST_TOKEN = os.environ.get(\"GITHUB_GIST_TOKEN\")\n",
    "OPENAI_API_KEY = os.getenv(\"OPENAI_API_KEY\")\n",
    "REPLICATE_API_TOKEN = os.environ.get(\"REPLICATE_API_TOKEN\")\n",
    "REPLICATE_LLAMA_7B_TUNED = os.environ.get(\"REPLICATE_LLAMA_7B_TUNED\")\n",
    "\n",
    "sqe = SQLEval()"
   ]
  },
  {
   "cell_type": "markdown",
   "metadata": {},
   "source": [
    "# Load The Inferences\n",
    "\n",
    "This data can be downloaded from [here](https://huggingface.co/datasets/alagaesia/auto-sql-create-context/blob/main/rich_testing_subset_llama_13b_1_0_0_inferences.zip) and should soon be available for direct download from the Hub in a programmatic fashion. "
   ]
  },
  {
   "cell_type": "code",
   "execution_count": 11,
   "metadata": {},
   "outputs": [
    {
     "name": "stdout",
     "output_type": "stream",
     "text": [
      "Loaded inference data\n",
      "The dataset has 300 rows and 14 columns\n"
     ]
    },
    {
     "data": {
      "text/plain": [
       "Dataset({\n",
       "    features: ['answer', 'context', 'question', 'table_count', 'column_types', 'duplicate_create_table', 'filler_data', 'query_result', 'valid_query', 'openai_inference', 'openai_result', 'openai_valid', 'tuning_format', 'replicate_inference'],\n",
       "    num_rows: 300\n",
       "})"
      ]
     },
     "execution_count": 11,
     "metadata": {},
     "output_type": "execute_result"
    }
   ],
   "source": [
    "inference_data = Dataset.load_from_disk(\"../../local_data/rich_testing_subset_llama_13b_1_0_0_inferences\")\n",
    "\n",
    "print(\"Loaded inference data\")\n",
    "print(\"The dataset has {} rows and {} columns\".format(inference_data.num_rows, inference_data.num_columns))\n",
    "inference_data"
   ]
  },
  {
   "cell_type": "markdown",
   "metadata": {},
   "source": [
    "## Run Initial Validation on Initial Inference Results"
   ]
  },
  {
   "cell_type": "code",
   "execution_count": 14,
   "metadata": {},
   "outputs": [
    {
     "data": {
      "application/vnd.jupyter.widget-view+json": {
       "model_id": "ba3b058d8b5049b6a6f3daf062fb2f9b",
       "version_major": 2,
       "version_minor": 0
      },
      "text/plain": [
       "Map:   0%|          | 0/300 [00:00<?, ? examples/s]"
      ]
     },
     "metadata": {},
     "output_type": "display_data"
    }
   ],
   "source": [
    "inference_data = inference_data.map(sqe.validate_replicate_query)"
   ]
  },
  {
   "cell_type": "markdown",
   "metadata": {},
   "source": [
    "### First Evaluation \n",
    "\n",
    "First, we will simply get a count of how many queries that were returned were valid. These responses are from inferences that have no data clearning applied to them. To collect this data, we will run the inference query against the sample data using `sqglot`. "
   ]
  },
  {
   "cell_type": "code",
   "execution_count": 32,
   "metadata": {},
   "outputs": [
    {
     "data": {
      "application/vnd.jupyter.widget-view+json": {
       "model_id": "e9f0954dc1e24366a7ea6a70953b29b5",
       "version_major": 2,
       "version_minor": 0
      },
      "text/plain": [
       "Map:   0%|          | 0/300 [00:00<?, ? examples/s]"
      ]
     },
     "metadata": {},
     "output_type": "display_data"
    },
    {
     "data": {
      "application/vnd.jupyter.widget-view+json": {
       "model_id": "ee7ce33d05b04984803f8c4058690745",
       "version_major": 2,
       "version_minor": 0
      },
      "text/plain": [
       "Map:   0%|          | 0/300 [00:00<?, ? examples/s]"
      ]
     },
     "metadata": {},
     "output_type": "display_data"
    },
    {
     "data": {
      "application/vnd.jupyter.widget-view+json": {
       "model_id": "64ea9e151b3041eb98dac9fd11b4539a",
       "version_major": 2,
       "version_minor": 0
      },
      "text/plain": [
       "Map:   0%|          | 0/300 [00:00<?, ? examples/s]"
      ]
     },
     "metadata": {},
     "output_type": "display_data"
    },
    {
     "data": {
      "application/vnd.jupyter.widget-view+json": {
       "model_id": "e352000f2ea64e15ae946d46beb9b399",
       "version_major": 2,
       "version_minor": 0
      },
      "text/plain": [
       "Filter:   0%|          | 0/300 [00:00<?, ? examples/s]"
      ]
     },
     "metadata": {},
     "output_type": "display_data"
    },
    {
     "data": {
      "application/vnd.jupyter.widget-view+json": {
       "model_id": "333fed8b76f44cdfadbecfd181e10b99",
       "version_major": 2,
       "version_minor": 0
      },
      "text/plain": [
       "Filter:   0%|          | 0/300 [00:00<?, ? examples/s]"
      ]
     },
     "metadata": {},
     "output_type": "display_data"
    },
    {
     "data": {
      "application/vnd.jupyter.widget-view+json": {
       "model_id": "d7043121a1ee4863bb8ab1e9b46e7631",
       "version_major": 2,
       "version_minor": 0
      },
      "text/plain": [
       "Filter:   0%|          | 0/300 [00:00<?, ? examples/s]"
      ]
     },
     "metadata": {},
     "output_type": "display_data"
    },
    {
     "data": {
      "application/vnd.jupyter.widget-view+json": {
       "model_id": "5c3c4cd93936459ab07f07d329621c9f",
       "version_major": 2,
       "version_minor": 0
      },
      "text/plain": [
       "Filter:   0%|          | 0/300 [00:00<?, ? examples/s]"
      ]
     },
     "metadata": {},
     "output_type": "display_data"
    },
    {
     "name": "stdout",
     "output_type": "stream",
     "text": [
      "OpenAI valid queries: 284\n",
      "Replicate valid queries: 102\n",
      "OpenAI valid results: 190\n",
      "Replicate valid results: 65\n",
      "\n",
      "As a percentage of total queries: \n",
      "\n",
      "OpenAI valid queries: 94.67%\n",
      "Replicate valid queries: 34.00%\n",
      "OpenAI valid results: 63.33%\n",
      "Replicate valid results: 21.67%\n"
     ]
    }
   ],
   "source": [
    "inference_data = inference_data.map(sqe.validate_openai_query)\n",
    "inference_data = inference_data.map(sqe.validate_replicate_query)\n",
    "inference_data = inference_data.map(sqe.inference_result_check)\n",
    "\n",
    "openai_valid_queries = inference_data.filter(lambda x: x[\"openai_valid\"] == True)\n",
    "replicate_valid_queries = inference_data.filter(lambda x: x[\"replicate_valid\"] == True)\n",
    "\n",
    "openai_valid_results = inference_data.filter(lambda x: x[\"openai_correct\"] == True)\n",
    "replicate_valid_results = inference_data.filter(lambda x: x[\"replicate_correct\"] == True)\n",
    "\n",
    "print(\"OpenAI valid queries: {}\".format(openai_valid_queries.num_rows))\n",
    "print(\"Replicate valid queries: {}\".format(replicate_valid_queries.num_rows))\n",
    "\n",
    "print(\"OpenAI valid results: {}\".format(openai_valid_results.num_rows))\n",
    "print(\"Replicate valid results: {}\".format(replicate_valid_results.num_rows))\n",
    "\n",
    "print(\"\\nAs a percentage of total queries: \\n\")\n",
    "print(\"OpenAI valid queries: {:.2f}%\".format(100 * openai_valid_queries.num_rows / inference_data.num_rows))\n",
    "print(\"Replicate valid queries: {:.2f}%\".format(100 * replicate_valid_queries.num_rows / inference_data.num_rows))\n",
    "\n",
    "print(\"OpenAI valid results: {:.2f}%\".format(100 * openai_valid_results.num_rows / inference_data.num_rows))\n",
    "print(\"Replicate valid results: {:.2f}%\".format(100 * replicate_valid_results.num_rows / inference_data.num_rows))"
   ]
  },
  {
   "cell_type": "markdown",
   "metadata": {},
   "source": [
    "## Parse Valid SQL Responses from Replicate\n",
    "\n",
    "At first, we see substantially better results from `gpt-3.5-turbo` in comparison to `llama-2-13b-sql`. Upon further inspection of the data, it is clear that `llama-2-13b-sql` oftentimes fails to properly format the inference in a way that can be directly consumed by our query engine. To correct for this, we will apply simple `regex` formatting. "
   ]
  },
  {
   "cell_type": "code",
   "execution_count": 34,
   "metadata": {},
   "outputs": [
    {
     "data": {
      "application/vnd.jupyter.widget-view+json": {
       "model_id": "09395c21b882459790168aebfe8a953e",
       "version_major": 2,
       "version_minor": 0
      },
      "text/plain": [
       "Map:   0%|          | 0/300 [00:00<?, ? examples/s]"
      ]
     },
     "metadata": {},
     "output_type": "display_data"
    },
    {
     "data": {
      "application/vnd.jupyter.widget-view+json": {
       "model_id": "a643cd07bd3444838252aeb2b8e309d8",
       "version_major": 2,
       "version_minor": 0
      },
      "text/plain": [
       "Map:   0%|          | 0/300 [00:00<?, ? examples/s]"
      ]
     },
     "metadata": {},
     "output_type": "display_data"
    },
    {
     "data": {
      "application/vnd.jupyter.widget-view+json": {
       "model_id": "061c7208d83a4850b61922c61b7b8116",
       "version_major": 2,
       "version_minor": 0
      },
      "text/plain": [
       "Map:   0%|          | 0/300 [00:00<?, ? examples/s]"
      ]
     },
     "metadata": {},
     "output_type": "display_data"
    },
    {
     "data": {
      "application/vnd.jupyter.widget-view+json": {
       "model_id": "4dc4e31e7e534bcfa74b2cfdc500d7ee",
       "version_major": 2,
       "version_minor": 0
      },
      "text/plain": [
       "Map:   0%|          | 0/300 [00:00<?, ? examples/s]"
      ]
     },
     "metadata": {},
     "output_type": "display_data"
    },
    {
     "data": {
      "application/vnd.jupyter.widget-view+json": {
       "model_id": "db26a40beb044519a93d1b16306eb8e6",
       "version_major": 2,
       "version_minor": 0
      },
      "text/plain": [
       "Filter:   0%|          | 0/300 [00:00<?, ? examples/s]"
      ]
     },
     "metadata": {},
     "output_type": "display_data"
    },
    {
     "data": {
      "application/vnd.jupyter.widget-view+json": {
       "model_id": "293eb7b3c53946008c2a7776e33bc463",
       "version_major": 2,
       "version_minor": 0
      },
      "text/plain": [
       "Filter:   0%|          | 0/300 [00:00<?, ? examples/s]"
      ]
     },
     "metadata": {},
     "output_type": "display_data"
    },
    {
     "data": {
      "application/vnd.jupyter.widget-view+json": {
       "model_id": "e9128a70c56545b5b34ffcd15ee43fec",
       "version_major": 2,
       "version_minor": 0
      },
      "text/plain": [
       "Filter:   0%|          | 0/300 [00:00<?, ? examples/s]"
      ]
     },
     "metadata": {},
     "output_type": "display_data"
    },
    {
     "data": {
      "application/vnd.jupyter.widget-view+json": {
       "model_id": "9d5e50bcb1684fc88310721e19cf6445",
       "version_major": 2,
       "version_minor": 0
      },
      "text/plain": [
       "Filter:   0%|          | 0/300 [00:00<?, ? examples/s]"
      ]
     },
     "metadata": {},
     "output_type": "display_data"
    },
    {
     "name": "stdout",
     "output_type": "stream",
     "text": [
      "OpenAI valid queries: 284\n",
      "Replicate valid queries: 243\n",
      "OpenAI valid results: 190\n",
      "Replicate valid results: 150\n",
      "\n",
      "As a percentage of total queries: \n",
      "\n",
      "OpenAI valid queries: 94.67%\n",
      "Replicate valid queries: 81.00%\n",
      "OpenAI valid results: 63.33%\n",
      "Replicate valid results: 50.00%\n"
     ]
    }
   ],
   "source": [
    "inference_data = inference_data.map(sqe.replicate_response_parser)\n",
    "inference_data = inference_data.map(sqe.validate_openai_query)\n",
    "inference_data = inference_data.map(sqe.validate_replicate_query)\n",
    "inference_data = inference_data.map(sqe.inference_result_check)\n",
    "\n",
    "openai_valid_queries = inference_data.filter(lambda x: x[\"openai_valid\"] == True)\n",
    "replicate_valid_queries = inference_data.filter(lambda x: x[\"replicate_valid\"] == True)\n",
    "\n",
    "openai_valid_results = inference_data.filter(lambda x: x[\"openai_correct\"] == True)\n",
    "replicate_valid_results = inference_data.filter(lambda x: x[\"replicate_correct\"] == True)\n",
    "\n",
    "print(\"OpenAI valid queries: {}\".format(openai_valid_queries.num_rows))\n",
    "print(\"Replicate valid queries: {}\".format(replicate_valid_queries.num_rows))\n",
    "\n",
    "print(\"OpenAI valid results: {}\".format(openai_valid_results.num_rows))\n",
    "print(\"Replicate valid results: {}\".format(replicate_valid_results.num_rows))\n",
    "\n",
    "print(\"\\nAs a percentage of total queries: \\n\")\n",
    "print(\"OpenAI valid queries: {:.2f}%\".format(100 * openai_valid_queries.num_rows / inference_data.num_rows))\n",
    "print(\"Replicate valid queries: {:.2f}%\".format(100 * replicate_valid_queries.num_rows / inference_data.num_rows))\n",
    "\n",
    "print(\"OpenAI valid results: {:.2f}%\".format(100 * openai_valid_results.num_rows / inference_data.num_rows))\n",
    "print(\"Replicate valid results: {:.2f}%\".format(100 * replicate_valid_results.num_rows / inference_data.num_rows))"
   ]
  },
  {
   "cell_type": "code",
   "execution_count": 42,
   "metadata": {},
   "outputs": [
    {
     "data": {
      "image/png": "[encoded data removed]",
      "text/plain": [
       "<Figure size 1000x600 with 1 Axes>"
      ]
     },
     "metadata": {},
     "output_type": "display_data"
    }
   ],
   "source": [
    "categories = ['Valid Queries', 'Valid Results']\n",
    "openai_values = [openai_valid_queries.num_rows, openai_valid_results.num_rows]\n",
    "replicate_values = [replicate_valid_queries.num_rows, replicate_valid_results.num_rows]\n",
    "\n",
    "openai_percentages = [100 * openai_valid_queries.num_rows / inference_data.num_rows,\n",
    "                      100 * openai_valid_results.num_rows / inference_data.num_rows]\n",
    "\n",
    "replicate_percentages = [100 * replicate_valid_queries.num_rows / inference_data.num_rows,\n",
    "                         100 * replicate_valid_results.num_rows / inference_data.num_rows]\n",
    "\n",
    "x = np.arange(len(categories))  # the label locations\n",
    "width = 0.35  # the width of the bars\n",
    "\n",
    "fig, ax1 = plt.subplots(figsize=(10, 6))\n",
    "\n",
    "# Bar charts for absolute values\n",
    "ax1.bar(x - width/2, openai_values, width, color='tab:blue', label='OpenAI')\n",
    "ax1.bar(x + width/2, replicate_values, width, color='tab:red', label='Replicate')\n",
    "\n",
    "# Labeling and other aesthetics\n",
    "ax1.set_xlabel('Metrics')\n",
    "ax1.set_ylabel('Counts')\n",
    "ax1.set_title('Comparison of OpenAI vs Replicate')\n",
    "ax1.set_xticks(x)\n",
    "ax1.set_xticklabels(categories)\n",
    "ax1.legend()\n",
    "\n",
    "# Adding percentages on top of the bars\n",
    "for i in range(len(categories)):\n",
    "    ax1.text(i - width/2, openai_values[i] + 5, f\"{openai_percentages[i]:.2f}%\", ha='center', va='bottom', color='black', rotation=0)\n",
    "    ax1.text(i + width/2, replicate_values[i] + 5, f\"{replicate_percentages[i]:.2f}%\", ha='center', va='bottom', color='black', rotation=0)\n",
    "\n",
    "plt.tight_layout()\n",
    "plt.show()\n"
   ]
  },
  {
   "cell_type": "markdown",
   "metadata": {},
   "source": [
    "# How did they Differ?"
   ]
  },
  {
   "cell_type": "code",
   "execution_count": 45,
   "metadata": {},
   "outputs": [
    {
     "data": {
      "application/vnd.jupyter.widget-view+json": {
       "model_id": "7d9fd28b996d4b0c898f1dae77afe775",
       "version_major": 2,
       "version_minor": 0
      },
      "text/plain": [
       "Filter:   0%|          | 0/300 [00:00<?, ? examples/s]"
      ]
     },
     "metadata": {},
     "output_type": "display_data"
    },
    {
     "data": {
      "application/vnd.jupyter.widget-view+json": {
       "model_id": "5f5062c3f4154611815b78307d4a807f",
       "version_major": 2,
       "version_minor": 0
      },
      "text/plain": [
       "Filter:   0%|          | 0/300 [00:00<?, ? examples/s]"
      ]
     },
     "metadata": {},
     "output_type": "display_data"
    },
    {
     "data": {
      "application/vnd.jupyter.widget-view+json": {
       "model_id": "0131c669b4d947a7885218dcbe8b5bb3",
       "version_major": 2,
       "version_minor": 0
      },
      "text/plain": [
       "Filter:   0%|          | 0/300 [00:00<?, ? examples/s]"
      ]
     },
     "metadata": {},
     "output_type": "display_data"
    }
   ],
   "source": [
    "openai_valid_replicate_invalid = inference_data.filter(lambda x: x[\"openai_valid\"] == True and x[\"replicate_valid\"] == False)\n",
    "replicate_valid_openai_invalid = inference_data.filter(lambda x: x[\"openai_valid\"] == False and x[\"replicate_valid\"] == True)\n",
    "openai_invalid_replicate_invalid = inference_data.filter(lambda x: x[\"openai_valid\"] == False and x[\"replicate_valid\"] == False)"
   ]
  },
  {
   "cell_type": "code",
   "execution_count": 47,
   "metadata": {},
   "outputs": [
    {
     "data": {
      "image/png": "[encoded data removed]",
      "text/plain": [
       "<Figure size 800x800 with 1 Axes>"
      ]
     },
     "metadata": {},
     "output_type": "display_data"
    }
   ],
   "source": [
    "openai_right_replicate_wrong = openai_valid_replicate_invalid.num_rows\n",
    "replicate_right_openai_wrong = replicate_valid_openai_invalid.num_rows\n",
    "both_wrong = openai_invalid_replicate_invalid.num_rows\n",
    "\n",
    "# Plotting the Venn diagram\n",
    "plt.figure(figsize=(8,8))\n",
    "venn2(subsets = (openai_right_replicate_wrong, replicate_right_openai_wrong, both_wrong),\n",
    "      set_labels = ('Only OpenAI Correct', 'Only Replicate Correct'),\n",
    "      set_colors=('tab:blue', 'tab:red'),\n",
    "      alpha=0.6)\n",
    "\n",
    "plt.title(\"Comparison of Query Validity between OpenAI and Replicate\")\n",
    "plt.show()\n"
   ]
  },
  {
   "cell_type": "code",
   "execution_count": null,
   "metadata": {},
   "outputs": [],
   "source": []
  }
 ],
 "metadata": {
  "kernelspec": {
   "display_name": "autosql",
   "language": "python",
   "name": "autosql"
  },
  "language_info": {
   "codemirror_mode": {
    "name": "ipython",
    "version": 3
   },
   "file_extension": ".py",
   "mimetype": "text/x-python",
   "name": "python",
   "nbconvert_exporter": "python",
   "pygments_lexer": "ipython3",
   "version": "3.11.5"
  },
  "orig_nbformat": 4
 },
 "nbformat": 4,
 "nbformat_minor": 2
}
