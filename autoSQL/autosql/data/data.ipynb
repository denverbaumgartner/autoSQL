{
 "cells": [
  {
   "cell_type": "code",
   "execution_count": 27,
   "metadata": {},
   "outputs": [
    {
     "name": "stdout",
     "output_type": "stream",
     "text": [
      "hello, world!\n"
     ]
    }
   ],
   "source": [
    "print('hello, world!')"
   ]
  },
  {
   "cell_type": "code",
   "execution_count": 28,
   "metadata": {},
   "outputs": [
    {
     "data": {
      "text/plain": [
       "True"
      ]
     },
     "execution_count": 28,
     "metadata": {},
     "output_type": "execute_result"
    }
   ],
   "source": [
    "import os\n",
    "from data import SQLData\n",
    "from datasets import Dataset\n",
    "from dotenv import load_dotenv\n",
    "import datasets\n",
    "\n",
    "load_dotenv(\"../../.env\")"
   ]
  },
  {
   "cell_type": "code",
   "execution_count": 29,
   "metadata": {},
   "outputs": [],
   "source": [
    "HUGGING_FACE_WRITE_TOKEN = os.getenv(\"HUGGING_FACE_WRITE_TOKEN\")\n",
    "\n",
    "hf_spider_dev = 'alagaesia/spider_dev'\n",
    "hf_spider_dev_preds = 'alagaesia/spider_dev_preds'"
   ]
  },
  {
   "cell_type": "code",
   "execution_count": 30,
   "metadata": {},
   "outputs": [
    {
     "data": {
      "application/vnd.jupyter.widget-view+json": {
       "model_id": "2e7d359bc84243129562bde35f50bd7e",
       "version_major": 2,
       "version_minor": 0
      },
      "text/plain": [
       "Downloading readme:   0%|          | 0.00/1.46k [00:00<?, ?B/s]"
      ]
     },
     "metadata": {},
     "output_type": "display_data"
    },
    {
     "data": {
      "application/vnd.jupyter.widget-view+json": {
       "model_id": "ab3696e6795844a986a4c2062681152d",
       "version_major": 2,
       "version_minor": 0
      },
      "text/plain": [
       "Downloading data files:   0%|          | 0/1 [00:00<?, ?it/s]"
      ]
     },
     "metadata": {},
     "output_type": "display_data"
    },
    {
     "data": {
      "application/vnd.jupyter.widget-view+json": {
       "model_id": "62a69afddad24ebea1925b9aa8ca0cb2",
       "version_major": 2,
       "version_minor": 0
      },
      "text/plain": [
       "Downloading data:   0%|          | 0.00/82.2k [00:00<?, ?B/s]"
      ]
     },
     "metadata": {},
     "output_type": "display_data"
    },
    {
     "data": {
      "application/vnd.jupyter.widget-view+json": {
       "model_id": "76b475fee40147efa8098956af6c775d",
       "version_major": 2,
       "version_minor": 0
      },
      "text/plain": [
       "Extracting data files:   0%|          | 0/1 [00:00<?, ?it/s]"
      ]
     },
     "metadata": {},
     "output_type": "display_data"
    },
    {
     "data": {
      "application/vnd.jupyter.widget-view+json": {
       "model_id": "7df6498981114323b70bb45435e7f3d9",
       "version_major": 2,
       "version_minor": 0
      },
      "text/plain": [
       "Generating train split:   0%|          | 0/1034 [00:00<?, ? examples/s]"
      ]
     },
     "metadata": {},
     "output_type": "display_data"
    }
   ],
   "source": [
    "sqp = SQLData.from_dataset(hf_spider_dev)"
   ]
  },
  {
   "cell_type": "code",
   "execution_count": 31,
   "metadata": {},
   "outputs": [],
   "source": [
    "#sqp.load_data(hf_spider_dev_preds)"
   ]
  },
  {
   "cell_type": "code",
   "execution_count": 32,
   "metadata": {},
   "outputs": [
    {
     "data": {
      "text/plain": [
       "{'db_id': 'concert_singer',\n",
       " 'query': 'SELECT count(*) FROM singer',\n",
       " 'question': 'How many singers do we have?',\n",
       " 'create_w_keys': 'CREATE TABLE \"stadium\" ( \"Stadium_ID\" int, \"Location\" text, \"Name\" text, \"Capacity\" int, \"Highest\" int, \"Lowest\" int, \"Average\" int, PRIMARY KEY (\"Stadium_ID\") ); CREATE TABLE \"singer\" ( \"Singer_ID\" int, \"Name\" text, \"Country\" text, \"Song_Name\" text, \"Song_release_year\" text, \"Age\" int, \"Is_male\" bool, PRIMARY KEY (\"Singer_ID\") ); CREATE TABLE \"concert\" ( \"concert_ID\" int, \"concert_Name\" text, \"Theme\" text, \"Stadium_ID\" text, \"Year\" text, PRIMARY KEY (\"concert_ID\"), FOREIGN KEY (\"Stadium_ID\") REFERENCES \"stadium\"(\"Stadium_ID\") ); CREATE TABLE \"singer_in_concert\" ( \"concert_ID\" int, \"Singer_ID\" text, PRIMARY KEY (\"concert_ID\",\"Singer_ID\"), FOREIGN KEY (\"concert_ID\") REFERENCES \"concert\"(\"concert_ID\"), FOREIGN KEY (\"Singer_ID\") REFERENCES \"singer\"(\"Singer_ID\") ); ',\n",
       " 'create_wo_keys': 'CREATE TABLE stadium (Stadium_ID INT, Location TEXT, Name TEXT, Capacity INT, Highest INT, Lowest INT, Average INT); CREATE TABLE singer (Singer_ID INT, Name TEXT, Country TEXT, Song_Name TEXT, Song_release_year TEXT, Age INT, Is_male bool); CREATE TABLE concert (concert_ID INT, concert_Name TEXT, Theme TEXT, Stadium_ID TEXT, Year TEXT); CREATE TABLE singer_in_concert (concert_ID INT, Singer_ID TEXT); ',\n",
       " 'difficulty': 'easy'}"
      ]
     },
     "execution_count": 32,
     "metadata": {},
     "output_type": "execute_result"
    }
   ],
   "source": [
    "sqp.data[hf_spider_dev]['train'][0]"
   ]
  },
  {
   "cell_type": "code",
   "execution_count": 33,
   "metadata": {},
   "outputs": [
    {
     "data": {
      "application/vnd.jupyter.widget-view+json": {
       "model_id": "53837b3fcb9a4b02a66b29af15a8ce81",
       "version_major": 2,
       "version_minor": 0
      },
      "text/plain": [
       "Map:   0%|          | 0/1034 [00:00<?, ? examples/s]"
      ]
     },
     "metadata": {},
     "output_type": "display_data"
    }
   ],
   "source": [
    "\n",
    "def dep_request_creation(\n",
    "    strings: list[str],\n",
    "    create_statement: str,\n",
    "    question: str,\n",
    "    create_statement_index: int,\n",
    "    question_index: int,\n",
    ") -> str: \n",
    "    \n",
    "    modified_strings = strings.copy()\n",
    "    \n",
    "    modified_strings.insert(create_statement_index, create_statement)\n",
    "    modified_strings.insert(question_index, question)\n",
    "\n",
    "    return ' '.join(modified_strings)\n",
    "\n",
    "def dep_dataset_request_creation(\n",
    "    dataset: Dataset,\n",
    "    strings: list[str],\n",
    "    request_column: str,\n",
    "    create_statement_column: str,\n",
    "    question_column: str,\n",
    "    create_statement_index: int,\n",
    "    question_index: int,\n",
    ") -> str: \n",
    "    \n",
    "    create_statement = dataset[create_statement_column]\n",
    "    question = dataset[question_column]\n",
    "\n",
    "    request_string = dep_request_creation(\n",
    "        strings,\n",
    "        create_statement,\n",
    "        question,\n",
    "        create_statement_index,\n",
    "        question_index,\n",
    "    )\n",
    "\n",
    "    return {request_column: request_string}\n",
    "\n",
    "request_column = 'zero_shot_request_complex'\n",
    "create_statement_column = 'create_w_keys'\n",
    "question_column = 'question'\n",
    "\n",
    "strings = ['Given the following SQL schema: ', 'Provide a SQL query that answers the following question: ', 'Only respond with the SQL query.']\n",
    "\n",
    "strings = [\n",
    "    '### Complete sqlite SQL query only and with no explanation, and do not select extra columns that are not explicitly requested in the query.\\n',\n",
    "    '### Sqlite SQL tables, with their properties:\\n',\n",
    "    '#\\n',\n",
    "    '# ', # create statement goes here (index 4)\n",
    "    '\\n', \n",
    "    '#\\n',\n",
    "    '### ', # question goes here (index 8) - must account for prior insertion\n",
    "    '\\n', \n",
    "    'SQL QUERY:',\n",
    "]\n",
    "\n",
    "create_statement_index = 4\n",
    "question_index = 8\n",
    "\n",
    "sqp.data[hf_spider_dev]['train'] = sqp.data[hf_spider_dev]['train'].map(dep_dataset_request_creation, fn_kwargs = {'strings': strings, 'request_column': request_column, 'create_statement_column': create_statement_column, 'question_column': question_column, 'create_statement_index': create_statement_index, 'question_index': question_index}, load_from_cache_file=False)"
   ]
  },
  {
   "cell_type": "code",
   "execution_count": 35,
   "metadata": {},
   "outputs": [
    {
     "data": {
      "text/plain": [
       "'### Complete sqlite SQL query only and with no explanation, and do not select extra columns that are not explicitly requested in the query.\\n ### Sqlite SQL tables, with their properties:\\n #\\n #  CREATE TABLE \"stadium\" ( \"Stadium_ID\" int, \"Location\" text, \"Name\" text, \"Capacity\" int, \"Highest\" int, \"Lowest\" int, \"Average\" int, PRIMARY KEY (\"Stadium_ID\") ); CREATE TABLE \"singer\" ( \"Singer_ID\" int, \"Name\" text, \"Country\" text, \"Song_Name\" text, \"Song_release_year\" text, \"Age\" int, \"Is_male\" bool, PRIMARY KEY (\"Singer_ID\") ); CREATE TABLE \"concert\" ( \"concert_ID\" int, \"concert_Name\" text, \"Theme\" text, \"Stadium_ID\" text, \"Year\" text, PRIMARY KEY (\"concert_ID\"), FOREIGN KEY (\"Stadium_ID\") REFERENCES \"stadium\"(\"Stadium_ID\") ); CREATE TABLE \"singer_in_concert\" ( \"concert_ID\" int, \"Singer_ID\" text, PRIMARY KEY (\"concert_ID\",\"Singer_ID\"), FOREIGN KEY (\"concert_ID\") REFERENCES \"concert\"(\"concert_ID\"), FOREIGN KEY (\"Singer_ID\") REFERENCES \"singer\"(\"Singer_ID\") );  \\n #\\n ###  How many singers do we have? \\n SQL QUERY:'"
      ]
     },
     "execution_count": 35,
     "metadata": {},
     "output_type": "execute_result"
    }
   ],
   "source": [
    "sqp.data[hf_spider_dev]['train'][0]['zero_shot_request_complex']"
   ]
  },
  {
   "cell_type": "code",
   "execution_count": 36,
   "metadata": {},
   "outputs": [
    {
     "data": {
      "text/plain": [
       "Dataset({\n",
       "    features: ['db_id', 'query', 'question', 'create_w_keys', 'create_wo_keys', 'difficulty', 'zero_shot_request_complex'],\n",
       "    num_rows: 1034\n",
       "})"
      ]
     },
     "execution_count": 36,
     "metadata": {},
     "output_type": "execute_result"
    }
   ],
   "source": [
    "sqp.data[hf_spider_dev]['train']"
   ]
  },
  {
   "cell_type": "code",
   "execution_count": 37,
   "metadata": {},
   "outputs": [],
   "source": [
    "def request_creation(\n",
    "    create_statement: str, \n",
    "    question: str,\n",
    "):\n",
    "    return f\"Provide the SQL query that answers the QUESTION, with no explanation or special characters. CONTEXT: Relevant SQL tables, with their properties: {create_statement} QUESTION: {question} \"\n",
    "\n",
    "def dataset_request_creation(\n",
    "    dataset: Dataset,\n",
    "    request_column: str,\n",
    "    create_statement_column: str,\n",
    "    question_column: str,\n",
    "):\n",
    "    \n",
    "    create_statement = dataset[create_statement_column]\n",
    "    question = dataset[question_column]\n",
    "\n",
    "    request_string = request_creation(\n",
    "        create_statement,\n",
    "        question,\n",
    "    )\n",
    "\n",
    "    return {request_column: request_string}"
   ]
  },
  {
   "cell_type": "code",
   "execution_count": 38,
   "metadata": {},
   "outputs": [],
   "source": [
    "request_column = 'zero_shot_request'\n",
    "create_statement_column = 'create_w_keys'\n",
    "question_column = 'question'"
   ]
  },
  {
   "cell_type": "code",
   "execution_count": 39,
   "metadata": {},
   "outputs": [
    {
     "data": {
      "application/vnd.jupyter.widget-view+json": {
       "model_id": "dbac7e12bfdb4260be98fb3025afd62c",
       "version_major": 2,
       "version_minor": 0
      },
      "text/plain": [
       "Map:   0%|          | 0/1034 [00:00<?, ? examples/s]"
      ]
     },
     "metadata": {},
     "output_type": "display_data"
    }
   ],
   "source": [
    "sqp.data[hf_spider_dev]['train'] = sqp.data[hf_spider_dev]['train'].map(dataset_request_creation, fn_kwargs = {'request_column': request_column, 'create_statement_column': create_statement_column, 'question_column': question_column}, load_from_cache_file=False)"
   ]
  },
  {
   "cell_type": "code",
   "execution_count": 40,
   "metadata": {},
   "outputs": [
    {
     "data": {
      "text/plain": [
       "{'db_id': 'concert_singer',\n",
       " 'query': 'SELECT count(*) FROM singer',\n",
       " 'question': 'How many singers do we have?',\n",
       " 'create_w_keys': 'CREATE TABLE \"stadium\" ( \"Stadium_ID\" int, \"Location\" text, \"Name\" text, \"Capacity\" int, \"Highest\" int, \"Lowest\" int, \"Average\" int, PRIMARY KEY (\"Stadium_ID\") ); CREATE TABLE \"singer\" ( \"Singer_ID\" int, \"Name\" text, \"Country\" text, \"Song_Name\" text, \"Song_release_year\" text, \"Age\" int, \"Is_male\" bool, PRIMARY KEY (\"Singer_ID\") ); CREATE TABLE \"concert\" ( \"concert_ID\" int, \"concert_Name\" text, \"Theme\" text, \"Stadium_ID\" text, \"Year\" text, PRIMARY KEY (\"concert_ID\"), FOREIGN KEY (\"Stadium_ID\") REFERENCES \"stadium\"(\"Stadium_ID\") ); CREATE TABLE \"singer_in_concert\" ( \"concert_ID\" int, \"Singer_ID\" text, PRIMARY KEY (\"concert_ID\",\"Singer_ID\"), FOREIGN KEY (\"concert_ID\") REFERENCES \"concert\"(\"concert_ID\"), FOREIGN KEY (\"Singer_ID\") REFERENCES \"singer\"(\"Singer_ID\") ); ',\n",
       " 'create_wo_keys': 'CREATE TABLE stadium (Stadium_ID INT, Location TEXT, Name TEXT, Capacity INT, Highest INT, Lowest INT, Average INT); CREATE TABLE singer (Singer_ID INT, Name TEXT, Country TEXT, Song_Name TEXT, Song_release_year TEXT, Age INT, Is_male bool); CREATE TABLE concert (concert_ID INT, concert_Name TEXT, Theme TEXT, Stadium_ID TEXT, Year TEXT); CREATE TABLE singer_in_concert (concert_ID INT, Singer_ID TEXT); ',\n",
       " 'difficulty': 'easy',\n",
       " 'zero_shot_request_complex': '### Complete sqlite SQL query only and with no explanation, and do not select extra columns that are not explicitly requested in the query.\\n ### Sqlite SQL tables, with their properties:\\n #\\n #  CREATE TABLE \"stadium\" ( \"Stadium_ID\" int, \"Location\" text, \"Name\" text, \"Capacity\" int, \"Highest\" int, \"Lowest\" int, \"Average\" int, PRIMARY KEY (\"Stadium_ID\") ); CREATE TABLE \"singer\" ( \"Singer_ID\" int, \"Name\" text, \"Country\" text, \"Song_Name\" text, \"Song_release_year\" text, \"Age\" int, \"Is_male\" bool, PRIMARY KEY (\"Singer_ID\") ); CREATE TABLE \"concert\" ( \"concert_ID\" int, \"concert_Name\" text, \"Theme\" text, \"Stadium_ID\" text, \"Year\" text, PRIMARY KEY (\"concert_ID\"), FOREIGN KEY (\"Stadium_ID\") REFERENCES \"stadium\"(\"Stadium_ID\") ); CREATE TABLE \"singer_in_concert\" ( \"concert_ID\" int, \"Singer_ID\" text, PRIMARY KEY (\"concert_ID\",\"Singer_ID\"), FOREIGN KEY (\"concert_ID\") REFERENCES \"concert\"(\"concert_ID\"), FOREIGN KEY (\"Singer_ID\") REFERENCES \"singer\"(\"Singer_ID\") );  \\n #\\n ###  How many singers do we have? \\n SQL QUERY:',\n",
       " 'zero_shot_request': 'Provide the SQL query that answers the QUESTION, with no explanation or special characters. CONTEXT: Relevant SQL tables, with their properties: CREATE TABLE \"stadium\" ( \"Stadium_ID\" int, \"Location\" text, \"Name\" text, \"Capacity\" int, \"Highest\" int, \"Lowest\" int, \"Average\" int, PRIMARY KEY (\"Stadium_ID\") ); CREATE TABLE \"singer\" ( \"Singer_ID\" int, \"Name\" text, \"Country\" text, \"Song_Name\" text, \"Song_release_year\" text, \"Age\" int, \"Is_male\" bool, PRIMARY KEY (\"Singer_ID\") ); CREATE TABLE \"concert\" ( \"concert_ID\" int, \"concert_Name\" text, \"Theme\" text, \"Stadium_ID\" text, \"Year\" text, PRIMARY KEY (\"concert_ID\"), FOREIGN KEY (\"Stadium_ID\") REFERENCES \"stadium\"(\"Stadium_ID\") ); CREATE TABLE \"singer_in_concert\" ( \"concert_ID\" int, \"Singer_ID\" text, PRIMARY KEY (\"concert_ID\",\"Singer_ID\"), FOREIGN KEY (\"concert_ID\") REFERENCES \"concert\"(\"concert_ID\"), FOREIGN KEY (\"Singer_ID\") REFERENCES \"singer\"(\"Singer_ID\") );  QUESTION: How many singers do we have? '}"
      ]
     },
     "execution_count": 40,
     "metadata": {},
     "output_type": "execute_result"
    }
   ],
   "source": [
    "sqp.data[hf_spider_dev]['train'][0]"
   ]
  },
  {
   "cell_type": "code",
   "execution_count": 12,
   "metadata": {},
   "outputs": [
    {
     "name": "stdout",
     "output_type": "stream",
     "text": [
      "Provide the SQL query that answers the QUESTION, with no explanation or special characters. CONTEXT: Relevant SQL tables, with their properties: CREATE TABLE \"stadium\" ( \"Stadium_ID\" int, \"Location\" text, \"Name\" text, \"Capacity\" int, \"Highest\" int, \"Lowest\" int, \"Average\" int, PRIMARY KEY (\"Stadium_ID\") ); CREATE TABLE \"singer\" ( \"Singer_ID\" int, \"Name\" text, \"Country\" text, \"Song_Name\" text, \"Song_release_year\" text, \"Age\" int, \"Is_male\" bool, PRIMARY KEY (\"Singer_ID\") ); CREATE TABLE \"concert\" ( \"concert_ID\" int, \"concert_Name\" text, \"Theme\" text, \"Stadium_ID\" text, \"Year\" text, PRIMARY KEY (\"concert_ID\"), FOREIGN KEY (\"Stadium_ID\") REFERENCES \"stadium\"(\"Stadium_ID\") ); CREATE TABLE \"singer_in_concert\" ( \"concert_ID\" int, \"Singer_ID\" text, PRIMARY KEY (\"concert_ID\",\"Singer_ID\"), FOREIGN KEY (\"concert_ID\") REFERENCES \"concert\"(\"concert_ID\"), FOREIGN KEY (\"Singer_ID\") REFERENCES \"singer\"(\"Singer_ID\") );  QUESTION: How many singers do we have? \n"
     ]
    }
   ],
   "source": [
    "print(sqp.data[hf_spider_dev]['train'][0]['zero_shot_request'])"
   ]
  },
  {
   "cell_type": "code",
   "execution_count": null,
   "metadata": {},
   "outputs": [],
   "source": [
    "'''\n",
    "sqp.hub_upload(\n",
    "    repo_id=hf_spider_dev_preds,\n",
    "    token=HUGGING_FACE_WRITE_TOKEN,\n",
    "    dataset=sqp.data[hf_spider_dev],\n",
    ")\n",
    "'''"
   ]
  },
  {
   "cell_type": "code",
   "execution_count": 13,
   "metadata": {},
   "outputs": [
    {
     "data": {
      "text/plain": [
       "{'db_id': 'concert_singer',\n",
       " 'query': 'SELECT count(*) FROM singer',\n",
       " 'question': 'How many singers do we have?',\n",
       " 'create_w_keys': 'CREATE TABLE \"stadium\" ( \"Stadium_ID\" int, \"Location\" text, \"Name\" text, \"Capacity\" int, \"Highest\" int, \"Lowest\" int, \"Average\" int, PRIMARY KEY (\"Stadium_ID\") ); CREATE TABLE \"singer\" ( \"Singer_ID\" int, \"Name\" text, \"Country\" text, \"Song_Name\" text, \"Song_release_year\" text, \"Age\" int, \"Is_male\" bool, PRIMARY KEY (\"Singer_ID\") ); CREATE TABLE \"concert\" ( \"concert_ID\" int, \"concert_Name\" text, \"Theme\" text, \"Stadium_ID\" text, \"Year\" text, PRIMARY KEY (\"concert_ID\"), FOREIGN KEY (\"Stadium_ID\") REFERENCES \"stadium\"(\"Stadium_ID\") ); CREATE TABLE \"singer_in_concert\" ( \"concert_ID\" int, \"Singer_ID\" text, PRIMARY KEY (\"concert_ID\",\"Singer_ID\"), FOREIGN KEY (\"concert_ID\") REFERENCES \"concert\"(\"concert_ID\"), FOREIGN KEY (\"Singer_ID\") REFERENCES \"singer\"(\"Singer_ID\") ); ',\n",
       " 'create_wo_keys': 'CREATE TABLE stadium (Stadium_ID INT, Location TEXT, Name TEXT, Capacity INT, Highest INT, Lowest INT, Average INT); CREATE TABLE singer (Singer_ID INT, Name TEXT, Country TEXT, Song_Name TEXT, Song_release_year TEXT, Age INT, Is_male bool); CREATE TABLE concert (concert_ID INT, concert_Name TEXT, Theme TEXT, Stadium_ID TEXT, Year TEXT); CREATE TABLE singer_in_concert (concert_ID INT, Singer_ID TEXT); ',\n",
       " 'difficulty': 'easy',\n",
       " 'zero_shot_request': 'Provide the SQL query that answers the QUESTION, with no explanation or special characters. CONTEXT: Relevant SQL tables, with their properties: CREATE TABLE \"stadium\" ( \"Stadium_ID\" int, \"Location\" text, \"Name\" text, \"Capacity\" int, \"Highest\" int, \"Lowest\" int, \"Average\" int, PRIMARY KEY (\"Stadium_ID\") ); CREATE TABLE \"singer\" ( \"Singer_ID\" int, \"Name\" text, \"Country\" text, \"Song_Name\" text, \"Song_release_year\" text, \"Age\" int, \"Is_male\" bool, PRIMARY KEY (\"Singer_ID\") ); CREATE TABLE \"concert\" ( \"concert_ID\" int, \"concert_Name\" text, \"Theme\" text, \"Stadium_ID\" text, \"Year\" text, PRIMARY KEY (\"concert_ID\"), FOREIGN KEY (\"Stadium_ID\") REFERENCES \"stadium\"(\"Stadium_ID\") ); CREATE TABLE \"singer_in_concert\" ( \"concert_ID\" int, \"Singer_ID\" text, PRIMARY KEY (\"concert_ID\",\"Singer_ID\"), FOREIGN KEY (\"concert_ID\") REFERENCES \"concert\"(\"concert_ID\"), FOREIGN KEY (\"Singer_ID\") REFERENCES \"singer\"(\"Singer_ID\") );  QUESTION: How many singers do we have? '}"
      ]
     },
     "execution_count": 13,
     "metadata": {},
     "output_type": "execute_result"
    }
   ],
   "source": [
    "sqp.data[hf_spider_dev]['train'][0]"
   ]
  },
  {
   "cell_type": "code",
   "execution_count": 14,
   "metadata": {},
   "outputs": [],
   "source": [
    "goal = 200\n",
    "goal_per_each = 3\n",
    "db_ids = {}\n",
    "subset = []\n",
    "\n",
    "db_queries = {}\n",
    "\n",
    "sqp.data[hf_spider_dev]['train'][0]\n",
    "\n",
    "for i in range(len(sqp.data[hf_spider_dev]['train'])):\n",
    "\n",
    "    db_id = sqp.data[hf_spider_dev]['train'][i]['db_id']\n",
    "    difficulty = sqp.data[hf_spider_dev]['train'][i]['difficulty']\n",
    "    query = sqp.data[hf_spider_dev]['train'][i]['query']\n",
    "\n",
    "    if db_id not in db_ids:\n",
    "        db_ids[db_id] = {}\n",
    "        db_ids[db_id][difficulty] = 1\n",
    "\n",
    "        db_queries[db_id] = {}\n",
    "        db_queries[db_id][difficulty] = [query]\n",
    "\n",
    "        subset.append(sqp.data[hf_spider_dev]['train'][i])\n",
    "    else:\n",
    "        if difficulty not in db_ids[db_id]:\n",
    "            db_ids[db_id][difficulty] = 1\n",
    "\n",
    "            db_queries[db_id][difficulty] = [query]\n",
    "\n",
    "            subset.append(sqp.data[hf_spider_dev]['train'][i])\n",
    "        else:\n",
    "            if db_ids[db_id][difficulty] < goal_per_each and query not in db_queries[db_id][difficulty]:\n",
    "                db_ids[db_id][difficulty] += 1\n",
    "\n",
    "                db_queries[db_id][difficulty].append(query)\n",
    "\n",
    "                subset.append(sqp.data[hf_spider_dev]['train'][i])\n",
    "            else: \n",
    "                continue"
   ]
  },
  {
   "cell_type": "code",
   "execution_count": 16,
   "metadata": {},
   "outputs": [],
   "source": [
    "curated_dataset = Dataset.from_dict({k: [item[k] for item in subset] for k in subset[0]})\n"
   ]
  },
  {
   "cell_type": "code",
   "execution_count": 17,
   "metadata": {},
   "outputs": [
    {
     "data": {
      "text/plain": [
       "['SELECT count(*) FROM singer',\n",
       " 'SELECT name ,  country ,  age FROM singer ORDER BY age DESC',\n",
       " \"SELECT avg(age) ,  min(age) ,  max(age) FROM singer WHERE country  =  'France'\",\n",
       " 'SELECT song_name ,  song_release_year FROM singer ORDER BY age LIMIT 1',\n",
       " 'SELECT DISTINCT country FROM singer WHERE age  >  20',\n",
       " 'SELECT song_name FROM singer WHERE age  >  (SELECT avg(age) FROM singer)',\n",
       " 'SELECT T2.name ,  T2.capacity FROM concert AS T1 JOIN stadium AS T2 ON T1.stadium_id  =  T2.stadium_id WHERE T1.year  >=  2014 GROUP BY T2.stadium_id ORDER BY count(*) DESC LIMIT 1',\n",
       " 'select t2.name ,  t2.capacity from concert as t1 join stadium as t2 on t1.stadium_id  =  t2.stadium_id where t1.year  >  2013 group by t2.stadium_id order by count(*) desc limit 1',\n",
       " 'SELECT YEAR FROM concert GROUP BY YEAR ORDER BY count(*) DESC LIMIT 1',\n",
       " 'SELECT name FROM stadium WHERE stadium_id NOT IN (SELECT stadium_id FROM concert)',\n",
       " 'SELECT T2.name ,  T2.location FROM concert AS T1 JOIN stadium AS T2 ON T1.stadium_id  =  T2.stadium_id WHERE T1.Year  =  2014 INTERSECT SELECT T2.name ,  T2.location FROM concert AS T1 JOIN stadium AS T2 ON T1.stadium_id  =  T2.stadium_id WHERE T1.Year  =  2015',\n",
       " 'SELECT count(*) FROM pets WHERE weight  >  10',\n",
       " 'SELECT weight FROM pets ORDER BY pet_age LIMIT 1',\n",
       " 'SELECT max(weight) ,  petType FROM pets GROUP BY petType',\n",
       " 'SELECT count(*) FROM student AS T1 JOIN has_pet AS T2 ON T1.stuid  =  T2.stuid WHERE T1.age  >  20',\n",
       " \"SELECT count(*) FROM student AS T1 JOIN has_pet AS T2 ON T1.stuid  =  T2.stuid JOIN pets AS T3 ON T2.petid  =  T3.petid WHERE T1.sex  =  'F' AND T3.pettype  =  'dog'\",\n",
       " 'SELECT count(DISTINCT pettype) FROM pets',\n",
       " \"SELECT DISTINCT T1.Fname FROM student AS T1 JOIN has_pet AS T2 ON T1.stuid  =  T2.stuid JOIN pets AS T3 ON T3.petid  =  T2.petid WHERE T3.pettype  =  'cat' OR T3.pettype  =  'dog'\",\n",
       " \"select t1.fname from student as t1 join has_pet as t2 on t1.stuid  =  t2.stuid join pets as t3 on t3.petid  =  t2.petid where t3.pettype  =  'cat' intersect select t1.fname from student as t1 join has_pet as t2 on t1.stuid  =  t2.stuid join pets as t3 on t3.petid  =  t2.petid where t3.pettype  =  'dog'\",\n",
       " \"SELECT T1.Fname FROM student AS T1 JOIN has_pet AS T2 ON T1.stuid  =  T2.stuid JOIN pets AS T3 ON T3.petid  =  T2.petid WHERE T3.pettype  =  'cat' INTERSECT SELECT T1.Fname FROM student AS T1 JOIN has_pet AS T2 ON T1.stuid  =  T2.stuid JOIN pets AS T3 ON T3.petid  =  T2.petid WHERE T3.pettype  =  'dog'\",\n",
       " \"SELECT stuid FROM student EXCEPT SELECT T1.stuid FROM student AS T1 JOIN has_pet AS T2 ON T1.stuid  =  T2.stuid JOIN pets AS T3 ON T3.petid  =  T2.petid WHERE T3.pettype  =  'cat'\",\n",
       " \"SELECT T1.lname FROM student AS T1 JOIN has_pet AS T2 ON T1.stuid  =  T2.stuid JOIN pets AS T3 ON T3.petid  =  T2.petid WHERE T3.pet_age  =  3 AND T3.pettype  =  'cat'\",\n",
       " 'SELECT count(*) FROM CONTINENTS;',\n",
       " 'SELECT T1.ContId ,  T1.Continent ,  count(*) FROM CONTINENTS AS T1 JOIN COUNTRIES AS T2 ON T1.ContId  =  T2.Continent GROUP BY T1.ContId;',\n",
       " 'SELECT count(*) FROM COUNTRIES;',\n",
       " 'SELECT T1.FullName ,  T1.Id ,  count(*) FROM CAR_MAKERS AS T1 JOIN MODEL_LIST AS T2 ON T1.Id  =  T2.Maker GROUP BY T1.Id;',\n",
       " 'SELECT T1.Model FROM CAR_NAMES AS T1 JOIN CARS_DATA AS T2 ON T1.MakeId  =  T2.Id ORDER BY T2.horsepower ASC LIMIT 1;',\n",
       " 'SELECT T1.model FROM CAR_NAMES AS T1 JOIN CARS_DATA AS T2 ON T1.MakeId  =  T2.Id WHERE T2.Weight  <  (SELECT avg(Weight) FROM CARS_DATA)',\n",
       " \"SELECT DISTINCT T1.Maker FROM CAR_MAKERS AS T1 JOIN MODEL_LIST AS T2 ON T1.Id  =  T2.Maker JOIN CAR_NAMES AS T3 ON T2.model  =  T3.model JOIN CARS_DATA AS T4 ON T3.MakeId  =  T4.id WHERE T4.year  =  '1970';\",\n",
       " 'SELECT T2.Make ,  T1.Year FROM CARS_DATA AS T1 JOIN CAR_NAMES AS T2 ON T1.Id  =  T2.MakeId WHERE T1.Year  =  (SELECT min(YEAR) FROM CARS_DATA);',\n",
       " 'SELECT DISTINCT T1.model FROM MODEL_LIST AS T1 JOIN CAR_NAMES AS T2 ON T1.model  =  T2.model JOIN CARS_DATA AS T3 ON T2.MakeId  =  T3.id WHERE T3.year  >  1980;',\n",
       " 'SELECT T1.Continent ,  count(*) FROM CONTINENTS AS T1 JOIN COUNTRIES AS T2 ON T1.ContId  =  T2.continent JOIN car_makers AS T3 ON T2.CountryId  =  T3.Country GROUP BY T1.Continent;',\n",
       " 'select count(*) ,  t2.fullname from model_list as t1 join car_makers as t2 on t1.maker  =  t2.id group by t2.id;',\n",
       " 'SELECT avg(mpg) FROM CARS_DATA WHERE Cylinders  =  4;',\n",
       " 'SELECT Country FROM AIRLINES WHERE Airline  =  \"JetBlue Airways\"',\n",
       " 'SELECT Abbreviation FROM AIRLINES WHERE Airline  =  \"JetBlue Airways\"',\n",
       " 'SELECT Airline ,  Abbreviation FROM AIRLINES WHERE Country  =  \"USA\"',\n",
       " 'SELECT AirportCode ,  AirportName FROM AIRPORTS WHERE city  =  \"Anthony\"',\n",
       " 'SELECT count(*) FROM AIRLINES',\n",
       " 'SELECT City ,  Country FROM AIRPORTS WHERE AirportName  =  \"Alton\"',\n",
       " 'SELECT count(*) FROM FLIGHTS AS T1 JOIN AIRPORTS AS T2 ON T1.DestAirport  =  T2.AirportCode JOIN AIRPORTS AS T3 ON T1.SourceAirport  =  T3.AirportCode WHERE T2.City  =  \"Ashley\" AND T3.City  =  \"Aberdeen\"',\n",
       " 'SELECT count(*) FROM FLIGHTS AS T1 JOIN AIRPORTS AS T2 ON T1.DestAirport  =  T2.AirportCode JOIN AIRLINES AS T3 ON T3.uid  =  T1.Airline WHERE T2.City  =  \"Aberdeen\" AND T3.Airline  =  \"United Airlines\"',\n",
       " 'SELECT T1.City FROM AIRPORTS AS T1 JOIN FLIGHTS AS T2 ON T1.AirportCode  =  T2.DestAirport GROUP BY T1.City ORDER BY count(*) DESC LIMIT 1',\n",
       " 'SELECT T1.City FROM AIRPORTS AS T1 JOIN FLIGHTS AS T2 ON T1.AirportCode  =  T2.SourceAirport GROUP BY T1.City ORDER BY count(*) DESC LIMIT 1',\n",
       " 'SELECT T1.AirportCode FROM AIRPORTS AS T1 JOIN FLIGHTS AS T2 ON T1.AirportCode  =  T2.DestAirport OR T1.AirportCode  =  T2.SourceAirport GROUP BY T1.AirportCode ORDER BY count(*) DESC LIMIT 1',\n",
       " 'SELECT count(*) FROM Flights AS T1 JOIN Airports AS T2 ON T1.DestAirport  =  T2.AirportCode WHERE T2.city  =  \"Aberdeen\" OR T2.city  =  \"Abilene\"',\n",
       " 'SELECT count(*) FROM employee',\n",
       " 'SELECT name FROM employee ORDER BY age',\n",
       " 'SELECT count(*) ,  city FROM employee GROUP BY city',\n",
       " 'SELECT city FROM employee WHERE age  <  30 GROUP BY city HAVING count(*)  >  1',\n",
       " 'SELECT count(*) ,  LOCATION FROM shop GROUP BY LOCATION',\n",
       " 'SELECT name FROM shop WHERE number_products  >  (SELECT avg(number_products) FROM shop)',\n",
       " 'SELECT t1.name FROM employee AS t1 JOIN evaluation AS t2 ON t1.Employee_ID  =  t2.Employee_ID GROUP BY t2.Employee_ID ORDER BY count(*) DESC LIMIT 1',\n",
       " 'SELECT t1.name FROM employee AS t1 JOIN evaluation AS t2 ON t1.Employee_ID  =  t2.Employee_ID ORDER BY t2.bonus DESC LIMIT 1',\n",
       " 'SELECT name FROM employee WHERE Employee_ID NOT IN (SELECT Employee_ID FROM evaluation)',\n",
       " 'SELECT t2.name FROM hiring AS t1 JOIN shop AS t2 ON t1.shop_id  =  t2.shop_id GROUP BY t1.shop_id ORDER BY count(*) DESC LIMIT 1',\n",
       " 'SELECT sum(bonus) FROM evaluation',\n",
       " 'SELECT count(*) FROM Documents',\n",
       " 'SELECT document_id ,  document_name ,  document_description FROM Documents',\n",
       " 'SELECT document_name ,  template_id FROM Documents WHERE Document_Description LIKE \"%w%\"',\n",
       " 'SELECT document_id ,  template_id ,  Document_Description FROM Documents WHERE document_name  =  \"Robbin CV\"',\n",
       " 'SELECT count(DISTINCT template_id) FROM Documents',\n",
       " 'SELECT T1.template_id ,  T2.Template_Type_Code FROM Documents AS T1 JOIN Templates AS T2 ON T1.template_id  =  T2.template_id GROUP BY T1.template_id ORDER BY count(*) DESC LIMIT 1',\n",
       " 'SELECT template_id FROM Documents GROUP BY template_id HAVING count(*)  >  1',\n",
       " 'SELECT template_id FROM Templates EXCEPT SELECT template_id FROM Documents',\n",
       " 'SELECT template_type_code FROM Templates GROUP BY template_type_code ORDER BY count(*) DESC LIMIT 1',\n",
       " 'SELECT T1.template_type_code FROM Templates AS T1 JOIN Documents AS T2 ON T1.template_id  =  T2.template_id GROUP BY T1.template_type_code ORDER BY count(*) DESC LIMIT 1',\n",
       " 'SELECT template_type_code FROM Templates EXCEPT SELECT template_type_code FROM Templates AS T1 JOIN Documents AS T2 ON T1.template_id  =  T2.template_id',\n",
       " 'SELECT T1.document_id ,  T2.document_name FROM Paragraphs AS T1 JOIN Documents AS T2 ON T1.document_id  =  T2.document_id GROUP BY T1.document_id ORDER BY count(*) DESC LIMIT 1',\n",
       " 'SELECT count(*) FROM teacher',\n",
       " 'SELECT Name FROM teacher ORDER BY Age ASC',\n",
       " 'SELECT Age ,  Hometown FROM teacher',\n",
       " 'select name from teacher where hometown != \"little lever urban district\"',\n",
       " 'SELECT Name FROM teacher WHERE Age  =  32 OR Age  =  33',\n",
       " 'SELECT Hometown FROM teacher ORDER BY Age ASC LIMIT 1',\n",
       " 'SELECT Hometown FROM teacher GROUP BY Hometown ORDER BY COUNT(*) DESC LIMIT 1',\n",
       " 'SELECT T3.Name ,  T2.Course FROM course_arrange AS T1 JOIN course AS T2 ON T1.Course_ID  =  T2.Course_ID JOIN teacher AS T3 ON T1.Teacher_ID  =  T3.Teacher_ID ORDER BY T3.Name',\n",
       " 'SELECT T3.Name FROM course_arrange AS T1 JOIN course AS T2 ON T1.Course_ID  =  T2.Course_ID JOIN teacher AS T3 ON T1.Teacher_ID  =  T3.Teacher_ID WHERE T2.Course  =  \"Math\"',\n",
       " 'SELECT count(*) FROM visitor WHERE age  <  30',\n",
       " 'SELECT name FROM visitor WHERE Level_of_membership  >  4 ORDER BY Level_of_membership DESC',\n",
       " 'SELECT avg(age) FROM visitor WHERE Level_of_membership  <=  4',\n",
       " 'SELECT name ,  Level_of_membership FROM visitor WHERE Level_of_membership  >  4 ORDER BY age DESC',\n",
       " 'SELECT museum_id ,  name FROM museum ORDER BY num_of_staff DESC LIMIT 1',\n",
       " 'SELECT avg(num_of_staff) FROM museum WHERE open_year  <  2009',\n",
       " 'SELECT name FROM museum WHERE num_of_staff  >  (SELECT min(num_of_staff) FROM museum WHERE open_year  >  2010)',\n",
       " 'SELECT t2.visitor_id ,  t1.name ,  t1.Level_of_membership FROM visitor AS t1 JOIN visit AS t2 ON t1.id  =  t2.visitor_id GROUP BY t2.visitor_id ORDER BY sum(t2.Total_spent) DESC LIMIT 1',\n",
       " 'SELECT t2.Museum_ID ,  t1.name FROM museum AS t1 JOIN visit AS t2 ON t1.Museum_ID  =  t2.Museum_ID GROUP BY t2.Museum_ID ORDER BY count(*) DESC LIMIT 1',\n",
       " 'SELECT name FROM museum WHERE Museum_ID NOT IN (SELECT museum_id FROM visit)',\n",
       " 'SELECT t1.name ,  t1.age FROM visitor AS t1 JOIN visit AS t2 ON t1.id  =  t2.visitor_id ORDER BY t2.num_of_ticket DESC LIMIT 1',\n",
       " 'SELECT t1.name FROM visitor AS t1 JOIN visit AS t2 ON t1.id  =  t2.visitor_id JOIN museum AS t3 ON t3.Museum_ID  =  t2.Museum_ID WHERE t3.open_year  <  2009 INTERSECT SELECT t1.name FROM visitor AS t1 JOIN visit AS t2 ON t1.id  =  t2.visitor_id JOIN museum AS t3 ON t3.Museum_ID  =  t2.Museum_ID WHERE t3.open_year  >  2011',\n",
       " 'SELECT count(*) FROM players',\n",
       " 'SELECT count(*) FROM matches',\n",
       " \"SELECT first_name ,  birth_date FROM players WHERE country_code  =  'USA'\",\n",
       " 'SELECT avg(loser_age) ,  avg(winner_age) FROM matches',\n",
       " 'SELECT avg(winner_rank) FROM matches',\n",
       " 'SELECT winner_name FROM matches WHERE YEAR  =  2013 INTERSECT SELECT winner_name FROM matches WHERE YEAR  =  2016',\n",
       " 'SELECT count(*) FROM matches WHERE YEAR  =  2013 OR YEAR  =  2016',\n",
       " \"SELECT T1.country_code ,  T1.first_name FROM players AS T1 JOIN matches AS T2 ON T1.player_id  =  T2.winner_id WHERE T2.tourney_name  =  'WTA Championships' INTERSECT SELECT T1.country_code ,  T1.first_name FROM players AS T1 JOIN matches AS T2 ON T1.player_id  =  T2.winner_id WHERE T2.tourney_name  =  'Australian Open'\",\n",
       " 'SELECT T1.country_code ,  T1.first_name FROM players AS T1 JOIN rankings AS T2 ON T1.player_id  =  T2.player_id ORDER BY T2.tours DESC LIMIT 1',\n",
       " 'SELECT YEAR FROM matches GROUP BY YEAR ORDER BY count(*) DESC LIMIT 1',\n",
       " \"SELECT count(*) FROM ship WHERE disposition_of_ship  =  'Captured'\",\n",
       " 'SELECT name ,  tonnage FROM ship ORDER BY name DESC',\n",
       " 'SELECT name ,  date FROM battle',\n",
       " 'SELECT max(killed) ,  min(killed) FROM death',\n",
       " 'SELECT avg(injured) FROM death',\n",
       " 'SELECT T1.id ,  T1.name FROM battle AS T1 JOIN ship AS T2 ON T1.id  =  T2.lost_in_battle JOIN death AS T3 ON T2.id  =  T3.caused_by_ship_id GROUP BY T1.id HAVING sum(T3.killed)  >  10',\n",
       " 'SELECT T2.id ,  T2.name FROM death AS T1 JOIN ship AS t2 ON T1.caused_by_ship_id  =  T2.id GROUP BY T2.id ORDER BY count(*) DESC LIMIT 1',\n",
       " 'SELECT count(DISTINCT RESULT) FROM battle',\n",
       " \"SELECT count(*) FROM battle WHERE id NOT IN ( SELECT lost_in_battle FROM ship WHERE tonnage  =  '225' );\",\n",
       " \"SELECT T1.name ,  T1.date FROM battle AS T1 JOIN ship AS T2 ON T1.id  =  T2.lost_in_battle WHERE T2.name  =  'Lettice' INTERSECT SELECT T1.name ,  T1.date FROM battle AS T1 JOIN ship AS T2 ON T1.id  =  T2.lost_in_battle WHERE T2.name  =  'HMS Atalanta'\",\n",
       " 'SELECT line_1 ,  line_2 FROM addresses',\n",
       " 'SELECT count(*) FROM Courses',\n",
       " \"SELECT course_description FROM Courses WHERE course_name  =  'math'\",\n",
       " \"SELECT zip_postcode FROM Addresses WHERE city  =  'Port Chelsea'\",\n",
       " 'SELECT T2.department_name ,  T1.department_id FROM Degree_Programs AS T1 JOIN Departments AS T2 ON T1.department_id  =  T2.department_id GROUP BY T1.department_id ORDER BY count(*) DESC LIMIT 1',\n",
       " 'select t2.department_name ,  t1.department_id from degree_programs as t1 join departments as t2 on t1.department_id  =  t2.department_id group by t1.department_id order by count(*) desc limit 1',\n",
       " \"SELECT count(*) FROM Departments AS T1 JOIN Degree_Programs AS T2 ON T1.department_id  =  T2.department_id WHERE T1.department_name  =  'engineer'\",\n",
       " 'SELECT section_name ,  section_description FROM Sections',\n",
       " 'SELECT T1.semester_name ,  T1.semester_id FROM Semesters AS T1 JOIN Student_Enrolment AS T2 ON T1.semester_id  =  T2.semester_id GROUP BY T1.semester_id ORDER BY count(*) DESC LIMIT 1',\n",
       " \"SELECT DISTINCT T1.first_name ,  T1.middle_name ,  T1.last_name FROM Students AS T1 JOIN Student_Enrolment AS T2 ON T1.student_id  =  T2.student_id JOIN Degree_Programs AS T3 ON T2.degree_program_id  =  T3.degree_program_id WHERE T3.degree_summary_name  =  'Bachelor'\",\n",
       " 'SELECT semester_name FROM Semesters WHERE semester_id NOT IN( SELECT semester_id FROM Student_Enrolment )',\n",
       " 'SELECT count(*) ,  student_course_id FROM Transcript_Contents GROUP BY student_course_id ORDER BY count(*) DESC LIMIT 1',\n",
       " 'SELECT Title FROM Cartoon ORDER BY title',\n",
       " 'SELECT Title FROM Cartoon WHERE Directed_by = \"Ben Jones\";',\n",
       " 'SELECT count(*) FROM Cartoon WHERE Written_by = \"Joseph Kuhr\";',\n",
       " 'SELECT title ,  Directed_by FROM Cartoon ORDER BY Original_air_date',\n",
       " 'SELECT Title FROM Cartoon WHERE Directed_by = \"Ben Jones\" OR Directed_by = \"Brandon Vietti\";',\n",
       " 'SELECT Country ,  count(*) FROM TV_Channel GROUP BY Country ORDER BY count(*) DESC LIMIT 1;',\n",
       " 'SELECT count(DISTINCT series_name) ,  count(DISTINCT content) FROM TV_Channel;',\n",
       " 'SELECT LANGUAGE ,  count(*) FROM TV_Channel GROUP BY LANGUAGE ORDER BY count(*) ASC LIMIT 1;',\n",
       " \"SELECT country FROM TV_Channel EXCEPT SELECT T1.country FROM TV_Channel AS T1 JOIN cartoon AS T2 ON T1.id = T2.Channel WHERE T2.written_by  =  'Todd Casey'\",\n",
       " \"SELECT T1.series_name ,  T1.country FROM TV_Channel AS T1 JOIN cartoon AS T2 ON T1.id = T2.Channel WHERE T2.directed_by  =  'Michael Chang' INTERSECT SELECT T1.series_name ,  T1.country FROM TV_Channel AS T1 JOIN cartoon AS T2 ON T1.id = T2.Channel WHERE T2.directed_by  =  'Ben Jones'\",\n",
       " 'SELECT count(*) FROM poker_player',\n",
       " 'SELECT Earnings FROM poker_player ORDER BY Earnings DESC',\n",
       " 'SELECT Final_Table_Made ,  Best_Finish FROM poker_player',\n",
       " 'SELECT avg(Earnings) FROM poker_player',\n",
       " 'SELECT Money_Rank FROM poker_player ORDER BY Earnings DESC LIMIT 1',\n",
       " 'SELECT T1.Name FROM people AS T1 JOIN poker_player AS T2 ON T1.People_ID  =  T2.People_ID WHERE T2.Earnings  >  300000',\n",
       " 'SELECT T1.Birth_Date FROM people AS T1 JOIN poker_player AS T2 ON T1.People_ID  =  T2.People_ID ORDER BY T2.Earnings ASC LIMIT 1',\n",
       " 'SELECT T2.Money_Rank FROM people AS T1 JOIN poker_player AS T2 ON T1.People_ID  =  T2.People_ID ORDER BY T1.Height DESC LIMIT 1',\n",
       " 'SELECT Nationality FROM people GROUP BY Nationality ORDER BY COUNT(*) DESC LIMIT 1',\n",
       " 'SELECT count(*) FROM area_code_state',\n",
       " 'SELECT contestant_number ,  contestant_name FROM contestants ORDER BY contestant_name DESC',\n",
       " 'SELECT vote_id ,  phone_number ,  state FROM votes',\n",
       " 'SELECT max(area_code) ,  min(area_code) FROM area_code_state',\n",
       " \"SELECT max(created) FROM votes WHERE state  =  'CA'\",\n",
       " \"SELECT contestant_name FROM contestants WHERE contestant_name != 'Jessie Alloway'\",\n",
       " 'SELECT T1.contestant_number , T1.contestant_name FROM contestants AS T1 JOIN votes AS T2 ON T1.contestant_number  =  T2.contestant_number GROUP BY T1.contestant_number ORDER BY count(*) ASC LIMIT 1',\n",
       " 'SELECT count(*) FROM contestants WHERE contestant_number NOT IN ( SELECT contestant_number FROM votes )',\n",
       " 'SELECT T1.area_code FROM area_code_state AS T1 JOIN votes AS T2 ON T1.state  =  T2.state GROUP BY T1.area_code ORDER BY count(*) DESC LIMIT 1',\n",
       " 'SELECT Name FROM country WHERE IndepYear  >  1950',\n",
       " 'SELECT count(*) FROM country WHERE GovernmentForm  =  \"Republic\"',\n",
       " 'SELECT sum(SurfaceArea) FROM country WHERE Region  =  \"Caribbean\"',\n",
       " 'SELECT Region FROM country AS T1 JOIN city AS T2 ON T1.Code  =  T2.CountryCode WHERE T2.Name  =  \"Kabul\"',\n",
       " 'SELECT T2.Language FROM country AS T1 JOIN countrylanguage AS T2 ON T1.Code  =  T2.CountryCode WHERE T1.Name  =  \"Aruba\" ORDER BY Percentage DESC LIMIT 1',\n",
       " 'SELECT Population ,  LifeExpectancy FROM country WHERE Name  =  \"Brazil\"',\n",
       " 'SELECT Population ,  Region FROM country WHERE Name  =  \"Angola\"',\n",
       " 'SELECT Name FROM country WHERE Continent  =  \"Asia\" ORDER BY LifeExpectancy LIMIT 1',\n",
       " 'SELECT T1.Name FROM country AS T1 JOIN countrylanguage AS T2 ON T1.Code  =  T2.CountryCode GROUP BY T1.Name ORDER BY COUNT(*) DESC LIMIT 1',\n",
       " 'SELECT T1.Continent FROM country AS T1 JOIN countrylanguage AS T2 ON T1.Code  =  T2.CountryCode GROUP BY T1.Continent ORDER BY COUNT(*) DESC LIMIT 1',\n",
       " 'SELECT DISTINCT T1.Region FROM country AS T1 JOIN countrylanguage AS T2 ON T1.Code  =  T2.CountryCode WHERE T2.Language  =  \"English\" OR T2.Language  =  \"Dutch\"',\n",
       " 'SELECT T2.Language FROM country AS T1 JOIN countrylanguage AS T2 ON T1.Code  =  T2.CountryCode WHERE T1.GovernmentForm  =  \"Republic\" GROUP BY T2.Language HAVING COUNT(*)  =  1',\n",
       " 'SELECT count(*) FROM conductor',\n",
       " 'SELECT Name FROM conductor ORDER BY Age ASC',\n",
       " \"SELECT Name FROM conductor WHERE Nationality != 'USA'\",\n",
       " 'SELECT max(SHARE) ,  min(SHARE) FROM performance WHERE TYPE != \"Live final\"',\n",
       " 'SELECT Name FROM conductor ORDER BY Year_of_Work DESC LIMIT 1',\n",
       " 'SELECT T1.Name ,  T2.Orchestra FROM conductor AS T1 JOIN orchestra AS T2 ON T1.Conductor_ID  =  T2.Conductor_ID',\n",
       " 'SELECT T1.Name FROM conductor AS T1 JOIN orchestra AS T2 ON T1.Conductor_ID  =  T2.Conductor_ID GROUP BY T2.Conductor_ID ORDER BY COUNT(*) DESC LIMIT 1',\n",
       " 'SELECT Record_Company FROM orchestra GROUP BY Record_Company ORDER BY COUNT(*) DESC LIMIT 1',\n",
       " 'SELECT Orchestra FROM orchestra WHERE Orchestra_ID NOT IN (SELECT Orchestra_ID FROM performance)',\n",
       " 'SELECT Record_Company FROM orchestra WHERE Year_of_Founded  <  2003 INTERSECT SELECT Record_Company FROM orchestra WHERE Year_of_Founded  >  2003',\n",
       " 'SELECT count(*) FROM Highschooler',\n",
       " 'SELECT name ,  grade FROM Highschooler',\n",
       " 'SELECT grade FROM Highschooler',\n",
       " 'SELECT grade FROM Highschooler WHERE name  =  \"Kyle\"',\n",
       " 'SELECT count(*) FROM Highschooler WHERE grade  =  9 OR grade  =  10',\n",
       " 'SELECT grade ,  count(*) FROM Highschooler GROUP BY grade',\n",
       " 'SELECT grade FROM Highschooler GROUP BY grade ORDER BY count(*) DESC LIMIT 1',\n",
       " 'SELECT T2.name FROM Friend AS T1 JOIN Highschooler AS T2 ON T1.student_id  =  T2.id GROUP BY T1.student_id ORDER BY count(*) DESC LIMIT 1',\n",
       " 'SELECT T3.name FROM Friend AS T1 JOIN Highschooler AS T2 ON T1.student_id  =  T2.id JOIN Highschooler AS T3 ON T1.friend_id  =  T3.id WHERE T2.name  =  \"Kyle\"',\n",
       " 'SELECT id FROM Highschooler EXCEPT SELECT student_id FROM Friend',\n",
       " 'SELECT T2.name FROM Likes AS T1 JOIN Highschooler AS T2 ON T1.student_id  =  T2.id GROUP BY T1.student_id ORDER BY count(*) DESC LIMIT 1',\n",
       " 'SELECT min(grade) FROM Highschooler WHERE id NOT IN (SELECT T1.student_id FROM Friend AS T1 JOIN Highschooler AS T2 ON T1.student_id  =  T2.id)',\n",
       " 'SELECT state FROM Owners INTERSECT SELECT state FROM Professionals',\n",
       " 'SELECT avg(age) FROM Dogs WHERE dog_id IN ( SELECT dog_id FROM Treatments )',\n",
       " \"SELECT professional_id ,  last_name ,  cell_number FROM Professionals WHERE state  =  'Indiana' UNION SELECT T1.professional_id ,  T1.last_name ,  T1.cell_number FROM Professionals AS T1 JOIN Treatments AS T2 ON T1.professional_id  =  T2.professional_id GROUP BY T1.professional_id HAVING count(*)  >  2\",\n",
       " 'select name from dogs where dog_id not in ( select dog_id from treatments group by dog_id having sum(cost_of_treatment)  >  1000 )',\n",
       " 'SELECT professional_id ,  role_code ,  email_address FROM Professionals EXCEPT SELECT T1.professional_id ,  T1.role_code ,  T1.email_address FROM Professionals AS T1 JOIN Treatments AS T2 ON T1.professional_id  =  T2.professional_id',\n",
       " 'SELECT T1.owner_id ,  T2.first_name ,  T2.last_name FROM Dogs AS T1 JOIN Owners AS T2 ON T1.owner_id  =  T2.owner_id GROUP BY T1.owner_id ORDER BY count(*) DESC LIMIT 1',\n",
       " 'SELECT T1.professional_id ,  T1.role_code ,  T1.first_name FROM Professionals AS T1 JOIN Treatments AS T2 ON T1.professional_id  =  T2.professional_id GROUP BY T1.professional_id HAVING count(*)  >=  2',\n",
       " 'SELECT T1.professional_id ,  T1.cell_number FROM Professionals AS T1 JOIN Treatments AS T2 ON T1.professional_id  =  T2.professional_id GROUP BY T1.professional_id HAVING count(*)  >=  2',\n",
       " 'SELECT T1.date_of_treatment ,  T2.first_name FROM Treatments AS T1 JOIN Professionals AS T2 ON T1.professional_id  =  T2.professional_id',\n",
       " 'SELECT count(DISTINCT dog_id) FROM Treatments',\n",
       " 'SELECT count(DISTINCT professional_id) FROM Treatments',\n",
       " 'SELECT avg(age) FROM Dogs',\n",
       " 'SELECT count(*) FROM singer',\n",
       " 'SELECT Name FROM singer ORDER BY Net_Worth_Millions ASC',\n",
       " 'SELECT Birth_Year ,  Citizenship FROM singer',\n",
       " 'SELECT Name FROM singer WHERE Citizenship != \"France\"',\n",
       " 'SELECT Name FROM singer WHERE Birth_Year  =  1948 OR Birth_Year  =  1949',\n",
       " 'SELECT Name FROM singer ORDER BY Net_Worth_Millions DESC LIMIT 1',\n",
       " 'SELECT Citizenship FROM singer GROUP BY Citizenship ORDER BY COUNT(*) DESC LIMIT 1',\n",
       " 'select citizenship from singer group by citizenship order by count(*) desc limit 1',\n",
       " 'SELECT Name FROM singer WHERE Singer_ID NOT IN (SELECT Singer_ID FROM song)',\n",
       " 'SELECT count(*) FROM Other_Available_Features',\n",
       " 'SELECT T2.feature_type_name FROM Other_Available_Features AS T1 JOIN Ref_Feature_Types AS T2 ON T1.feature_type_code  =  T2.feature_type_code WHERE T1.feature_name  =  \"AirCon\"',\n",
       " 'SELECT T2.property_type_description FROM Properties AS T1 JOIN Ref_Property_Types AS T2 ON T1.property_type_code  =  T2.property_type_code GROUP BY T1.property_type_code',\n",
       " 'SELECT property_name FROM Properties WHERE property_type_code  =  \"House\" UNION SELECT property_name FROM Properties WHERE property_type_code  =  \"Apartment\" AND room_count  >  1']"
      ]
     },
     "execution_count": 17,
     "metadata": {},
     "output_type": "execute_result"
    }
   ],
   "source": [
    "curated_dataset['query']"
   ]
  },
  {
   "cell_type": "code",
   "execution_count": 23,
   "metadata": {},
   "outputs": [
    {
     "data": {
      "application/vnd.jupyter.widget-view+json": {
       "model_id": "2f7aaacfdc244667814ba2ece99890df",
       "version_major": 2,
       "version_minor": 0
      },
      "text/plain": [
       "Pushing dataset shards to the dataset hub:   0%|          | 0/1 [00:00<?, ?it/s]"
      ]
     },
     "metadata": {},
     "output_type": "display_data"
    },
    {
     "data": {
      "application/vnd.jupyter.widget-view+json": {
       "model_id": "be9bba6ba3ab427eb0d09141c2b64a12",
       "version_major": 2,
       "version_minor": 0
      },
      "text/plain": [
       "Creating parquet from Arrow format:   0%|          | 0/1 [00:00<?, ?ba/s]"
      ]
     },
     "metadata": {},
     "output_type": "display_data"
    },
    {
     "data": {
      "application/vnd.jupyter.widget-view+json": {
       "model_id": "1bc743ee39074c0ba80adcc069cd4a50",
       "version_major": 2,
       "version_minor": 0
      },
      "text/plain": [
       "Downloading metadata:   0%|          | 0.00/520 [00:00<?, ?B/s]"
      ]
     },
     "metadata": {},
     "output_type": "display_data"
    }
   ],
   "source": [
    "curated_dataset.push_to_hub('alagaesia/spider_dev_subset_preds', token=HUGGING_FACE_WRITE_TOKEN)"
   ]
  },
  {
   "cell_type": "code",
   "execution_count": 24,
   "metadata": {},
   "outputs": [
    {
     "data": {
      "application/vnd.jupyter.widget-view+json": {
       "model_id": "dc2d16b396f642ef839049a1a2e13f35",
       "version_major": 2,
       "version_minor": 0
      },
      "text/plain": [
       "Saving the dataset (0/1 shards):   0%|          | 0/209 [00:00<?, ? examples/s]"
      ]
     },
     "metadata": {},
     "output_type": "display_data"
    }
   ],
   "source": [
    "curated_dataset.save_to_disk('spider_dev_subset_preds')"
   ]
  },
  {
   "cell_type": "code",
   "execution_count": null,
   "metadata": {},
   "outputs": [],
   "source": [
    "total = 0 \n",
    "for key in db_ids.keys():\n",
    "    print(key)\n",
    "    tot = 0 \n",
    "    for val in db_ids[key].keys():\n",
    "        tot += db_ids[key][val]\n",
    "    print(tot)\n",
    "    #print(db_ids[key])\n",
    "    total += tot\n",
    "\n",
    "print(total)"
   ]
  },
  {
   "cell_type": "code",
   "execution_count": null,
   "metadata": {},
   "outputs": [],
   "source": [
    "sqp.data[hf_spider_dev]"
   ]
  },
  {
   "cell_type": "code",
   "execution_count": null,
   "metadata": {},
   "outputs": [],
   "source": []
  }
 ],
 "metadata": {
  "kernelspec": {
   "display_name": "autosql",
   "language": "python",
   "name": "autosql"
  },
  "language_info": {
   "codemirror_mode": {
    "name": "ipython",
    "version": 3
   },
   "file_extension": ".py",
   "mimetype": "text/x-python",
   "name": "python",
   "nbconvert_exporter": "python",
   "pygments_lexer": "ipython3",
   "version": "3.11.5"
  }
 },
 "nbformat": 4,
 "nbformat_minor": 2
}
