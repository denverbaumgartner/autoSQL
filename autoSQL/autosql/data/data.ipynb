{
 "cells": [
  {
   "cell_type": "code",
   "execution_count": 1,
   "metadata": {},
   "outputs": [
    {
     "name": "stdout",
     "output_type": "stream",
     "text": [
      "hello, world!\n"
     ]
    }
   ],
   "source": [
    "print('hello, world!')"
   ]
  },
  {
   "cell_type": "code",
   "execution_count": 2,
   "metadata": {},
   "outputs": [
    {
     "data": {
      "text/plain": [
       "True"
      ]
     },
     "execution_count": 2,
     "metadata": {},
     "output_type": "execute_result"
    }
   ],
   "source": [
    "import os\n",
    "from data import SQLData\n",
    "from datasets import Dataset\n",
    "from dotenv import load_dotenv\n",
    "\n",
    "load_dotenv(\"../../.env\")"
   ]
  },
  {
   "cell_type": "code",
   "execution_count": 3,
   "metadata": {},
   "outputs": [],
   "source": [
    "HUGGING_FACE_WRITE_TOKEN = os.getenv(\"HUGGING_FACE_WRITE_TOKEN\")\n",
    "\n",
    "hf_spider_dev = 'alagaesia/spider_dev'\n",
    "hf_spider_dev_preds = 'alagaesia/spider_dev_preds'"
   ]
  },
  {
   "cell_type": "code",
   "execution_count": 4,
   "metadata": {},
   "outputs": [],
   "source": [
    "sqp = SQLData.from_dataset(hf_spider_dev)"
   ]
  },
  {
   "cell_type": "code",
   "execution_count": 5,
   "metadata": {},
   "outputs": [
    {
     "data": {
      "text/plain": [
       "{'db_id': 'concert_singer',\n",
       " 'query': 'SELECT count(*) FROM singer',\n",
       " 'question': 'How many singers do we have?',\n",
       " 'create_w_keys': 'CREATE TABLE \"stadium\" ( \"Stadium_ID\" int, \"Location\" text, \"Name\" text, \"Capacity\" int, \"Highest\" int, \"Lowest\" int, \"Average\" int, PRIMARY KEY (\"Stadium_ID\") ); CREATE TABLE \"singer\" ( \"Singer_ID\" int, \"Name\" text, \"Country\" text, \"Song_Name\" text, \"Song_release_year\" text, \"Age\" int, \"Is_male\" bool, PRIMARY KEY (\"Singer_ID\") ); CREATE TABLE \"concert\" ( \"concert_ID\" int, \"concert_Name\" text, \"Theme\" text, \"Stadium_ID\" text, \"Year\" text, PRIMARY KEY (\"concert_ID\"), FOREIGN KEY (\"Stadium_ID\") REFERENCES \"stadium\"(\"Stadium_ID\") ); CREATE TABLE \"singer_in_concert\" ( \"concert_ID\" int, \"Singer_ID\" text, PRIMARY KEY (\"concert_ID\",\"Singer_ID\"), FOREIGN KEY (\"concert_ID\") REFERENCES \"concert\"(\"concert_ID\"), FOREIGN KEY (\"Singer_ID\") REFERENCES \"singer\"(\"Singer_ID\") ); ',\n",
       " 'create_wo_keys': 'CREATE TABLE stadium (Stadium_ID INT, Location TEXT, Name TEXT, Capacity INT, Highest INT, Lowest INT, Average INT); CREATE TABLE singer (Singer_ID INT, Name TEXT, Country TEXT, Song_Name TEXT, Song_release_year TEXT, Age INT, Is_male bool); CREATE TABLE concert (concert_ID INT, concert_Name TEXT, Theme TEXT, Stadium_ID TEXT, Year TEXT); CREATE TABLE singer_in_concert (concert_ID INT, Singer_ID TEXT); '}"
      ]
     },
     "execution_count": 5,
     "metadata": {},
     "output_type": "execute_result"
    }
   ],
   "source": [
    "sqp.data[hf_spider_dev]['train'][0]"
   ]
  },
  {
   "cell_type": "code",
   "execution_count": 6,
   "metadata": {},
   "outputs": [],
   "source": [
    "def request_creation(\n",
    "    strings: list[str],\n",
    "    create_statement: str,\n",
    "    question: str,\n",
    "    create_statement_index: int,\n",
    "    question_index: int,\n",
    ") -> str: \n",
    "    \n",
    "    modified_strings = strings.copy()\n",
    "    \n",
    "    modified_strings.insert(create_statement_index, create_statement)\n",
    "    modified_strings.insert(question_index, question)\n",
    "\n",
    "    return ' '.join(modified_strings)\n",
    "\n",
    "def dataset_request_creation(\n",
    "    dataset: Dataset,\n",
    "    strings: list[str],\n",
    "    request_column: str,\n",
    "    create_statement_column: str,\n",
    "    question_column: str,\n",
    "    create_statement_index: int,\n",
    "    question_index: int,\n",
    ") -> str: \n",
    "    \n",
    "    create_statement = dataset[create_statement_column]\n",
    "    question = dataset[question_column]\n",
    "\n",
    "    request_string = request_creation(\n",
    "        strings,\n",
    "        create_statement,\n",
    "        question,\n",
    "        create_statement_index,\n",
    "        question_index,\n",
    "    )\n",
    "\n",
    "    return {request_column: request_string}\n"
   ]
  },
  {
   "cell_type": "code",
   "execution_count": 7,
   "metadata": {},
   "outputs": [],
   "source": [
    "request_column = 'zero_shot_request'\n",
    "create_statement_column = 'create_w_keys'\n",
    "question_column = 'question'\n",
    "\n",
    "strings = ['Given the following SQL schema: ', 'Provide a SQL query that answers the following question: ', 'Only respond with the SQL query.']\n",
    "\n",
    "strings = [\n",
    "    '### Complete sqlite SQL query only and with no explanation, and do not select extra columns that are not explicitly requested in the query.\\n',\n",
    "    '### Sqlite SQL tables, with their properties:\\n',\n",
    "    '#\\n',\n",
    "    '# ', # create statement goes here (index 4)\n",
    "    '\\n', \n",
    "    '#\\n',\n",
    "    '### ', # question goes here (index 8) - must account for prior insertion\n",
    "    '\\n', \n",
    "    'SELECT',\n",
    "]\n",
    "\n",
    "create_statement_index = 4\n",
    "question_index = 8"
   ]
  },
  {
   "cell_type": "code",
   "execution_count": 8,
   "metadata": {},
   "outputs": [
    {
     "data": {
      "application/vnd.jupyter.widget-view+json": {
       "model_id": "4f7dafbd962b41b5917624bda8694449",
       "version_major": 2,
       "version_minor": 0
      },
      "text/plain": [
       "Map:   0%|          | 0/1034 [00:00<?, ? examples/s]"
      ]
     },
     "metadata": {},
     "output_type": "display_data"
    }
   ],
   "source": [
    "sqp.data[hf_spider_dev]['train'] = sqp.data[hf_spider_dev]['train'].map(dataset_request_creation, fn_kwargs = {'strings': strings, 'request_column': request_column, 'create_statement_column': create_statement_column, 'question_column': question_column, 'create_statement_index': create_statement_index, 'question_index': question_index}, load_from_cache_file=False)"
   ]
  },
  {
   "cell_type": "code",
   "execution_count": 9,
   "metadata": {},
   "outputs": [
    {
     "data": {
      "text/plain": [
       "{'db_id': 'concert_singer',\n",
       " 'query': 'SELECT count(*) FROM singer',\n",
       " 'question': 'How many singers do we have?',\n",
       " 'create_w_keys': 'CREATE TABLE \"stadium\" ( \"Stadium_ID\" int, \"Location\" text, \"Name\" text, \"Capacity\" int, \"Highest\" int, \"Lowest\" int, \"Average\" int, PRIMARY KEY (\"Stadium_ID\") ); CREATE TABLE \"singer\" ( \"Singer_ID\" int, \"Name\" text, \"Country\" text, \"Song_Name\" text, \"Song_release_year\" text, \"Age\" int, \"Is_male\" bool, PRIMARY KEY (\"Singer_ID\") ); CREATE TABLE \"concert\" ( \"concert_ID\" int, \"concert_Name\" text, \"Theme\" text, \"Stadium_ID\" text, \"Year\" text, PRIMARY KEY (\"concert_ID\"), FOREIGN KEY (\"Stadium_ID\") REFERENCES \"stadium\"(\"Stadium_ID\") ); CREATE TABLE \"singer_in_concert\" ( \"concert_ID\" int, \"Singer_ID\" text, PRIMARY KEY (\"concert_ID\",\"Singer_ID\"), FOREIGN KEY (\"concert_ID\") REFERENCES \"concert\"(\"concert_ID\"), FOREIGN KEY (\"Singer_ID\") REFERENCES \"singer\"(\"Singer_ID\") ); ',\n",
       " 'create_wo_keys': 'CREATE TABLE stadium (Stadium_ID INT, Location TEXT, Name TEXT, Capacity INT, Highest INT, Lowest INT, Average INT); CREATE TABLE singer (Singer_ID INT, Name TEXT, Country TEXT, Song_Name TEXT, Song_release_year TEXT, Age INT, Is_male bool); CREATE TABLE concert (concert_ID INT, concert_Name TEXT, Theme TEXT, Stadium_ID TEXT, Year TEXT); CREATE TABLE singer_in_concert (concert_ID INT, Singer_ID TEXT); ',\n",
       " 'zero_shot_request': '### Complete sqlite SQL query only and with no explanation, and do not select extra columns that are not explicitly requested in the query.\\n ### Sqlite SQL tables, with their properties:\\n #\\n #  CREATE TABLE \"stadium\" ( \"Stadium_ID\" int, \"Location\" text, \"Name\" text, \"Capacity\" int, \"Highest\" int, \"Lowest\" int, \"Average\" int, PRIMARY KEY (\"Stadium_ID\") ); CREATE TABLE \"singer\" ( \"Singer_ID\" int, \"Name\" text, \"Country\" text, \"Song_Name\" text, \"Song_release_year\" text, \"Age\" int, \"Is_male\" bool, PRIMARY KEY (\"Singer_ID\") ); CREATE TABLE \"concert\" ( \"concert_ID\" int, \"concert_Name\" text, \"Theme\" text, \"Stadium_ID\" text, \"Year\" text, PRIMARY KEY (\"concert_ID\"), FOREIGN KEY (\"Stadium_ID\") REFERENCES \"stadium\"(\"Stadium_ID\") ); CREATE TABLE \"singer_in_concert\" ( \"concert_ID\" int, \"Singer_ID\" text, PRIMARY KEY (\"concert_ID\",\"Singer_ID\"), FOREIGN KEY (\"concert_ID\") REFERENCES \"concert\"(\"concert_ID\"), FOREIGN KEY (\"Singer_ID\") REFERENCES \"singer\"(\"Singer_ID\") );  \\n #\\n ###  How many singers do we have? \\n SELECT'}"
      ]
     },
     "execution_count": 9,
     "metadata": {},
     "output_type": "execute_result"
    }
   ],
   "source": [
    "sqp.data[hf_spider_dev]['train'][0]"
   ]
  },
  {
   "cell_type": "code",
   "execution_count": 10,
   "metadata": {},
   "outputs": [
    {
     "name": "stdout",
     "output_type": "stream",
     "text": [
      "### Complete sqlite SQL query only and with no explanation, and do not select extra columns that are not explicitly requested in the query.\n",
      " ### Sqlite SQL tables, with their properties:\n",
      " #\n",
      " #  CREATE TABLE \"stadium\" ( \"Stadium_ID\" int, \"Location\" text, \"Name\" text, \"Capacity\" int, \"Highest\" int, \"Lowest\" int, \"Average\" int, PRIMARY KEY (\"Stadium_ID\") ); CREATE TABLE \"singer\" ( \"Singer_ID\" int, \"Name\" text, \"Country\" text, \"Song_Name\" text, \"Song_release_year\" text, \"Age\" int, \"Is_male\" bool, PRIMARY KEY (\"Singer_ID\") ); CREATE TABLE \"concert\" ( \"concert_ID\" int, \"concert_Name\" text, \"Theme\" text, \"Stadium_ID\" text, \"Year\" text, PRIMARY KEY (\"concert_ID\"), FOREIGN KEY (\"Stadium_ID\") REFERENCES \"stadium\"(\"Stadium_ID\") ); CREATE TABLE \"singer_in_concert\" ( \"concert_ID\" int, \"Singer_ID\" text, PRIMARY KEY (\"concert_ID\",\"Singer_ID\"), FOREIGN KEY (\"concert_ID\") REFERENCES \"concert\"(\"concert_ID\"), FOREIGN KEY (\"Singer_ID\") REFERENCES \"singer\"(\"Singer_ID\") );  \n",
      " #\n",
      " ###  How many singers do we have? \n",
      " SELECT\n"
     ]
    }
   ],
   "source": [
    "print(sqp.data[hf_spider_dev]['train'][0]['zero_shot_request'])"
   ]
  },
  {
   "cell_type": "code",
   "execution_count": 11,
   "metadata": {},
   "outputs": [
    {
     "data": {
      "application/vnd.jupyter.widget-view+json": {
       "model_id": "9b6bae1429f14ff8a4672289ce8ad48b",
       "version_major": 2,
       "version_minor": 0
      },
      "text/plain": [
       "Pushing dataset shards to the dataset hub:   0%|          | 0/1 [00:00<?, ?it/s]"
      ]
     },
     "metadata": {},
     "output_type": "display_data"
    },
    {
     "data": {
      "application/vnd.jupyter.widget-view+json": {
       "model_id": "1e34a51c83f64fc7bf07bab7c2585727",
       "version_major": 2,
       "version_minor": 0
      },
      "text/plain": [
       "Creating parquet from Arrow format:   0%|          | 0/2 [00:00<?, ?ba/s]"
      ]
     },
     "metadata": {},
     "output_type": "display_data"
    },
    {
     "data": {
      "application/vnd.jupyter.widget-view+json": {
       "model_id": "aed7ca6e6a0b4adaaa902292b624742c",
       "version_major": 2,
       "version_minor": 0
      },
      "text/plain": [
       "Deleting unused files from dataset repository:   0%|          | 0/1 [00:00<?, ?it/s]"
      ]
     },
     "metadata": {},
     "output_type": "display_data"
    }
   ],
   "source": [
    "sqp.hub_upload(\n",
    "    repo_id=hf_spider_dev,\n",
    "    token=HUGGING_FACE_WRITE_TOKEN,\n",
    "    dataset=sqp.data[hf_spider_dev],\n",
    ")"
   ]
  },
  {
   "cell_type": "code",
   "execution_count": null,
   "metadata": {},
   "outputs": [],
   "source": []
  }
 ],
 "metadata": {
  "kernelspec": {
   "display_name": "autosql",
   "language": "python",
   "name": "autosql"
  },
  "language_info": {
   "codemirror_mode": {
    "name": "ipython",
    "version": 3
   },
   "file_extension": ".py",
   "mimetype": "text/x-python",
   "name": "python",
   "nbconvert_exporter": "python",
   "pygments_lexer": "ipython3",
   "version": "3.11.5"
  }
 },
 "nbformat": 4,
 "nbformat_minor": 2
}
