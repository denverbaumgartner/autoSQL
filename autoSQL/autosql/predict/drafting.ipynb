{
 "cells": [
  {
   "cell_type": "code",
   "execution_count": 10,
   "metadata": {},
   "outputs": [
    {
     "name": "stdout",
     "output_type": "stream",
     "text": [
      "hello, world!\n"
     ]
    }
   ],
   "source": [
    "print('hello, world!')"
   ]
  },
  {
   "cell_type": "code",
   "execution_count": 101,
   "metadata": {},
   "outputs": [],
   "source": [
    "import os\n",
    "import time \n",
    "import requests\n",
    "from dotenv import load_dotenv\n",
    "\n",
    "import datasets\n",
    "from datasets import Dataset, DatasetDict\n",
    "\n",
    "from typing import Optional, Dict, List, Union\n",
    "\n",
    "import openai\n",
    "from openai.openai_object import OpenAIObject\n",
    "\n",
    "# Load environment variables\n",
    "load_dotenv(\"../../.env\")\n",
    "\n",
    "# OpenAI API key\n",
    "OPENAI_API_KEY = os.environ.get(\"OPENAI_API_KEY\")\n",
    "\n",
    "HUGGING_FACE_API_TOKEN = os.environ.get(\"HUGGING_FACE_API_TOKEN\")\n",
    "DEV_SUBSET = 'alagaesia/spider_dev_subset_preds'\n",
    "\n",
    "MISTRAL_7B_INSTRUCT_ENDPOINT = 'https://i7zsxqzxio916oxa.us-east-1.aws.endpoints.huggingface.cloud'\n",
    "\n",
    "DEFOG_SQLCODER_7B_ENDPOINT = 'https://hnpxkty4wwf01zqu.us-east-1.aws.endpoints.huggingface.cloud'\n",
    "BIGCODE_STARCODER_ENDPOINT = 'https://api-inference.huggingface.co/models/bigcode/starcoder'\n",
    "\n",
    "# META_LLAMA_70B_ENDPOINT = 'https://api-inference.huggingface.co/models/meta-llama/Llama-2-70b-chat-hf'\n",
    "# META_LLAMA_13B_ENDPOINT = 'e'\n",
    "META_LLAMA_7B_ENDPOINT = 'https://onsskneggrajh291.us-east-1.aws.endpoints.huggingface.cloud'\n",
    "\n",
    "WIZARD_CODER_15B_ENDPOINT = 'f'"
   ]
  },
  {
   "cell_type": "code",
   "execution_count": 82,
   "metadata": {},
   "outputs": [],
   "source": [
    "data = datasets.load_dataset(DEV_SUBSET)"
   ]
  },
  {
   "cell_type": "code",
   "execution_count": 104,
   "metadata": {},
   "outputs": [],
   "source": [
    "def basic_request(\n",
    "    request_string: str,\n",
    "    model_endpoint: str,\n",
    "    api_key: str,\n",
    ") -> str:\n",
    "    \n",
    "    headers = {\"Authorization\": api_key}\n",
    "\n",
    "    try: \n",
    "\n",
    "        # start timing \n",
    "        start_time = time.time()\n",
    "\n",
    "        # make request\n",
    "        response = requests.post(\n",
    "            model_endpoint, \n",
    "            headers=headers,\n",
    "            json={\"inputs\": request_string}\n",
    "        )\n",
    "\n",
    "        # end timing\n",
    "        end_time = time.time()\n",
    "        time_elapsed = end_time - start_time\n",
    "\n",
    "        return {'response': response.json(), 'time_elapsed': time_elapsed}\n",
    "\n",
    "    except Exception as e:\n",
    "        print(e)\n",
    "        return {'response': None, 'time_elapsed': time_elapsed}\n",
    "    \n",
    "def dataset_basic_request(\n",
    "    dataset: Dataset,\n",
    "    response_column: str,\n",
    "    request_string_column: str,\n",
    "    model_endpoint: str,\n",
    "    api_key: str,\n",
    "): \n",
    "    \n",
    "    request_string = dataset[request_string_column]\n",
    "\n",
    "    response = basic_request(\n",
    "        request_string=request_string,\n",
    "        model_endpoint=model_endpoint,\n",
    "        api_key=api_key,\n",
    "    )\n",
    "\n",
    "    try:\n",
    "        generated = str(response['response'][0]['generated_text'])\n",
    "        time_elapsed = response['time_elapsed']\n",
    "    except:\n",
    "        generated = 'INVESTIGATE'\n",
    "        time_elapsed = response['time_elapsed']\n",
    "\n",
    "    latency_column = response_column + '_latency'\n",
    "\n",
    "    return {response_column: generated, latency_column: time_elapsed}"
   ]
  },
  {
   "cell_type": "code",
   "execution_count": 84,
   "metadata": {},
   "outputs": [
    {
     "data": {
      "application/vnd.jupyter.widget-view+json": {
       "model_id": "1598e0e492b542b8ab7103cc849b9a15",
       "version_major": 2,
       "version_minor": 0
      },
      "text/plain": [
       "Saving the dataset (0/1 shards):   0%|          | 0/209 [00:00<?, ? examples/s]"
      ]
     },
     "metadata": {},
     "output_type": "display_data"
    }
   ],
   "source": [
    "#data.save_to_disk('draft/original_data')"
   ]
  },
  {
   "cell_type": "code",
   "execution_count": 100,
   "metadata": {},
   "outputs": [],
   "source": [
    "\n",
    "def dep_request_creation(\n",
    "    strings: list[str],\n",
    "    create_statement: str,\n",
    "    question: str,\n",
    "    create_statement_index: int,\n",
    "    question_index: int,\n",
    ") -> str: \n",
    "    \n",
    "    modified_strings = strings.copy()\n",
    "    \n",
    "    modified_strings.insert(create_statement_index, create_statement)\n",
    "    modified_strings.insert(question_index, question)\n",
    "\n",
    "    return ' '.join(modified_strings)\n",
    "\n",
    "def dep_dataset_request_creation(\n",
    "    dataset: Dataset,\n",
    "    strings: list[str],\n",
    "    request_column: str,\n",
    "    create_statement_column: str,\n",
    "    question_column: str,\n",
    "    create_statement_index: int,\n",
    "    question_index: int,\n",
    ") -> str: \n",
    "    \n",
    "    create_statement = dataset[create_statement_column]\n",
    "    question = dataset[question_column]\n",
    "\n",
    "    request_string = dep_request_creation(\n",
    "        strings,\n",
    "        create_statement,\n",
    "        question,\n",
    "        create_statement_index,\n",
    "        question_index,\n",
    "    )\n",
    "\n",
    "    return {request_column: request_string}\n",
    "\n",
    "request_column = 'zero_shot_request_complex'\n",
    "create_statement_column = 'create_w_keys'\n",
    "question_column = 'question'\n",
    "\n",
    "strings = ['Given the following SQL schema: ', 'Provide a SQL query that answers the following question: ', 'Only respond with the SQL query.']\n",
    "\n",
    "strings = [\n",
    "    '### Complete sqlite SQL query only and with no explanation, and do not select extra columns that are not explicitly requested in the query.\\n',\n",
    "    '### Sqlite SQL tables, with their properties:\\n',\n",
    "    '#\\n',\n",
    "    '# ', # create statement goes here (index 4)\n",
    "    '\\n', \n",
    "    '#\\n',\n",
    "    '### ', # question goes here (index 8) - must account for prior insertion\n",
    "    '\\n', \n",
    "    'SQL QUERY:',\n",
    "]\n",
    "\n",
    "create_statement_index = 4\n",
    "question_index = 8\n",
    "\n"
   ]
  },
  {
   "cell_type": "code",
   "execution_count": 101,
   "metadata": {},
   "outputs": [
    {
     "data": {
      "application/vnd.jupyter.widget-view+json": {
       "model_id": "49857b2211fc4976b6232f3bf95c2cbd",
       "version_major": 2,
       "version_minor": 0
      },
      "text/plain": [
       "Map:   0%|          | 0/209 [00:00<?, ? examples/s]"
      ]
     },
     "metadata": {},
     "output_type": "display_data"
    }
   ],
   "source": [
    "data['train'] = data['train'].map(dep_dataset_request_creation, fn_kwargs = {'strings': strings, 'request_column': request_column, 'create_statement_column': create_statement_column, 'question_column': question_column, 'create_statement_index': create_statement_index, 'question_index': question_index}, load_from_cache_file=False)"
   ]
  },
  {
   "cell_type": "code",
   "execution_count": 103,
   "metadata": {},
   "outputs": [
    {
     "data": {
      "application/vnd.jupyter.widget-view+json": {
       "model_id": "23cbc397300c45119ff738dd65a6401e",
       "version_major": 2,
       "version_minor": 0
      },
      "text/plain": [
       "Saving the dataset (0/1 shards):   0%|          | 0/209 [00:00<?, ? examples/s]"
      ]
     },
     "metadata": {},
     "output_type": "display_data"
    }
   ],
   "source": [
    "#data.save_to_disk('draft/data_zero_shot_simple')"
   ]
  },
  {
   "cell_type": "code",
   "execution_count": 104,
   "metadata": {},
   "outputs": [
    {
     "data": {
      "text/plain": [
       "DatasetDict({\n",
       "    train: Dataset({\n",
       "        features: ['db_id', 'query', 'question', 'create_w_keys', 'create_wo_keys', 'difficulty', 'zero_shot_request', 'defog_sqlcoder_7b', 'defog_sqlcoder_7b_latency', 'mistral_7b_instruct', 'mistral_7b_instruct_latency', 'llama_7b', 'llama_7b_latency', 'zero_shot_request_complex'],\n",
       "        num_rows: 209\n",
       "    })\n",
       "})"
      ]
     },
     "execution_count": 104,
     "metadata": {},
     "output_type": "execute_result"
    }
   ],
   "source": [
    "data"
   ]
  },
  {
   "cell_type": "markdown",
   "metadata": {},
   "source": [
    "# Mistral 7B"
   ]
  },
  {
   "cell_type": "code",
   "execution_count": 106,
   "metadata": {},
   "outputs": [
    {
     "data": {
      "application/vnd.jupyter.widget-view+json": {
       "model_id": "456403684f78488690f21385f22ece9f",
       "version_major": 2,
       "version_minor": 0
      },
      "text/plain": [
       "Map:   0%|          | 0/209 [00:00<?, ? examples/s]"
      ]
     },
     "metadata": {},
     "output_type": "display_data"
    }
   ],
   "source": [
    "response_column = 'mistral_7b_instruct_complex'\n",
    "request_string_column = 'zero_shot_request_complex'\n",
    "model_endpoint = MISTRAL_7B_INSTRUCT_ENDPOINT\n",
    "api_key = HUGGING_FACE_API_TOKEN\n",
    "\n",
    "data = data.map(dataset_basic_request, fn_kwargs= {\"response_column\":  response_column, \"request_string_column\": request_string_column, \"model_endpoint\": model_endpoint, \"api_key\": api_key}, load_from_cache_file=False)"
   ]
  },
  {
   "cell_type": "code",
   "execution_count": 107,
   "metadata": {},
   "outputs": [
    {
     "data": {
      "application/vnd.jupyter.widget-view+json": {
       "model_id": "93de9dd716f645c3a70afebe0d4c6a52",
       "version_major": 2,
       "version_minor": 0
      },
      "text/plain": [
       "Saving the dataset (0/1 shards):   0%|          | 0/209 [00:00<?, ? examples/s]"
      ]
     },
     "metadata": {},
     "output_type": "display_data"
    }
   ],
   "source": [
    "#data.save_to_disk('draft/mistral_7b_instruct_complex')"
   ]
  },
  {
   "cell_type": "code",
   "execution_count": 109,
   "metadata": {},
   "outputs": [
    {
     "data": {
      "text/plain": [
       "['\\n SELECT COUNT(*) FROM singer;\\n\\n #\\n ###  How many concerts',\n",
       " '\\n SELECT Name, Country, Age FROM singer ORDER BY Age DESC;',\n",
       " '\\n SELECT AVG(Age) AS Average_Age, MIN(Age)',\n",
       " '\\n SELECT Singer_Name, Song_release_year\\n FROM singer\\n JOIN singer',\n",
       " '\\n SELECT DISTINCT Country FROM singer WHERE Age > 20;\\n\\n\\n',\n",
       " '\\n SELECT s.Song_Name\\n FROM singer s\\n JOIN singer_in_',\n",
       " '\\n SELECT Stadium_Name, Stadium_Capacity\\n FROM stadium\\n JOIN concert\\n ON stadium',\n",
       " '\\n SELECT Stadium_Name, Stadium_Capacity FROM stadium WHERE Stadium_ID IN (SELECT Stadium',\n",
       " '\\n SELECT YEAR(concert_Year) AS year, COUNT(*) AS count',\n",
       " '\\n SELECT Name FROM stadium WHERE Stadium_ID NOT IN (SELECT Stadium_ID FROM concert);',\n",
       " '\\n SELECT stadium.Name, stadium.Location\\n FROM stadium\\n JOIN concert ON stadium.',\n",
       " '\\n SELECT COUNT(*) FROM Has_Pet \\nINNER JOIN Pets ON',\n",
       " \"\\n SELECT Pets.weight FROM Pets\\nWHERE Pets.PetType = '\",\n",
       " '\\n SELECT PetType, MAX(weight) AS MaxWeight\\n FROM Pets\\n GRO',\n",
       " '\\n SELECT COUNT(*) FROM Student JOIN Has_Pet ON Student.StuID',\n",
       " '\\n SELECT COUNT(*) FROM Student \\n INNER JOIN Has_Pet ON Student',\n",
       " '\\n SELECT DISTINCT PetType FROM Has_Pet;\\n\\n\\n\\n\\n\\n',\n",
       " '\\n SELECT Fname FROM Student WHERE StuID IN (SELECT StuID FROM Has_',\n",
       " '\\n SELECT Fname FROM Student WHERE StuID IN (SELECT StuID FROM Has_',\n",
       " '\\n SELECT Fname FROM Student WHERE StuID IN (SELECT StuID FROM Has_',\n",
       " '\\n SELECT StuID FROM Student WHERE StuID NOT IN (SELECT PetID FROM Has',\n",
       " '\\n SELECT LName FROM Student JOIN Has_Pet ON Student.StuID = Has',\n",
       " '\\n SELECT COUNT(*) FROM continents;\\n\\n ###  How many countries are there',\n",
       " '\\n SELECT continents.ContId, continents.Continent, COUNT(*) AS',\n",
       " '\\n SELECT COUNT(*) FROM countries;\\n\\n\\n\\n\\n\\n\\n\\n\\n\\n',\n",
       " '\\n SELECT car_makers.FullName, car_makers.Id, COUNT(*)',\n",
       " '\\n SELECT MIN(Horsepower) FROM cars_data;\\n\\n\\n\\n\\n\\n',\n",
       " '\\n SELECT Model FROM cars_data WHERE Weight < (SELECT AVG(Weight) FROM cars',\n",
       " '\\n SELECT car_makers.Maker, car_makers.FullName\\n FROM car_',\n",
       " '\\n SELECT c.Make, MIN(c.Year) AS Production_Time\\n FROM cars',\n",
       " '\\n SELECT DISTINCT Model FROM cars_data WHERE Year > 1980',\n",
       " '\\n SELECT continents.Continent, COUNT(*) AS Count\\n FROM continents\\n',\n",
       " '\\n SELECT car_makers.FullName, COUNT(*) AS Count\\n FROM car_',\n",
       " '\\n SELECT AVG(MPG) FROM cars_data WHERE Cylinders = ',\n",
       " \"\\n SELECT Country FROM airlines WHERE Airline = 'JetBlue Airways';\\n\\n\",\n",
       " \"\\n SELECT Abbreviation FROM airlines WHERE Airline = 'JetBlue Airways\",\n",
       " \"\\n SELECT Airline, Abbreviation FROM airlines WHERE Country = 'USA';\\n\",\n",
       " \"\\n SELECT AirportCode, AirportName FROM airports WHERE City = 'Anthony';\\n\",\n",
       " ' \\n SELECT COUNT(*) FROM airlines;\\n\\n###  How many airports',\n",
       " \"\\n SELECT City, Country FROM airports WHERE AirportCode = 'ALT';\\n\\n\\n\",\n",
       " \"\\n SELECT COUNT(*) FROM flights WHERE SourceAirport = 'Aberdeen'\",\n",
       " '\\n SELECT COUNT(*) FROM flights WHERE Airline = 1 AND DestAirport =',\n",
       " '\\n SELECT City, COUNT(*) AS ArrivalCount\\n FROM flights\\n GRO',\n",
       " '\\n SELECT City, COUNT(*) AS DepartingFlights\\nFROM flights\\nW',\n",
       " '\\n SELECT AirportName, COUNT(*) AS FlightCount\\n FROM flights\\n GROUP',\n",
       " \"\\n SELECT COUNT(*) FROM flights WHERE DestAirport IN ('Aberdeen',\",\n",
       " '\\n SELECT COUNT(*) FROM employee;\\n\\n\\n\\n\\n\\n\\n\\n\\n\\n',\n",
       " '\\n SELECT Employee_ID, Name, Age\\n FROM employee\\n ORDER BY Age A',\n",
       " '\\n SELECT City, COUNT(*) AS Number_of_employees\\n FROM employee',\n",
       " '\\n SELECT DISTINCT City\\n FROM employee\\n INNER JOIN hiring ON employee.',\n",
       " '\\n SELECT Location, COUNT(*) AS Number_of_shops\\n FROM shop\\n G',\n",
       " '\\n SELECT shop.Name\\n FROM shop\\n WHERE shop.Number_products > (SELECT AV',\n",
       " '\\n SELECT Employee_Name\\n FROM employee\\n INNER JOIN evaluation\\n ON employee.',\n",
       " '\\n SELECT Name FROM evaluation WHERE Year_awarded = (SELECT MAX(Year_a',\n",
       " '\\n SELECT e.Name\\n FROM employee e\\n LEFT JOIN evaluation ee ON e',\n",
       " '\\n SELECT shop.Name\\n FROM shop\\n JOIN hiring ON shop.Shop_ID =',\n",
       " '\\n SELECT SUM(Bonus) FROM evaluation;\\n\\n\\n\\n\\n\\n\\n\\n',\n",
       " '\\n SELECT COUNT(*) FROM Documents;\\n\\n\\n\\n\\n\\n\\n\\n\\n',\n",
       " '\\n SELECT Document_ID, Document_Name, Document_Description\\n FROM Documents;',\n",
       " '\\n SELECT Document_Name, Template_ID\\n FROM Documents\\n WHERE Document_Description LI',\n",
       " '\\n SELECT Document_ID, Template_ID, Template_Type_Description\\n FROM Documents',\n",
       " '\\n SELECT DISTINCT Template_Type_Code FROM Documents;\\n\\n\\n\\n',\n",
       " '\\n SELECT Template_Type_Code, COUNT(*) AS Document_Count\\nFROM T',\n",
       " '\\n SELECT Templates.Template_ID, Templates.Template_Type_Code, CO',\n",
       " '\\n SELECT T.Template_ID, T.Template_Type_Code, T.Version',\n",
       " '\\n SELECT Template_Type_Code, COUNT(*) AS Number_of_Templates',\n",
       " '\\n SELECT Template_Type_Code, COUNT(*) AS Number_of_Documents',\n",
       " '\\n SELECT Template_Type_Code\\n FROM Ref_Template_Types\\n LEFT JOIN',\n",
       " '\\n SELECT Document_ID, Document_Name\\n FROM Documents\\n JOIN Paragraphs',\n",
       " '\\n SELECT COUNT(*) FROM teacher;\\n\\n###  How many courses are there?',\n",
       " '\\n SELECT Name FROM teacher ORDER BY Age ASC;',\n",
       " '\\n SELECT Age, Hometown FROM teacher;\\n\\n\\n\\n\\n\\n\\n\\n\\n',\n",
       " \"\\n SELECT Name FROM teacher WHERE Hometown != 'Little Lever Urban District'\\n\",\n",
       " '\\n SELECT Name FROM teacher WHERE Age = 32 OR Age = 33;\\n',\n",
       " '\\n SELECT Hometown FROM teacher WHERE Age = (SELECT MIN(Age) FROM teacher',\n",
       " '\\n SELECT Hometown, COUNT(*) AS Count\\n FROM teacher\\n GROUP',\n",
       " '\\n SELECT teacher.Name, course_arrange.Course\\n FROM teacher\\n JOIN',\n",
       " \"\\n SELECT Name FROM teacher WHERE Course = 'Math';\\n\\n###  Show the name of\",\n",
       " '\\n SELECT COUNT(*) FROM visitor WHERE Age < 30;\\n\\n\\n\\n',\n",
       " '\\n SELECT visitor.Name\\n FROM visitor\\n JOIN visit ON visitor.ID = visit.',\n",
       " '\\n SELECT AVG(Age) FROM visitor WHERE Level_of_membership <= ',\n",
       " '\\n SELECT visitor.Name, visitor.Level_of_membership\\n FROM visitor\\n JO',\n",
       " '\\n SELECT Museum_ID, Name FROM museum ORDER BY Num_of_Staff DES',\n",
       " '\\n SELECT AVG(Num_of_Staff) FROM museum WHERE Open_Year <',\n",
       " '\\n SELECT Museum_Name FROM museum \\nWHERE Museum_ID IN (SELECT Museum_',\n",
       " '\\n SELECT visitor.Name, visitor.Level_of_membership, SUM(visit',\n",
       " '\\n SELECT Museum_ID, Name\\n FROM visit\\n GROUP BY Museum_ID,',\n",
       " '\\n SELECT Museum_Name FROM museum WHERE Museum_ID NOT IN (SELECT Museum_ID FROM',\n",
       " '\\n SELECT visitor.Name, visitor.Age\\n FROM visitor\\n JOIN visit ON visitor',\n",
       " '\\n SELECT visitor.Name\\n FROM visitor\\n JOIN visit ON visitor.ID = visit.',\n",
       " '\\n SELECT COUNT(*) FROM players;\\n\\n###  Find the total number of matches',\n",
       " '\\n SELECT COUNT(*) FROM matches;\\n\\n###  Find the total number of qual',\n",
       " \"\\n SELECT first_name, birth_date FROM players WHERE country_code = 'USA';\",\n",
       " '\\n SELECT AVG(loser_age) AS loser_avg_age, AV',\n",
       " '\\n SELECT AVG(winner_rank) FROM matches;\\n\\n\\n\\n\\n\\n',\n",
       " '\\n SELECT winner_name FROM matches WHERE year = 2013 AND winner_name',\n",
       " '\\n SELECT COUNT(*) FROM matches WHERE year IN (2013, 2',\n",
       " '\\n SELECT w.country_code, w.first_name\\n FROM matches w\\n JO',\n",
       " '\\n SELECT player_name, country_code\\n FROM players\\n JOIN rankings ON players',\n",
       " '\\n SELECT year, COUNT(*) AS count\\n FROM matches\\n GROUP BY year',\n",
       " \"\\n SELECT COUNT(*) FROM ship WHERE disposition_of_ship = 'Captured\",\n",
       " '\\n SELECT name, tonnage FROM ship ORDER BY name ASC, tonnage DESC',\n",
       " '\\n SELECT name, date, result FROM battle;\\n\\n###  List the name and ton',\n",
       " '\\n SELECT MAX(killed) AS max_killed, MIN(killed) AS',\n",
       " '\\n SELECT AVG(injured) FROM death\\n\\n\\n\\n\\n\\n\\n\\n',\n",
       " '\\n SELECT b.id, b.name\\n FROM battle b\\n JOIN ship s ON',\n",
       " '\\n SELECT ship.name, ship.id, SUM(death.injured',\n",
       " '\\n SELECT DISTINCT result FROM battle;\\n\\n###  How many ships were lost',\n",
       " \"\\n SELECT COUNT(*) FROM battle WHERE ship_type = '225' AND\",\n",
       " \"\\n SELECT name, date FROM battle WHERE name IN ('Lettice', 'HMS At\",\n",
       " 'INVESTIGATE',\n",
       " 'INVESTIGATE',\n",
       " 'INVESTIGATE',\n",
       " 'INVESTIGATE',\n",
       " 'INVESTIGATE',\n",
       " 'INVESTIGATE',\n",
       " 'INVESTIGATE',\n",
       " 'INVESTIGATE',\n",
       " 'INVESTIGATE',\n",
       " 'INVESTIGATE',\n",
       " 'INVESTIGATE',\n",
       " 'INVESTIGATE',\n",
       " '\\n SELECT Title FROM Cartoon ORDER BY Title ASC;',\n",
       " \"\\n SELECT * FROM Cartoon WHERE Directed_by = 'Ben Jones';\\n\\n\\n\",\n",
       " \"\\n SELECT COUNT(*) FROM Cartoon WHERE Written_by = 'Joseph\",\n",
       " '\\n SELECT Cartoon.Title, Cartoon.Directed_by\\n FROM Cartoon\\n',\n",
       " \"\\n SELECT Title FROM Cartoon WHERE Directed_by IN ('Ben Jones', 'Brandon\",\n",
       " '\\n SELECT Country, COUNT(*) AS Count\\n FROM TV_Channel\\n GROUP',\n",
       " '\\n SELECT DISTINCT series_name, content\\n FROM TV_Channel;\\n\\n',\n",
       " '\\n SELECT Language, COUNT(*) AS Count\\n FROM TV_Channel\\n GROUP',\n",
       " '\\n SELECT DISTINCT Country FROM TV_Channel WHERE id NOT IN (SELECT Channel FROM',\n",
       " '\\n SELECT \"TV_Channel\".series_name, \"TV_Channel\".Country\\n FROM',\n",
       " '\\n SELECT COUNT(*) FROM poker_player;\\n\\n###  How many people are',\n",
       " '\\n SELECT Poker_Player_ID, Earnings\\n FROM poker_player\\n OR',\n",
       " '\\n SELECT poker_player.Poker_Player_ID, poker_player.Final_',\n",
       " '\\n SELECT AVG(Earnings) FROM poker_player;\\n\\n\\n\\n\\n',\n",
       " '\\n SELECT Money_Rank FROM poker_player ORDER BY Earnings DESC LIMIT ',\n",
       " '\\n SELECT Poker_Player_ID, People_ID, Earnings\\n FROM poker',\n",
       " '\\n SELECT people.Birth_Date FROM poker_player JOIN people ON poker_player',\n",
       " '\\n SELECT \"Money_Rank\" FROM \"poker_player\" WHERE \"Height\"',\n",
       " '\\n SELECT Nationality, COUNT(*) AS Count\\n FROM people\\n GROUP BY',\n",
       " '\\n SELECT COUNT(*) FROM AREA_CODE_STATE;\\n\\n###  How',\n",
       " '\\n SELECT contestant_number, contestant_name\\n FROM CONTESTANTS\\n OR',\n",
       " '\\n SELECT vote_id, phone_number, state FROM VOTES;\\n\\n\\n',\n",
       " '\\n SELECT MIN(area_code), MAX(area_code) FROM AREA_CODE',\n",
       " \"\\n SELECT MAX(created) FROM VOTES WHERE state = 'CA';\\n\\n\\n\",\n",
       " \"\\n SELECT contestant_name FROM CONTESTANTS WHERE contestant_name != 'J\",\n",
       " '\\n SELECT contestant_number, contestant_name\\n FROM CONTESTANTS\\n JO',\n",
       " '\\n SELECT COUNT(*) FROM CONTESTANTS WHERE contestant_number NOT IN (',\n",
       " '\\n SELECT state, COUNT(*) AS vote_count\\n FROM VOTES\\n G',\n",
       " '\\n SELECT country.Name\\n FROM country\\n INNER JOIN countrylanguage ON country.Code',\n",
       " \"\\n SELECT COUNT(*) FROM country WHERE GovernmentForm = 'Republic';\\n\\n\\n\",\n",
       " \"\\n SELECT SUM(SurfaceArea) FROM country WHERE Region = 'Caribbean';\\n\",\n",
       " \"\\n SELECT Region FROM city WHERE Name = 'Kabul';\\n\\n\\n\\n\\n\\n\\n\",\n",
       " '\\n SELECT Language, SUM(Percentage) AS TotalPercentage\\n FROM countrylanguage\\n',\n",
       " '\\n SELECT \"country\".* FROM \"country\" \\nWHERE \"country\". \"Name',\n",
       " \"\\n SELECT Region, Population FROM country WHERE Code = 'AO';\\n\\n\\n\\n\",\n",
       " \"\\n SELECT Name FROM country \\nWHERE Continent = 'Asia' \\nAND\",\n",
       " '\\n SELECT country.Name, countrylanguage.Language, countrylanguage.IsOfficial, country',\n",
       " '\\n SELECT continent, COUNT(*) AS count\\n FROM countrylanguage\\n GROUP BY',\n",
       " \"\\n SELECT Region\\n FROM country\\n WHERE Continent = 'Europe'\\n AND (Language =\",\n",
       " '\\n SELECT c.Name, c.Code, c.Continent, c.Region,',\n",
       " '\\n SELECT COUNT(*) FROM conductor;\\n\\n #\\n ###  What is the',\n",
       " '\\n SELECT Name FROM conductor ORDER BY Age ASC;\\n\\n\\n\\n\\n\\n',\n",
       " '\\n SELECT Name FROM conductor WHERE Nationality != \"USA\";\\n\\n\\n\\n\\n\\n',\n",
       " '\\n SELECT MIN(Share) AS Min_Share, MAX(Share) AS Max_Share',\n",
       " '\\n SELECT Name FROM conductor ORDER BY Year_of_Work DESC LIMIT 1',\n",
       " '\\n SELECT conductor.Name, orchestra.Orchestra\\n FROM conductor\\n INNER',\n",
       " '\\n SELECT conductor.Name\\n FROM conductor\\n JOIN orchestra ON conductor.',\n",
       " '\\n SELECT Record_Company, COUNT(*) AS Count\\n FROM orchestra\\n GRO',\n",
       " '\\n SELECT Orchestra_ID, Orchestra\\n FROM orchestra\\n WHERE Performance_ID IS NULL;',\n",
       " '\\n SELECT Record_Company\\n FROM orchestra\\n WHERE Year_of_Founded < ',\n",
       " '\\n SELECT COUNT(*) FROM Highschooler;\\n\\n###  How many friends does',\n",
       " '\\n SELECT Highschooler.Name, Highschooler.Grade\\n FROM Highschooler',\n",
       " '\\n SELECT Highschooler.ID, Highschooler.Name, Highschooler.Gr',\n",
       " '\\n SELECT Highschooler.grade FROM Highschooler INNER JOIN Friend ON Highschool',\n",
       " '\\n SELECT COUNT(*) FROM Highschooler WHERE grade IN (9,10);',\n",
       " '\\n SELECT grade, COUNT(*) FROM Highschooler GROUP BY grade;\\n',\n",
       " '\\n SELECT grade, COUNT(*) AS count\\n FROM Highschooler\\n GROUP',\n",
       " '\\n SELECT Highschooler.Name, COUNT(Friend.student_id) as friend',\n",
       " '\\n SELECT Highschooler.Name FROM Friend \\n JOIN Highschooler ON Friend.',\n",
       " '\\n SELECT DISTINCT Highschooler.ID FROM Highschooler \\n LEFT',\n",
       " '\\n SELECT Highschooler.Name\\n FROM Highschooler\\n JOIN Likes ON High',\n",
       " '\\n SELECT MIN(grade) FROM Highschooler WHERE student_id NOT IN (SELECT friend',\n",
       " '\\n SELECT s.state\\n FROM States s\\n JOIN Owners o ON s.state',\n",
       " '\\n SELECT AVG(age) FROM Dogs WHERE Treatments.dog_id IS NOT',\n",
       " '\\n SELECT `professionals`.`last_name`, `professionals`.`cell',\n",
       " '\\n SELECT name FROM Dogs WHERE owner_id IN (SELECT owner_id FROM Treatments',\n",
       " '\\n SELECT p.professional_id, p.role_code, p.email',\n",
       " '\\n SELECT Owners.owner_id, Owners.first_name, Owners.',\n",
       " '\\n SELECT `professional_id`, `role_code`, `first_name`',\n",
       " '\\n SELECT `professional_id`, `cell_number`\\n FROM `Prof',\n",
       " '\\n SELECT `treatment_id`, `date_of_treatment`, `',\n",
       " '\\n SELECT COUNT(*) FROM Treatments WHERE dog_id IN (SELECT dog_id',\n",
       " '\\n SELECT COUNT(*) FROM Treatments \\nWHERE dog_id IN (SELECT',\n",
       " '\\n SELECT AVG(age) FROM Dogs;\\n\\n###  What is the total',\n",
       " ' \\n SELECT COUNT(*) FROM singer;\\n\\n###  How many songs are there',\n",
       " '\\n SELECT Name FROM singer ORDER BY Net_Worth_Millions ASC;',\n",
       " '\\n SELECT Singer_ID, Birth_Year, Citizenship FROM singer;\\n',\n",
       " \"\\n SELECT Name FROM singer WHERE Citizenship != 'France';\\n\\n\\n\\n\",\n",
       " '\\n SELECT Name FROM singer WHERE Birth_Year IN (1948, 19',\n",
       " '\\n SELECT Name FROM singer WHERE Net_Worth_Millions = (SELECT MAX(Net',\n",
       " '\\n SELECT Citizenship, COUNT(*) AS Count\\n FROM singer\\n GRO',\n",
       " '\\n SELECT Citizenship, COUNT(*) as Count\\n FROM singer\\n GRO',\n",
       " '\\n SELECT Name FROM singer WHERE Singer_ID NOT IN (SELECT Singer_ID FROM',\n",
       " '\\n SELECT COUNT(*) FROM Other_Available_Features;\\n\\n\\n\\n\\n\\n',\n",
       " '\\n SELECT Ref_Feature_Types.feature_type_name\\n FROM Ref_Feature_',\n",
       " '\\n SELECT `Ref_Property_Types`.`property_type_description`\\nFROM `',\n",
       " '\\n SELECT `property_name`, `property_address`, `room_count`, `feature']"
      ]
     },
     "execution_count": 109,
     "metadata": {},
     "output_type": "execute_result"
    }
   ],
   "source": [
    "data['train'][response_column]"
   ]
  },
  {
   "cell_type": "markdown",
   "metadata": {},
   "source": [
    "# SQLCoder"
   ]
  },
  {
   "cell_type": "code",
   "execution_count": 110,
   "metadata": {},
   "outputs": [
    {
     "data": {
      "application/vnd.jupyter.widget-view+json": {
       "model_id": "4dcd5787f740441092e13a57712569cb",
       "version_major": 2,
       "version_minor": 0
      },
      "text/plain": [
       "Map:   0%|          | 0/209 [00:00<?, ? examples/s]"
      ]
     },
     "metadata": {},
     "output_type": "display_data"
    }
   ],
   "source": [
    "# GPU · Nvidia A10G · 1x GPU · 24 GB\n",
    "response_column = 'defog_sqlcoder_7b_complex'\n",
    "request_string_column = 'zero_shot_request_complex'\n",
    "model_endpoint = DEFOG_SQLCODER_7B_ENDPOINT\n",
    "api_key = HUGGING_FACE_API_TOKEN\n",
    "\n",
    "data = data.map(dataset_basic_request, fn_kwargs= {\"response_column\":  response_column, \"request_string_column\": request_string_column, \"model_endpoint\": model_endpoint, \"api_key\": api_key}, load_from_cache_file=False)"
   ]
  },
  {
   "cell_type": "code",
   "execution_count": 112,
   "metadata": {},
   "outputs": [
    {
     "data": {
      "text/plain": [
       "[' SELECT COUNT(*) FROM singer; \\n ###  How many concerts do we have',\n",
       " ' SELECT singer.name, singer.country, singer.age FROM singer ORDER BY singer.',\n",
       " ' SELECT AVG(singer.age), MIN(singer.age), MAX(s',\n",
       " \" SELECT s.name, to_number(s.song_release_year, '\",\n",
       " \" SELECT s.name, to_number(s.age,'9999') AS\",\n",
       " \" SELECT s.name, to_number(s.song_release_year, '\",\n",
       " ' SELECT s.name, s.capacity FROM stadium s JOIN concert c ON s.stad',\n",
       " ' SELECT s.name, s.capacity FROM stadium s JOIN concert c ON s.stad',\n",
       " ' SELECT year, COUNT(concert_id) AS concert_count FROM concert GRO',\n",
       " ' SELECT \"stadium\".\"Name\" FROM \"stadium\" LEFT JOIN \"con',\n",
       " ' SELECT s.name, s.location FROM stadium s JOIN concert c ON s.stad',\n",
       " ' SELECT COUNT(*) FROM Has_Pet JOIN Pets ON Has_Pet.Pet',\n",
       " ' SELECT MIN(pets.weight) AS min_weight FROM student JOIN has_pet',\n",
       " '  SELECT p.pet_type, MAX(p.weight) AS max_weight FROM',\n",
       " ' SELECT COUNT(*) FROM Student WHERE age > 20;',\n",
       " ' SELECT COUNT(*) FROM Student s JOIN Has_Pet hp ON s.St',\n",
       " ' SELECT COUNT(DISTINCT PetType) AS pet_types FROM Has_Pet',\n",
       " ' SELECT Student.Fname FROM Student JOIN Has_Pet ON Student.StuID =',\n",
       " ' SELECT Student.Fname FROM Student JOIN Has_Pet ON Student.StuID =',\n",
       " ' SELECT Student.Fname FROM Student JOIN Has_Pet ON Student.StuID =',\n",
       " ' SELECT Student.StuID FROM Student LEFT JOIN Has_Pet ON Student.St',\n",
       " ' SELECT Student.LName FROM Student JOIN Has_Pet ON Student.StuID =',\n",
       " ' SELECT COUNT(*) FROM continents;',\n",
       " ' SELECT c.continent_id, c.continent_name, COUNT(c',\n",
       " ' SELECT COUNT(*) FROM countries;',\n",
       " ' SELECT car_makers.full_name, car_makers.id, COUNT(model',\n",
       " ' SELECT model_list.model, MIN(cars_data.horsepower) AS',\n",
       " ' SELECT model_list.model FROM model_list JOIN cars_data ON model_list',\n",
       " ' SELECT car_makers.maker FROM car_makers JOIN cars_data ON car_makers',\n",
       " ' SELECT car_makers.maker, cars_data.year FROM car_makers JOIN cars',\n",
       " ' SELECT DISTINCT cars_data.id, cars_data.mpg, cars',\n",
       " ' SELECT c.continent, COUNT(cm.maker) AS maker_count FROM car',\n",
       " ' SELECT car_makers.full_name, COUNT(car_names.makeid)',\n",
       " ' SELECT AVG(mpg) FROM cars_data WHERE cylinders = 4;',\n",
       " ' SELECT Country FROM airports WHERE \"AirportName\" ILIKE \\'%jetblue%air',\n",
       " ' SELECT airlines.uid, airlines.airline, airlines.abbreviation',\n",
       " \" SELECT airline, abbreviation FROM airlines WHERE country ILIKE '%USA%\",\n",
       " ' SELECT a.AirportCode, a.AirportName FROM airports a JOIN flights',\n",
       " ' SELECT COUNT(*) FROM airlines;  \\n ###  How many airports do we',\n",
       " \" SELECT Country, city FROM airports WHERE portname ILIKE '%Alton%' LIMIT\",\n",
       " \" SELECT COUNT(*) FROM flights WHERE SourceAirport = 'Aberdeen' AND\",\n",
       " ' SELECT COUNT(*) FROM flights WHERE \"Airline\" = 21217',\n",
       " ' SELECT a.City, COUNT(f.FlightNo) AS num_flights',\n",
       " ' SELECT airports.city, COUNT(flights.flightno) AS total_',\n",
       " ' SELECT airports.airportcode, COUNT(flights.airline) AS flight',\n",
       " \" SELECT COUNT(*) FROM flights WHERE (SourceAirport = 'ABZ' OR Dest\",\n",
       " ' SELECT COUNT(*) FROM employee; \\n ###  How many shops are there? ',\n",
       " ' SELECT e.name, e.age FROM employee e ORDER BY e.age ASC',\n",
       " ' SELECT city, COUNT(*) AS number_of_employees FROM employee GRO',\n",
       " ' SELECT DISTINCT c.city FROM city c JOIN employee e ON c.city',\n",
       " ' SELECT shop.location, COUNT(*) AS number_of_shops FROM shop GRO',\n",
       " ' SELECT shop.name FROM shop WHERE shop.number_products > (SELECT AVG(shop',\n",
       " ' SELECT e.name, COUNT(e.employee_id) AS total_evalu',\n",
       " \" SELECT e.name, to_number(e.year_awarded, '9\",\n",
       " ' SELECT e.name FROM employee e LEFT JOIN evaluation a ON e.employee_',\n",
       " ' SELECT shop.name, COUNT(hiring.employee_id) AS employee_',\n",
       " ' SELECT SUM(bonus) AS total_bonus FROM evaluation;',\n",
       " ' SELECT COUNT(Document_ID) AS total_documents FROM Documents;',\n",
       " ' SELECT Documents.Document_ID, Documents.Document_Name, Documents.Document',\n",
       " ' SELECT Documents.Document_Name, Templates.Template_ID FROM Documents JOIN',\n",
       " ' SELECT Documents.Document_ID, Templates.Template_ID, Templates.Template',\n",
       " ' SELECT COUNT(DISTINCT templates.template_id) AS number_of_',\n",
       " ' SELECT templates.template_id, ref_template_types.template_type_description FROM',\n",
       " ' SELECT t.template_id, COUNT(d.document_id) AS document_',\n",
       " ' SELECT t.template_id FROM templates t LEFT JOIN documents d ON t.template',\n",
       " ' SELECT Ref_Template_Types.Template_Type_Code, COUNT(Templates.',\n",
       " ' SELECT Ref_Template_Types.Template_Type_Code, COUNT(Documents.',\n",
       " ' SELECT r.template_type_code FROM ref_template_types r LEFT JOIN',\n",
       " ' SELECT Documents.Document_ID, Documents.Document_Name FROM Documents JOIN',\n",
       " ' SELECT COUNT(*) FROM teacher;',\n",
       " ' SELECT teacher.name FROM teacher ORDER BY teacher.age ASC;',\n",
       " ' SELECT teacher.age, teacher.hometown FROM teacher JOIN course_arrange ON',\n",
       " ' SELECT teacher.name FROM teacher WHERE \"Hometown\" ILIKE \\'%little%',\n",
       " \" SELECT teacher.name FROM teacher WHERE (age::int = '32' OR age::\",\n",
       " ' SELECT teacher.name, MIN(teacher.age) AS min_age FROM teacher JO',\n",
       " ' SELECT teacher.name, COUNT(*) AS frequency FROM teacher JOIN course_arrange',\n",
       " ' SELECT t.name, c.course FROM teacher AS t CROSS JOIN course_',\n",
       " ' SELECT teacher.name FROM course JOIN course_arrange ON course.course_id =',\n",
       " ' SELECT COUNT(*) FROM visitor WHERE age < 30',\n",
       " ' SELECT v.name, d.level_of_membership FROM visitor v JOIN visit',\n",
       " ' SELECT AVG(v.age) AS average_age FROM visitor v JOIN visit v',\n",
       " ' SELECT v.name, v.age, m.name AS museum_name, m.',\n",
       " ' SELECT m.museum_id, m.name FROM museum m JOIN (SELECT museum',\n",
       " ' SELECT AVG(museum.num_of_staff) AS average_staff FROM museum',\n",
       " ' SELECT m.name FROM museum m JOIN (SELECT museum_id FROM visit GROUP',\n",
       " ' SELECT v.name, m.name AS museum_name, v.level_of_',\n",
       " ' SELECT m.museum_id, m.name, COUNT(v.visitor',\n",
       " ' SELECT m.name FROM museum m LEFT JOIN visit v ON m.museum_',\n",
       " \" SELECT v.name, to_char(v.age,'YYYY-MM-DD\",\n",
       " ' SELECT v.name FROM visitor v JOIN visit v ON v.id = v.vis',\n",
       " ' SELECT COUNT(player_id) AS total_players FROM players;',\n",
       " ' SELECT COUNT(*) AS total_matches FROM matches;  \\n ###  Find the total',\n",
       " ' SELECT p.player_first_name, p.player_last_name, to_',\n",
       " ' SELECT AVG(CASE WHEN p.player_id IN (SELECT loser_id',\n",
       " ' SELECT AVG(winner_rank) AS average_winner_rank FROM matches;',\n",
       " ' SELECT players.player_name FROM players WHERE players.player_id IN (SELECT winner_',\n",
       " '  SELECT COUNT(*) FROM matches WHERE year IN (2013, 2',\n",
       " ' SELECT players.player_id, players.first_name, players.last_name,',\n",
       " ' \\n SELECT players.first_name, players.country_code FROM players WHERE players.',\n",
       " '  SELECT year FROM matches GROUP BY year ORDER BY COUNT(*) DESC',\n",
       " \" SELECT COUNT(*) FROM ship WHERE name ilike '%Captured%'\",\n",
       " ' SELECT ship.name, ship.tonnage FROM ship ORDER BY ship.name DESC',\n",
       " ' SELECT \"battle\".name, \"battle\".date, \"battle\".result FROM',\n",
       " ' SELECT MAX(death.killed) AS max_killed, MIN(death',\n",
       " ' SELECT AVG(injured) AS average_injuries FROM death WHERE killed IS',\n",
       " ' SELECT b.id AS battle_id, b.name AS battle_name, COUNT',\n",
       " ' SELECT ship.name, COUNT(death.killed) AS total_inj',\n",
       " ' SELECT COUNT(DISTINCT result) FROM battle;',\n",
       " ' SELECT COUNT(DISTINCT battle.id) FROM battle JOIN ship ON battle',\n",
       " \" SELECT b.name, to_date(b.date, 'YYYY-MM-\",\n",
       " 'INVESTIGATE',\n",
       " 'INVESTIGATE',\n",
       " 'INVESTIGATE',\n",
       " 'INVESTIGATE',\n",
       " 'INVESTIGATE',\n",
       " 'INVESTIGATE',\n",
       " 'INVESTIGATE',\n",
       " 'INVESTIGATE',\n",
       " 'INVESTIGATE',\n",
       " 'INVESTIGATE',\n",
       " 'INVESTIGATE',\n",
       " 'INVESTIGATE',\n",
       " ' SELECT \"Title\" FROM \"Cartoon\" ORDER BY \"Title\" ASC;',\n",
       " ' SELECT \"Cartoon\".\"Title\" FROM \"Cartoon\" WHERE \"Cartoon\".\"',\n",
       " ' SELECT COUNT(*) FROM Cartoon WHERE \"Written_by\" ILIKE \\'%',\n",
       " ' SELECT \"Cartoon\".\"Title\", \"Cartoon\".\"Directed_by\" FROM',\n",
       " ' SELECT \"Title\" FROM \"Cartoon\" WHERE \"Directed_by\" ILIKE',\n",
       " ' SELECT COUNTRY, COUNT(*) AS channel_count FROM TV_CHANNEL GRO',\n",
       " ' SELECT COUNT(DISTINCT series_name) AS series_names_count,',\n",
       " ' SELECT TV_Channel.language, COUNT(TV_Channel.id) AS channel_',\n",
       " ' SELECT \"TV_Channel\".\"id\" FROM \"TV_Channel\" JOIN \"Cart',\n",
       " ' SELECT TV_Channel.series_name, TV_Channel.Country FROM TV_Channel JO',\n",
       " ' SELECT COUNT(Poker_Player_ID) FROM poker_player;',\n",
       " ' SELECT \"Poker_Player_ID\", \"People_ID\", \"Final_Table_',\n",
       " ' SELECT \"poker_player\".\"Poker_Player_ID\", \"poker_',\n",
       " ' SELECT AVG(poker_player.money_rank) AS average_money',\n",
       " ' SELECT p.name, rank() OVER (ORDER BY m.money_rank DES',\n",
       " ' SELECT people.name FROM poker_player JOIN people ON poker_player.people_id',\n",
       " ' SELECT people.birth_date FROM people JOIN poker_player ON people.people_',\n",
       " ' SELECT MAX(poker_player.money_rank) AS max_money_',\n",
       " ' SELECT people.nationality, COUNT(*) AS COUNT FROM poker_player JO',\n",
       " ' SELECT COUNT(DISTINCT state) FROM \"VOTES\";',\n",
       " ' SELECT c.contestant_number, c.contestant_name FROM contestants',\n",
       " ' SELECT v.vote_id, p.phone_number, s.state FROM votes v',\n",
       " ' SELECT MAX(area_code) AS max_area_code, MIN(area_code',\n",
       " \" SELECT MAX(created) AS last_vote_created FROM votes WHERE state = 'CA';\",\n",
       " ' SELECT \"contestant_name\" FROM \"CONTESTANTS\" WHERE \"contest',\n",
       " ' SELECT c.contestant_number, c.contestant_name FROM votes v',\n",
       " ' SELECT COUNT(*) AS total_unvoted_contestants FROM contestants WHERE',\n",
       " ' SELECT \"state\" FROM \"VOTES\" GROUP BY \"state\" ORDER',\n",
       " ' SELECT \"Name\" FROM \"country\" WHERE \"IndepYear\" > 195',\n",
       " \" SELECT COUNT(*) FROM country WHERE GovernmentForm ILIKE '%Republic%';\",\n",
       " ' SELECT SUM(surface_area) AS total_surface_area FROM country WHERE region il',\n",
       " ' SELECT \"Region\" FROM \"country\" WHERE \"LocalName\" ILIKE \\'%Kabul',\n",
       " ' SELECT \"language\" FROM \"countrylanguage\" WHERE \"countrycode\" ILIKE \\'%ar',\n",
       " ' SELECT \"Population\", \"LifeExpectancy\" FROM \"country\" WHERE \"Code\" I',\n",
       " ' SELECT \"Region\", \"Population\" FROM \"country\" WHERE \"Code\" ILIKE',\n",
       " ' SELECT \"Name\" FROM \"country\" WHERE \"Continent\" ILIKE \\'%Asia',\n",
       " ' SELECT \"country\".*Name\" FROM \"country\" JOIN \"countrylanguage\" ON \"',\n",
       " ' SELECT continent, COUNT(DISTINCT language) AS language_count FROM countrylanguage',\n",
       " ' SELECT \"Region\" FROM \"country\" WHERE \"Language\" ILIKE \\'%english%',\n",
       " ' SELECT countrylanguage.language FROM countrylanguage WHERE countrylanguage.countrycode IN (SELECT country.',\n",
       " ' SELECT COUNT(*) FROM conductor; \\n ###  How many orchestras are',\n",
       " ' SELECT conductor.name FROM conductor ORDER BY conductor.age ASC;',\n",
       " \" SELECT conductor.name FROM conductor WHERE conductor.nationality != 'USA'\",\n",
       " ' SELECT MAX(share) AS max_share, MIN(share) AS min_share FROM',\n",
       " ' SELECT c.name, c.year_of_work FROM conductor c ORDER BY',\n",
       " ' SELECT c.name, o.orchestra FROM conductor c JOIN orchestra o ON',\n",
       " ' SELECT c.name, COUNT(o.orchestra_id) AS num_or',\n",
       " ' SELECT o.record_company FROM orchestra o GROUP BY o.record_company',\n",
       " ' SELECT o.`Orchestra` FROM orchestra o LEFT JOIN performance p ON o',\n",
       " ' SELECT o.`Record_Company` FROM orchestra o WHERE o.`Year_of',\n",
       " ' SELECT COUNT(*) FROM Highschooler; \\n ###  How many high schoolers',\n",
       " ' SELECT h.name, h.grade FROM Highschooler h;',\n",
       " ' SELECT Highschooler.ID, Highschooler.name, Grade.grade FROM Highschool',\n",
       " \" SELECT COUNT(*) FROM Highschooler WHERE first_name ILIKE '%Kyle\",\n",
       " ' SELECT COUNT(*) FROM Highschooler WHERE grade IN (9, 10);',\n",
       " ' SELECT grade, COUNT(*) AS number_of_students FROM Highschooler G',\n",
       " ' SELECT grade, COUNT(*) AS number_of_students FROM Highschooler G',\n",
       " ' SELECT Highschooler.name, COUNT(Friend.friend_id) AS friend_',\n",
       " ' SELECT Highschooler.first_name, Highschooler.last_name FROM Friend JO',\n",
       " ' SELECT ID FROM Highschooler WHERE ID NOT IN (SELECT student_id FROM Friend);',\n",
       " ' WITH student_likes AS (SELECT student_id, COUNT(liked_id)',\n",
       " ' SELECT MIN(grade) FROM Highschooler WHERE NOT EXISTS (SELECT 1 FROM',\n",
       " '  SELECT o.state, p.state FROM owners o JOIN professionals p ON o.',\n",
       " ' SELECT AVG(age) AS average_age FROM dogs WHERE dog_id IN (SELECT',\n",
       " ' SELECT p.professional_id, p.last_name, p.cell_',\n",
       " ' SELECT d.name FROM dogs d JOIN treatmentsments t ON d.dog_id =',\n",
       " ' SELECT p.professional_id, p.role_code, p.email_',\n",
       " '  SELECT o.owner_id, o.first_name, o.last_name',\n",
       " ' SELECT p.professional_id, p.role_code, p.first_',\n",
       " ' SELECT p.professional_id, p.cell_number FROM professionals p JOIN',\n",
       " ' SELECT t.date_of_treatment, p.first_name FROM treatments AS',\n",
       " '  SELECT COUNT(*) FROM Treatments;  ###  How many dogs were treated by',\n",
       " '  SELECT COUNT(DISTINCT treatment.professional_id) AS num',\n",
       " ' SELECT AVG(age) AS average_age FROM dogs;  ###  What is the',\n",
       " ' SELECT COUNT(*) FROM singer;',\n",
       " ' SELECT singer.name FROM singer ORDER BY singer.net_worth_millions ASC',\n",
       " ' SELECT singer.name, singer.birth_year, singer.citizenship FROM',\n",
       " \" SELECT singer.name FROM singer WHERE singer.citizenship not ilike '%France\",\n",
       " ' SELECT singer.name FROM singer WHERE singer.birth_year IN (1948',\n",
       " ' SELECT singer.name FROM singer ORDER BY singer.net_worth_millions DESC',\n",
       " ' SELECT singer.citizenship, COUNT(*) AS frequency FROM singer GROUP',\n",
       " ' SELECT singer.citizenship, COUNT(*) AS COUNT FROM singer GRO',\n",
       " ' SELECT singer.name FROM singer LEFT JOIN song ON singer.singer_id =',\n",
       " '  SELECT COUNT(*) AS total_features FROM other_available_features;  ###',\n",
       " ' SELECT Ref_Feature_Types.feature_type_name FROM Ref_Feature_Types WHERE',\n",
       " ' SELECT Ref_Property_Types.property_type_description FROM Properties JOIN Ref_Property',\n",
       " ' SELECT p.property_name, pt.property_type_description, COUNT(opf']"
      ]
     },
     "execution_count": 112,
     "metadata": {},
     "output_type": "execute_result"
    }
   ],
   "source": [
    "#data['train']['defog_sqlcoder_7b_complex']"
   ]
  },
  {
   "cell_type": "code",
   "execution_count": 111,
   "metadata": {},
   "outputs": [
    {
     "data": {
      "application/vnd.jupyter.widget-view+json": {
       "model_id": "7d4d1bfc244a4c48a5bd86c347c24052",
       "version_major": 2,
       "version_minor": 0
      },
      "text/plain": [
       "Saving the dataset (0/1 shards):   0%|          | 0/209 [00:00<?, ? examples/s]"
      ]
     },
     "metadata": {},
     "output_type": "display_data"
    }
   ],
   "source": [
    "#data.save_to_disk('draft/defog_sqlcoder_2_complex')"
   ]
  },
  {
   "cell_type": "markdown",
   "metadata": {},
   "source": [
    "# Llama 7B"
   ]
  },
  {
   "cell_type": "code",
   "execution_count": 105,
   "metadata": {},
   "outputs": [
    {
     "data": {
      "application/vnd.jupyter.widget-view+json": {
       "model_id": "ca096a6643ec497ebe4071ea7a0923ad",
       "version_major": 2,
       "version_minor": 0
      },
      "text/plain": [
       "Map:   0%|          | 0/209 [00:00<?, ? examples/s]"
      ]
     },
     "metadata": {},
     "output_type": "display_data"
    }
   ],
   "source": [
    "response_column = 'llama_7b'\n",
    "request_string_column = 'zero_shot_request'\n",
    "model_endpoint = META_LLAMA_7B_ENDPOINT\n",
    "api_key = HUGGING_FACE_API_TOKEN\n",
    "\n",
    "data_gpt = data_gpt.map(dataset_basic_request, fn_kwargs= {\"response_column\":  response_column, \"request_string_column\": request_string_column, \"model_endpoint\": model_endpoint, \"api_key\": api_key}, load_from_cache_file=False)"
   ]
  },
  {
   "cell_type": "code",
   "execution_count": 107,
   "metadata": {},
   "outputs": [
    {
     "data": {
      "text/plain": [
       "['',\n",
       " '',\n",
       " '',\n",
       " '',\n",
       " '',\n",
       " '',\n",
       " '',\n",
       " '',\n",
       " '',\n",
       " '',\n",
       " '',\n",
       " '',\n",
       " '',\n",
       " '',\n",
       " '',\n",
       " '',\n",
       " '',\n",
       " '',\n",
       " '',\n",
       " '',\n",
       " '',\n",
       " '',\n",
       " '',\n",
       " '',\n",
       " '',\n",
       " '',\n",
       " '',\n",
       " '',\n",
       " '',\n",
       " '',\n",
       " '',\n",
       " '',\n",
       " '',\n",
       " '',\n",
       " '',\n",
       " '',\n",
       " '',\n",
       " '',\n",
       " '',\n",
       " '',\n",
       " '',\n",
       " '',\n",
       " '',\n",
       " '',\n",
       " '',\n",
       " '',\n",
       " '',\n",
       " '',\n",
       " '',\n",
       " '',\n",
       " '',\n",
       " '',\n",
       " '',\n",
       " '',\n",
       " '',\n",
       " '',\n",
       " '',\n",
       " '',\n",
       " '',\n",
       " '',\n",
       " '',\n",
       " '',\n",
       " '',\n",
       " '',\n",
       " '',\n",
       " '',\n",
       " '',\n",
       " '',\n",
       " '',\n",
       " '',\n",
       " '',\n",
       " '',\n",
       " '',\n",
       " '',\n",
       " '',\n",
       " '',\n",
       " '',\n",
       " '',\n",
       " '',\n",
       " '',\n",
       " '',\n",
       " '',\n",
       " '',\n",
       " '',\n",
       " '',\n",
       " '',\n",
       " '',\n",
       " '',\n",
       " '',\n",
       " '',\n",
       " '\\n\\nPlease provide the SQL query that answers the question.',\n",
       " '\\n\\nPlease provide the SQL query that answers the question.',\n",
       " ' Please provide the SQL query that answers this question. ',\n",
       " ' Please provide the SQL query that answers this question.',\n",
       " ' The query should only return the average rank of winners in all matches, without any additional information.',\n",
       " 'INVESTIGATE',\n",
       " 'INVESTIGATE',\n",
       " 'INVESTIGATE',\n",
       " ' Please provide the SQL query that answers this question.',\n",
       " ' Please provide the SQL query that answers the question.',\n",
       " '',\n",
       " '',\n",
       " '',\n",
       " '',\n",
       " '',\n",
       " '',\n",
       " '',\n",
       " '',\n",
       " '',\n",
       " '',\n",
       " 'INVESTIGATE',\n",
       " 'INVESTIGATE',\n",
       " 'INVESTIGATE',\n",
       " 'INVESTIGATE',\n",
       " 'INVESTIGATE',\n",
       " 'INVESTIGATE',\n",
       " 'INVESTIGATE',\n",
       " 'INVESTIGATE',\n",
       " 'INVESTIGATE',\n",
       " 'INVESTIGATE',\n",
       " 'INVESTIGATE',\n",
       " 'INVESTIGATE',\n",
       " '',\n",
       " '',\n",
       " '',\n",
       " '\\n\\nPlease provide the SQL query that answers the question.',\n",
       " '',\n",
       " '',\n",
       " '',\n",
       " '',\n",
       " '',\n",
       " '',\n",
       " '',\n",
       " '',\n",
       " '',\n",
       " '',\n",
       " '',\n",
       " '',\n",
       " '',\n",
       " '',\n",
       " '',\n",
       " '',\n",
       " '',\n",
       " '',\n",
       " '',\n",
       " '',\n",
       " \" and who received at least 1 vote in the state of '212'?\",\n",
       " '',\n",
       " '',\n",
       " '',\n",
       " '',\n",
       " '',\n",
       " '',\n",
       " '',\n",
       " '',\n",
       " '',\n",
       " '',\n",
       " '',\n",
       " '',\n",
       " '',\n",
       " '',\n",
       " '',\n",
       " '',\n",
       " '',\n",
       " '',\n",
       " ' Please provide the SQL query that answers this question.',\n",
       " '',\n",
       " '',\n",
       " '',\n",
       " '',\n",
       " ' Please provide the SQL query that answers this question.',\n",
       " '',\n",
       " '',\n",
       " '',\n",
       " '',\n",
       " '',\n",
       " '',\n",
       " '',\n",
       " '',\n",
       " '',\n",
       " '',\n",
       " '',\n",
       " '',\n",
       " '',\n",
       " '',\n",
       " '',\n",
       " ' Please provide the SQL query that answers the question.',\n",
       " '',\n",
       " '',\n",
       " '',\n",
       " '',\n",
       " '',\n",
       " '\\n\\n\\n\\n\\n\\n',\n",
       " '',\n",
       " '',\n",
       " '',\n",
       " '',\n",
       " '',\n",
       " '',\n",
       " '',\n",
       " '',\n",
       " '',\n",
       " '',\n",
       " '',\n",
       " '',\n",
       " '',\n",
       " '',\n",
       " '',\n",
       " '']"
      ]
     },
     "execution_count": 107,
     "metadata": {},
     "output_type": "execute_result"
    }
   ],
   "source": [
    "data_gpt['llama_7b']"
   ]
  },
  {
   "cell_type": "code",
   "execution_count": 115,
   "metadata": {},
   "outputs": [
    {
     "data": {
      "application/vnd.jupyter.widget-view+json": {
       "model_id": "ae8e47f343634349a1bcf1df1de59b2e",
       "version_major": 2,
       "version_minor": 0
      },
      "text/plain": [
       "Saving the dataset (0/1 shards):   0%|          | 0/209 [00:00<?, ? examples/s]"
      ]
     },
     "metadata": {},
     "output_type": "display_data"
    }
   ],
   "source": [
    "#data.save_to_disk('draft/llama_7b_complex')"
   ]
  },
  {
   "cell_type": "code",
   "execution_count": 117,
   "metadata": {},
   "outputs": [
    {
     "data": {
      "text/plain": [
       "[' \\n SELECT COUNT(*) FROM singer; \\n #  Output: \\n #  5\\n',\n",
       " ' \\nSELECT name, country, age FROM singer WHERE age = (SELECT MIN(age)',\n",
       " '\\n SELECT average(age), MIN(age), MAX(age) FROM singer WHERE country =',\n",
       " '\\n SELECT Name, Song_release_year FROM singer WHERE Age < (SELECT MIN(Age',\n",
       " ' \\n SELECT \"Country\" FROM \"singer\" WHERE \"Age\" > 20;',\n",
       " ' \\n SELECT \"Name\" FROM \"singer_in_concert\" WHERE \"Singer',\n",
       " ' \\nSELECT name, capacity FROM stadium WHERE year > 2014; \\n',\n",
       " '\\n```\\nSELECT name, capacity FROM stadium WHERE year > 2013;\\n',\n",
       " ' \\n SELECT \\n   year(concerts.Year) as year, \\n  ',\n",
       " ' \\n SELECT \"Name\" FROM \"stadium\" WHERE \"Stadium_ID\" NOT',\n",
       " ' \\nSELECT name, location FROM stadium WHERE exists (SELECT 1 FROM concert WHERE year =',\n",
       " ' \\n```\\nSELECT COUNT(*) FROM Has_Pet WHERE weight > 10;\\n',\n",
       " ' \\nSELECT weight FROM Pets WHERE Major = 1;\\n\\n### Output:\\n',\n",
       " ' \\nSELECT PetType, MAX(weight) \\nFROM Pets \\nGROUP BY Pet',\n",
       " ' \\n```\\nSELECT COUNT(*) FROM Has_Pet WHERE Student.Age > 20',\n",
       " \" \\nSELECT COUNT(*) FROM Has_Pet WHERE Sex = 'F' AND PetType =\",\n",
       " ' \\nSELECT DISTINCT PetType FROM Has_Pet; \\n\\n### Output',\n",
       " ' \\nSELECT Fname FROM Student WHERE Major = 1 AND (SELECT COUNT(*) FROM Has_',\n",
       " ' \\nSELECT Fname FROM Student WHERE Has_Pet.StuID = Student.St',\n",
       " '\\n```\\nSELECT Fname FROM Student WHERE Has_Pet.StuID IN (SELECT',\n",
       " \" \\nSELECT StuID FROM Has_Pet WHERE PetType = 'cat';\\n\\n##\",\n",
       " ' \\nSELECT LName FROM Student WHERE Major = 1 AND Age = 3 AND Sex =',\n",
       " ' \\n SELECT COUNT(*) FROM continents; ',\n",
       " '\\n```\\nSELECT continents.ContId, continents.Continent, COUNT(*) as num',\n",
       " ' \\n SELECT COUNT(*) FROM countries; ',\n",
       " '\\n```\\nSELECT maker, COUNT(*) as num_models\\nFROM car_makers\\n',\n",
       " ' \\n SELECT * FROM cars_data WHERE Horsepower = (SELECT MIN(Horse',\n",
       " ' \\n SELECT \\n     \"Model\" \\nFROM \\n     \"car_names\"',\n",
       " ' \\n SELECT maker FROM car_names WHERE year = 1970; ',\n",
       " ' \\n SELECT \\n \\tcar_names.Make, \\n \\tcars_',\n",
       " ' \\n SELECT distinct(Model) FROM \"car_names\" WHERE \"Year\" > 1',\n",
       " '\\n```\\nSELECT continent, COUNT(*) as num_car_makers\\nFROM car_m',\n",
       " '\\n```\\nSELECT maker, COUNT(*) as count\\nFROM car_names\\nJOIN car',\n",
       " ' \\n SELECT mpg FROM cars_data WHERE Cylinders = 4; ',\n",
       " \"\\n```\\nSELECT Country FROM flights WHERE Airline = 'JetBlue Airways';\\n\",\n",
       " \"\\n```\\nSELECT Abbreviation FROM airlines WHERE Airline = 'JetBlue Airways\",\n",
       " \" \\nSELECT Airline, Abbreviation FROM airlines WHERE Country = 'USA';\",\n",
       " \" \\n SELECT AirportCode, AirportName FROM airports WHERE City = 'Anthony'; \",\n",
       " ' \\n```\\nSELECT COUNT(*) FROM airlines;\\n```\\n###  What is the',\n",
       " \" \\n SELECT AirportName, Country FROM airports WHERE AirportCode = 'AEX'; \",\n",
       " \" \\n```\\nSELECT COUNT(*) FROM flights WHERE SourceAirport = 'Aberde\",\n",
       " \" \\n```\\nSELECT COUNT(*) FROM flights WHERE Airline = 'United Airlines';\\n\",\n",
       " ' \\n```\\nSELECT City, COUNT(*) as num_flights\\nFROM flights\\nGROUP',\n",
       " '\\n```\\nSELECT City, COUNT(*) as num_departing_flights\\nFROM air',\n",
       " '\\n```\\nSELECT airports.AirportName, COUNT(*) as num_flights\\n',\n",
       " \" \\nSELECT COUNT(*) FROM flights WHERE SourceAirport = 'ABZ' OR Dest\",\n",
       " ' \\n```\\nSELECT COUNT(*) FROM employee;\\n```\\n###  How many shops',\n",
       " '\\n SELECT * FROM employee WHERE Age > (SELECT AVG(Age) FROM employee);\\n\\n',\n",
       " ' \\n```\\nSELECT City, COUNT(*) as num_employees\\nFROM hiring\\n',\n",
       " ' \\n SELECT City FROM employee WHERE Age < 30; ',\n",
       " ' \\n SELECT Location, COUNT(*) as num_shops \\n FROM shop \\n GROUP BY',\n",
       " ' \\nSELECT * FROM shop WHERE number_products > (SELECT AVG(number_products)',\n",
       " ' \\nSELECT name FROM evaluation WHERE year_awarded = (SELECT MAX(year_a',\n",
       " ' \\n SELECT name FROM employee WHERE bonus > (SELECT MAX(bonus) FROM evaluation); ',\n",
       " '\\n```\\nSELECT Employee_ID FROM hiring WHERE Is_full_time = 0;',\n",
       " '\\n SELECT Shop_ID, COUNT(*) as num_employees\\n FROM hiring\\n',\n",
       " ' \\n SELECT SUM(bonus) FROM evaluation; ',\n",
       " ' \\nSELECT COUNT(*) FROM Documents; ',\n",
       " ' \\nSELECT Documents.Document_ID, Documents.Document_Name, Documents.',\n",
       " '\\n```\\nSELECT Document_Name, Template_ID\\nFROM Documents\\nWHERE Document_Description',\n",
       " ' \\n```\\nSELECT Document_ID, Template_ID, Template_Description\\nFROM Documents',\n",
       " ' \\n SELECT COUNT(*) FROM Documents WHERE Template_ID IS NOT NULL; ',\n",
       " ' \\nSELECT Template_Type_Code, COUNT(*) as num_docs\\nFROM Documents\\n',\n",
       " ' \\nSELECT Template_ID FROM Templates WHERE EXISTS (SELECT 1 FROM Documents WHERE Template',\n",
       " ' \\nSELECT Template_ID FROM Templates WHERE NOT EXISTS (SELECT 1 FROM Documents WHERE',\n",
       " ' \\n```\\nSELECT Template_Type_Code, COUNT(*) as num_templates\\nFROM Tem',\n",
       " ' \\nSELECT Template_Type_Code, COUNT(*) as num_of_documents \\n',\n",
       " ' \\nSELECT Template_Type_Code FROM Ref_Template_Types WHERE NOT EXISTS (SELECT ',\n",
       " ' \\nSELECT Document_ID, Document_Name, COUNT(*) as Num_Paragraphs ',\n",
       " ' \\n```\\nSELECT COUNT(*) FROM teacher;\\n```\\n###  How many courses are',\n",
       " '\\n SELECT \"Teacher\".* FROM \"course_arrange\" JOIN \"teacher\"',\n",
       " '\\n SELECT \"Teacher\".* FROM \"course_arrange\" JOIN \"teacher\"',\n",
       " \"\\n```\\nSELECT name FROM teacher WHERE hometown NOT LIKE '%Little Lever Urban District\",\n",
       " '\\n SELECT \"Teacher\".* FROM \"course_arrange\" JOIN \"teacher\"',\n",
       " '\\n SELECT hometown FROM teacher WHERE age = (SELECT MIN(age) FROM teacher);',\n",
       " ' \\n SELECT hometown FROM teacher WHERE grade = (SELECT MAX(grade) FROM course_',\n",
       " '\\n SELECT \"Teacher\".* FROM \"course_arrange\" JOIN \"teacher\"',\n",
       " ' \\n SELECT name FROM teacher WHERE course_id = (SELECT course_id FROM course_ar',\n",
       " '\\n```\\nSELECT COUNT(*) FROM visitor WHERE Age < 30;\\n```\\n###',\n",
       " '\\n```\\nSELECT visitor.Name, \\n       (SELECT level_of_membership',\n",
       " '\\n SELECT AVG(Age) FROM visitor WHERE Level_of_membership < 4',\n",
       " '\\n```\\nSELECT v.Name, v.Level_of_membership\\nFROM visitor',\n",
       " '\\n```\\nSELECT Museum_ID, Name\\nFROM museum\\nGROUP BY Museum_ID\\nORDER',\n",
       " ' \\nSELECT \\n    AVG(Num_of_Staff)\\nFROM \\n',\n",
       " \"\\n```\\nSELECT name FROM museum WHERE open_year > '2010' AND staff\",\n",
       " '\\n```\\nSELECT visitor.Name, visitor.Level_of_membership\\nFROM visitor',\n",
       " '\\n```\\nSELECT name, COUNT(*) as num_visits\\nFROM visit\\nGROUP BY name',\n",
       " '\\n select * from museum where num_of_staff = 0;\\n\\n###',\n",
       " '\\n SELECT name, age FROM visitor WHERE num_of_ticket = (SELECT MAX(num',\n",
       " '\\n```\\nSELECT visitor.Name\\nFROM visitor\\nJOIN visit ON visitor.ID = visit',\n",
       " 'INVESTIGATE',\n",
       " 'INVESTIGATE',\n",
       " 'INVESTIGATE',\n",
       " 'INVESTIGATE',\n",
       " 'INVESTIGATE',\n",
       " 'INVESTIGATE',\n",
       " 'INVESTIGATE',\n",
       " 'INVESTIGATE',\n",
       " 'INVESTIGATE',\n",
       " 'INVESTIGATE',\n",
       " ' \\n```\\nSELECT \\n  COUNT(*) \\nFROM \\n  ship \\nWHERE',\n",
       " '\\n```\\nSELECT name, tonnage FROM ship ORDER BY name DESC;\\n```\\n##',\n",
       " '\\n```\\nSELECT name, date, result FROM battle;\\n```\\n###  List the',\n",
       " '\\n```\\nSELECT \\n    MIN(death.killed), \\n    MAX',\n",
       " '\\n```\\nSELECT \\n  AVG(injured)\\nFROM \\n  death',\n",
       " '\\n```\\nSELECT id, name, COUNT(*) as num_killed\\nFROM battle\\nJ',\n",
       " '\\n```\\nSELECT ship.name, SUM(injured) AS total_injuries',\n",
       " ' \\nSELECT * FROM battle; \\n\\n###  How many different results are there for',\n",
       " '\\n```\\nSELECT * FROM battle WHERE lost_in_battle = 0 AND tonn',\n",
       " '\\n```\\nSELECT name, date\\nFROM battle\\nWHERE lost_in_battle = (',\n",
       " 'INVESTIGATE',\n",
       " 'INVESTIGATE',\n",
       " 'INVESTIGATE',\n",
       " 'INVESTIGATE',\n",
       " 'INVESTIGATE',\n",
       " 'INVESTIGATE',\n",
       " 'INVESTIGATE',\n",
       " 'INVESTIGATE',\n",
       " 'INVESTIGATE',\n",
       " 'INVESTIGATE',\n",
       " 'INVESTIGATE',\n",
       " 'INVESTIGATE',\n",
       " '\\n SELECT Title FROM Cartoon;\\n\\n###  List the title of all cartoons',\n",
       " '\\n SELECT * FROM \"Cartoon\" WHERE \"Directed_by\" = \\'Ben Jones\\';',\n",
       " ' \\n SELECT \"Cartoon\".\"Title\", \"Cartoon\".\"Directed_by\",',\n",
       " ' \\n SELECT \"Cartoon\".* FROM \"Cartoon\" \\n WHERE \"Channel\" =',\n",
       " '\\n SELECT \"Title\" FROM \"Cartoon\" WHERE \"Directed_by\" = \\'Ben',\n",
       " '\\n SELECT Country, COUNT(*) as Number_of_Channels\\n FROM TV_Channel\\n GROUP',\n",
       " '\\n SELECT COUNT(*) as num_series, DISTINCT series_name as series_names FROM',\n",
       " '\\nSELECT Language, COUNT(*) as Number_of_TV_Channel\\nFROM TV_Channel\\n',\n",
       " '\\n```\\nSELECT * FROM TV_Channel WHERE NOT EXISTS (SELECT 1 FROM Cartoon WHERE',\n",
       " ' \\n SELECT \"TV_Channel\".* FROM \"TV_Channel\" \\n JOIN \"TV',\n",
       " ' \\n```\\nSELECT COUNT(*) FROM poker_player;\\n```\\n###  What',\n",
       " '\\n```\\nSELECT * FROM poker_player WHERE Final_Table_Made = 1',\n",
       " '\\nSELECT \"Poker_Player_ID\", \"Final_Table_Made\", \"Best',\n",
       " ' \\n```\\nSELECT \\n  AVG(Earnings)\\nFROM \\n ',\n",
       " '\\n```\\nSELECT * FROM poker_player WHERE Final_Table_Made = 1',\n",
       " '\\n```\\nSELECT * FROM poker_player WHERE Final_Table_Made = 1',\n",
       " '\\n```\\nSELECT * FROM poker_player WHERE Final_Table_Made = 1',\n",
       " '\\n select \"Money_Rank\" from \"poker_player\" where \"Final_',\n",
       " '\\n select \\n  nationality\\n from \\n  people\\n where \\n  final_',\n",
       " ' \\n SELECT COUNT(*) FROM \"VOTES\" WHERE \"state\" = (SELECT \"state',\n",
       " '\\n  SELECT contestant_name, contestant_number \\n  FROM CONTESTANTS',\n",
       " '\\n  SELECT vote_id, phone_number, state FROM VOTES; ',\n",
       " '\\n SELECT \\n    MIN(area_code), \\n    MAX(area_code',\n",
       " \"\\n```\\nSELECT created FROM VOTES WHERE state = 'CA';\\n```\\n###\",\n",
       " \" \\n SELECT contestant_number FROM VOTES WHERE contestant_name NOT = 'J\",\n",
       " '\\n SELECT contestant_number, contestant_name FROM VOTES WHERE votes < (SELECT',\n",
       " ' \\n SELECT * FROM VOTES WHERE NOT EXISTS (SELECT 1 FROM AREA_',\n",
       " \"\\n SELECT area_code FROM VOTES WHERE state = 'CA';\\n \",\n",
       " '\\n```\\nSELECT \"CountryName\", \"IndepYear\" FROM \"country\" WHERE \"Ind',\n",
       " \" \\n```\\nSELECT * FROM country WHERE GovernmentForm = 'Republic';\\n```\\n##\",\n",
       " \" \\n SELECT SurfaceArea FROM country WHERE Region = 'Caribbean'; \",\n",
       " ' \\n SELECT \"Region\" FROM \"city\" WHERE \"Name\" = \\'Kabul\\';',\n",
       " ' \\n SELECT \"Name\", \"Population\", \"LifeExpectancy\", \"GNP\",',\n",
       " ' \\n SELECT \"Country\".* FROM \"country\" WHERE \"Country\".Code = \\'BR\\';',\n",
       " ' \\n SELECT \"Name\", \"Continent\", \"Region\", \"Population\" FROM \"country',\n",
       " ' \\n SELECT \"Name\" FROM \"country\" WHERE \"LifeExpectancy\" = (SELECT',\n",
       " '\\n```\\nSELECT * FROM country WHERE LifeExpectancy = (SELECT MAX(LifeExpect',\n",
       " ' \\nSELECT continent, COUNT(*) as numLanguages, AVG(Percentage) as av',\n",
       " ' \\n SELECT \"Region\" FROM \"country\" WHERE \"Language\" IN (\\'English\\', \\'D',\n",
       " ' \\n SELECT \"Language\" FROM \"countrylanguage\" WHERE \"CountryCode\" IN (SELECT \"',\n",
       " ' \\n SELECT COUNT(*) FROM conductor; ',\n",
       " '\\n SELECT Name FROM conductor WHERE Age ASC;\\n\\n###  List the names of conduct',\n",
       " \"\\n```\\nSELECT Name FROM conductor WHERE Nationality != 'USA';\\n```\\n###\",\n",
       " '\\n```\\nSELECT \\n  MIN(share),\\n  MAX(share)\\nFROM',\n",
       " '\\n SELECT Name FROM conductor WHERE Year_of_Work = (SELECT MAX(Year_of',\n",
       " ' \\n SELECT \"Name\" FROM \"conductor\" WHERE \"Conductor_ID\"',\n",
       " '\\n SELECT Name FROM conductor WHERE FOREIGN KEY (`Conductor_ID`) IN (',\n",
       " '\\n \\n SELECT \\n  COUNT(*) as num_orchestras, \\n  r',\n",
       " '\\n  SELECT \"Orchestra\".* FROM \"orchestra\" WHERE NOT EXISTS (SELECT 1',\n",
       " ' \\n```\\nSELECT * FROM orchestra \\nWHERE Year_of_Founded BET',\n",
       " ' \\n```\\nSELECT COUNT(*) FROM Highschooler;\\n```\\n###  How many',\n",
       " ' \\nSELECT Highschooler.name, Highschooler.grade \\nFROM Highschooler',\n",
       " ' \\nSELECT * FROM Highschooler;\\n\\n###  Show all the friends of a',\n",
       " ' SELECT grade FROM Highschooler WHERE student_id = 1;\\n OUTPUT: \\n',\n",
       " \" \\n```\\nSELECT * FROM Highschooler WHERE grade = '9' OR grade = '\",\n",
       " ' \\nSELECT grade, COUNT(*) as num_students \\nFROM Highschooler \\n',\n",
       " ' \\nSELECT grade.grade FROM (SELECT grade, COUNT(*) as num_students FROM High',\n",
       " ' \\nSELECT student_id, COUNT(*) as num_friends \\nFROM Friend \\n',\n",
       " ' \\nSELECT friend_id FROM Friend WHERE student_id = 1;\\n\\n###',\n",
       " ' \\nSELECT student_id FROM Friend WHERE friend_id IS NULL;\\n\\n### Output',\n",
       " ' \\nSELECT name FROM Likes WHERE liked_id = (SELECT MAX(liked_id',\n",
       " ' \\nSELECT MIN(grade) FROM Highschooler WHERE NOT EXISTS (SELECT 1 FROM',\n",
       " ' \\n SELECT \\n  COUNT(*) as num_states\\nFROM \\n  Owners',\n",
       " ' \\n SELECT AVG(age) FROM Dogs  WHERE exists (SELECT 1 FROM Tre',\n",
       " ' \\n SELECT \\n  professionals.last_name, \\n  professionals.cell',\n",
       " ' \\n SELECT \\n    dogs.name \\nFROM \\n    Dogs \\nIN',\n",
       " ' \\n SELECT professional_id, role, email_address FROM Professionals WHERE NOT EXISTS (',\n",
       " ' \\nSELECT owner_id, first_name, last_name FROM Owners WHERE owner',\n",
       " ' \\n SELECT professional_id, role, first_name \\n FROM Professionals \\n',\n",
       " ' \\n SELECT \\n  professionals.professional_id, \\n  professionals.',\n",
       " ' \\n SELECT \\n    Treatments.date_of_treatment, \\n',\n",
       " ' \\n SELECT COUNT(*) FROM `Dogs` \\n LEFT JOIN `Treatments`',\n",
       " ' \\n SELECT COUNT(*) FROM `Professionals` WHERE EXISTS (SELECT 1 FROM `',\n",
       " ' \\n SELECT AVG(age) FROM Dogs; ',\n",
       " ' \\n```\\nSELECT COUNT(*) FROM singer;\\n```\\n###  What is the name',\n",
       " ' \\n SELECT \"Name\" FROM \"singer\" WHERE \"Net_Worth_Millions',\n",
       " '\\n```\\nSELECT \"Singer\".* FROM \"singer\" \\nJOIN \"song',\n",
       " '\\n SELECT \"Name\" FROM \"singer\" WHERE \"Citizenship\" != \\'',\n",
       " ' \\n SELECT Name FROM singer WHERE Birth_Year = 1948 OR Birth',\n",
       " '\\n SELECT Name, Net_Worth_Millions FROM singer WHERE Net_Worth_Mill',\n",
       " '\\n SELECT citizenship FROM singer WHERE Net_Worth_Millions > 100;',\n",
       " ' \\n SELECT \"Singer_ID\", \"Citizenship\" FROM \"singer',\n",
       " ' \\n SELECT \"Name\" FROM \"singer\" WHERE \"Singer_ID\" NOT IN',\n",
       " ' \\n```\\nSELECT COUNT(*) FROM Other_Available_Features;\\n```\\n###',\n",
       " ' \\n```\\nSELECT feature_type_name FROM Ref_Feature_Types WHERE feature_type',\n",
       " ' \\n SELECT property_type_description FROM Ref_Property_Types WHERE property_type_code',\n",
       " ' \\n```\\nSELECT * FROM Properties WHERE room_count > 1 AND (property_type']"
      ]
     },
     "execution_count": 117,
     "metadata": {},
     "output_type": "execute_result"
    }
   ],
   "source": [
    "data['train']['llama_7b_complex']"
   ]
  },
  {
   "cell_type": "code",
   "execution_count": 120,
   "metadata": {},
   "outputs": [
    {
     "data": {
      "text/plain": [
       "[' \\n SELECT COUNT(*) FROM singer; \\n #  Output: \\n #  5\\n',\n",
       " ' \\nSELECT name, country, age FROM singer WHERE age = (SELECT MIN(age)',\n",
       " '\\n SELECT average(age), MIN(age), MAX(age) FROM singer WHERE country =',\n",
       " '\\n SELECT Name, Song_release_year FROM singer WHERE Age < (SELECT MIN(Age',\n",
       " ' \\n SELECT \"Country\" FROM \"singer\" WHERE \"Age\" > 20;',\n",
       " ' \\n SELECT \"Name\" FROM \"singer_in_concert\" WHERE \"Singer',\n",
       " ' \\nSELECT name, capacity FROM stadium WHERE year > 2014; \\n',\n",
       " '\\n```\\nSELECT name, capacity FROM stadium WHERE year > 2013;\\n',\n",
       " ' \\n SELECT \\n   year(concerts.Year) as year, \\n  ',\n",
       " ' \\n SELECT \"Name\" FROM \"stadium\" WHERE \"Stadium_ID\" NOT',\n",
       " ' \\nSELECT name, location FROM stadium WHERE exists (SELECT 1 FROM concert WHERE year =',\n",
       " ' \\n```\\nSELECT COUNT(*) FROM Has_Pet WHERE weight > 10;\\n',\n",
       " ' \\nSELECT weight FROM Pets WHERE Major = 1;\\n\\n### Output:\\n',\n",
       " ' \\nSELECT PetType, MAX(weight) \\nFROM Pets \\nGROUP BY Pet',\n",
       " ' \\n```\\nSELECT COUNT(*) FROM Has_Pet WHERE Student.Age > 20',\n",
       " \" \\nSELECT COUNT(*) FROM Has_Pet WHERE Sex = 'F' AND PetType =\",\n",
       " ' \\nSELECT DISTINCT PetType FROM Has_Pet; \\n\\n### Output',\n",
       " ' \\nSELECT Fname FROM Student WHERE Major = 1 AND (SELECT COUNT(*) FROM Has_',\n",
       " ' \\nSELECT Fname FROM Student WHERE Has_Pet.StuID = Student.St',\n",
       " '\\n```\\nSELECT Fname FROM Student WHERE Has_Pet.StuID IN (SELECT',\n",
       " \" \\nSELECT StuID FROM Has_Pet WHERE PetType = 'cat';\\n\\n##\",\n",
       " ' \\nSELECT LName FROM Student WHERE Major = 1 AND Age = 3 AND Sex =',\n",
       " ' \\n SELECT COUNT(*) FROM continents; ',\n",
       " '\\n```\\nSELECT continents.ContId, continents.Continent, COUNT(*) as num',\n",
       " ' \\n SELECT COUNT(*) FROM countries; ',\n",
       " '\\n```\\nSELECT maker, COUNT(*) as num_models\\nFROM car_makers\\n',\n",
       " ' \\n SELECT * FROM cars_data WHERE Horsepower = (SELECT MIN(Horse',\n",
       " ' \\n SELECT \\n     \"Model\" \\nFROM \\n     \"car_names\"',\n",
       " ' \\n SELECT maker FROM car_names WHERE year = 1970; ',\n",
       " ' \\n SELECT \\n \\tcar_names.Make, \\n \\tcars_',\n",
       " ' \\n SELECT distinct(Model) FROM \"car_names\" WHERE \"Year\" > 1',\n",
       " '\\n```\\nSELECT continent, COUNT(*) as num_car_makers\\nFROM car_m',\n",
       " '\\n```\\nSELECT maker, COUNT(*) as count\\nFROM car_names\\nJOIN car',\n",
       " ' \\n SELECT mpg FROM cars_data WHERE Cylinders = 4; ',\n",
       " \"\\n```\\nSELECT Country FROM flights WHERE Airline = 'JetBlue Airways';\\n\",\n",
       " \"\\n```\\nSELECT Abbreviation FROM airlines WHERE Airline = 'JetBlue Airways\",\n",
       " \" \\nSELECT Airline, Abbreviation FROM airlines WHERE Country = 'USA';\",\n",
       " \" \\n SELECT AirportCode, AirportName FROM airports WHERE City = 'Anthony'; \",\n",
       " ' \\n```\\nSELECT COUNT(*) FROM airlines;\\n```\\n###  What is the',\n",
       " \" \\n SELECT AirportName, Country FROM airports WHERE AirportCode = 'AEX'; \",\n",
       " \" \\n```\\nSELECT COUNT(*) FROM flights WHERE SourceAirport = 'Aberde\",\n",
       " \" \\n```\\nSELECT COUNT(*) FROM flights WHERE Airline = 'United Airlines';\\n\",\n",
       " ' \\n```\\nSELECT City, COUNT(*) as num_flights\\nFROM flights\\nGROUP',\n",
       " '\\n```\\nSELECT City, COUNT(*) as num_departing_flights\\nFROM air',\n",
       " '\\n```\\nSELECT airports.AirportName, COUNT(*) as num_flights\\n',\n",
       " \" \\nSELECT COUNT(*) FROM flights WHERE SourceAirport = 'ABZ' OR Dest\",\n",
       " ' \\n```\\nSELECT COUNT(*) FROM employee;\\n```\\n###  How many shops',\n",
       " '\\n SELECT * FROM employee WHERE Age > (SELECT AVG(Age) FROM employee);\\n\\n',\n",
       " ' \\n```\\nSELECT City, COUNT(*) as num_employees\\nFROM hiring\\n',\n",
       " ' \\n SELECT City FROM employee WHERE Age < 30; ',\n",
       " ' \\n SELECT Location, COUNT(*) as num_shops \\n FROM shop \\n GROUP BY',\n",
       " ' \\nSELECT * FROM shop WHERE number_products > (SELECT AVG(number_products)',\n",
       " ' \\nSELECT name FROM evaluation WHERE year_awarded = (SELECT MAX(year_a',\n",
       " ' \\n SELECT name FROM employee WHERE bonus > (SELECT MAX(bonus) FROM evaluation); ',\n",
       " '\\n```\\nSELECT Employee_ID FROM hiring WHERE Is_full_time = 0;',\n",
       " '\\n SELECT Shop_ID, COUNT(*) as num_employees\\n FROM hiring\\n',\n",
       " ' \\n SELECT SUM(bonus) FROM evaluation; ',\n",
       " ' \\nSELECT COUNT(*) FROM Documents; ',\n",
       " ' \\nSELECT Documents.Document_ID, Documents.Document_Name, Documents.',\n",
       " '\\n```\\nSELECT Document_Name, Template_ID\\nFROM Documents\\nWHERE Document_Description',\n",
       " ' \\n```\\nSELECT Document_ID, Template_ID, Template_Description\\nFROM Documents',\n",
       " ' \\n SELECT COUNT(*) FROM Documents WHERE Template_ID IS NOT NULL; ',\n",
       " ' \\nSELECT Template_Type_Code, COUNT(*) as num_docs\\nFROM Documents\\n',\n",
       " ' \\nSELECT Template_ID FROM Templates WHERE EXISTS (SELECT 1 FROM Documents WHERE Template',\n",
       " ' \\nSELECT Template_ID FROM Templates WHERE NOT EXISTS (SELECT 1 FROM Documents WHERE',\n",
       " ' \\n```\\nSELECT Template_Type_Code, COUNT(*) as num_templates\\nFROM Tem',\n",
       " ' \\nSELECT Template_Type_Code, COUNT(*) as num_of_documents \\n',\n",
       " ' \\nSELECT Template_Type_Code FROM Ref_Template_Types WHERE NOT EXISTS (SELECT ',\n",
       " ' \\nSELECT Document_ID, Document_Name, COUNT(*) as Num_Paragraphs ',\n",
       " ' \\n```\\nSELECT COUNT(*) FROM teacher;\\n```\\n###  How many courses are',\n",
       " '\\n SELECT \"Teacher\".* FROM \"course_arrange\" JOIN \"teacher\"',\n",
       " '\\n SELECT \"Teacher\".* FROM \"course_arrange\" JOIN \"teacher\"',\n",
       " \"\\n```\\nSELECT name FROM teacher WHERE hometown NOT LIKE '%Little Lever Urban District\",\n",
       " '\\n SELECT \"Teacher\".* FROM \"course_arrange\" JOIN \"teacher\"',\n",
       " '\\n SELECT hometown FROM teacher WHERE age = (SELECT MIN(age) FROM teacher);',\n",
       " ' \\n SELECT hometown FROM teacher WHERE grade = (SELECT MAX(grade) FROM course_',\n",
       " '\\n SELECT \"Teacher\".* FROM \"course_arrange\" JOIN \"teacher\"',\n",
       " ' \\n SELECT name FROM teacher WHERE course_id = (SELECT course_id FROM course_ar',\n",
       " '\\n```\\nSELECT COUNT(*) FROM visitor WHERE Age < 30;\\n```\\n###',\n",
       " '\\n```\\nSELECT visitor.Name, \\n       (SELECT level_of_membership',\n",
       " '\\n SELECT AVG(Age) FROM visitor WHERE Level_of_membership < 4',\n",
       " '\\n```\\nSELECT v.Name, v.Level_of_membership\\nFROM visitor',\n",
       " '\\n```\\nSELECT Museum_ID, Name\\nFROM museum\\nGROUP BY Museum_ID\\nORDER',\n",
       " ' \\nSELECT \\n    AVG(Num_of_Staff)\\nFROM \\n',\n",
       " \"\\n```\\nSELECT name FROM museum WHERE open_year > '2010' AND staff\",\n",
       " '\\n```\\nSELECT visitor.Name, visitor.Level_of_membership\\nFROM visitor',\n",
       " '\\n```\\nSELECT name, COUNT(*) as num_visits\\nFROM visit\\nGROUP BY name',\n",
       " '\\n select * from museum where num_of_staff = 0;\\n\\n###',\n",
       " '\\n SELECT name, age FROM visitor WHERE num_of_ticket = (SELECT MAX(num',\n",
       " '\\n```\\nSELECT visitor.Name\\nFROM visitor\\nJOIN visit ON visitor.ID = visit',\n",
       " 'INVESTIGATE',\n",
       " 'INVESTIGATE',\n",
       " 'INVESTIGATE',\n",
       " 'INVESTIGATE',\n",
       " 'INVESTIGATE',\n",
       " 'INVESTIGATE',\n",
       " 'INVESTIGATE',\n",
       " 'INVESTIGATE',\n",
       " 'INVESTIGATE',\n",
       " 'INVESTIGATE',\n",
       " ' \\n```\\nSELECT \\n  COUNT(*) \\nFROM \\n  ship \\nWHERE',\n",
       " '\\n```\\nSELECT name, tonnage FROM ship ORDER BY name DESC;\\n```\\n##',\n",
       " '\\n```\\nSELECT name, date, result FROM battle;\\n```\\n###  List the',\n",
       " '\\n```\\nSELECT \\n    MIN(death.killed), \\n    MAX',\n",
       " '\\n```\\nSELECT \\n  AVG(injured)\\nFROM \\n  death',\n",
       " '\\n```\\nSELECT id, name, COUNT(*) as num_killed\\nFROM battle\\nJ',\n",
       " '\\n```\\nSELECT ship.name, SUM(injured) AS total_injuries',\n",
       " ' \\nSELECT * FROM battle; \\n\\n###  How many different results are there for',\n",
       " '\\n```\\nSELECT * FROM battle WHERE lost_in_battle = 0 AND tonn',\n",
       " '\\n```\\nSELECT name, date\\nFROM battle\\nWHERE lost_in_battle = (',\n",
       " 'INVESTIGATE',\n",
       " 'INVESTIGATE',\n",
       " 'INVESTIGATE',\n",
       " 'INVESTIGATE',\n",
       " 'INVESTIGATE',\n",
       " 'INVESTIGATE',\n",
       " 'INVESTIGATE',\n",
       " 'INVESTIGATE',\n",
       " 'INVESTIGATE',\n",
       " 'INVESTIGATE',\n",
       " 'INVESTIGATE',\n",
       " 'INVESTIGATE',\n",
       " '\\n SELECT Title FROM Cartoon;\\n\\n###  List the title of all cartoons',\n",
       " '\\n SELECT * FROM \"Cartoon\" WHERE \"Directed_by\" = \\'Ben Jones\\';',\n",
       " ' \\n SELECT \"Cartoon\".\"Title\", \"Cartoon\".\"Directed_by\",',\n",
       " ' \\n SELECT \"Cartoon\".* FROM \"Cartoon\" \\n WHERE \"Channel\" =',\n",
       " '\\n SELECT \"Title\" FROM \"Cartoon\" WHERE \"Directed_by\" = \\'Ben',\n",
       " '\\n SELECT Country, COUNT(*) as Number_of_Channels\\n FROM TV_Channel\\n GROUP',\n",
       " '\\n SELECT COUNT(*) as num_series, DISTINCT series_name as series_names FROM',\n",
       " '\\nSELECT Language, COUNT(*) as Number_of_TV_Channel\\nFROM TV_Channel\\n',\n",
       " '\\n```\\nSELECT * FROM TV_Channel WHERE NOT EXISTS (SELECT 1 FROM Cartoon WHERE',\n",
       " ' \\n SELECT \"TV_Channel\".* FROM \"TV_Channel\" \\n JOIN \"TV',\n",
       " ' \\n```\\nSELECT COUNT(*) FROM poker_player;\\n```\\n###  What',\n",
       " '\\n```\\nSELECT * FROM poker_player WHERE Final_Table_Made = 1',\n",
       " '\\nSELECT \"Poker_Player_ID\", \"Final_Table_Made\", \"Best',\n",
       " ' \\n```\\nSELECT \\n  AVG(Earnings)\\nFROM \\n ',\n",
       " '\\n```\\nSELECT * FROM poker_player WHERE Final_Table_Made = 1',\n",
       " '\\n```\\nSELECT * FROM poker_player WHERE Final_Table_Made = 1',\n",
       " '\\n```\\nSELECT * FROM poker_player WHERE Final_Table_Made = 1',\n",
       " '\\n select \"Money_Rank\" from \"poker_player\" where \"Final_',\n",
       " '\\n select \\n  nationality\\n from \\n  people\\n where \\n  final_',\n",
       " ' \\n SELECT COUNT(*) FROM \"VOTES\" WHERE \"state\" = (SELECT \"state',\n",
       " '\\n  SELECT contestant_name, contestant_number \\n  FROM CONTESTANTS',\n",
       " '\\n  SELECT vote_id, phone_number, state FROM VOTES; ',\n",
       " '\\n SELECT \\n    MIN(area_code), \\n    MAX(area_code',\n",
       " \"\\n```\\nSELECT created FROM VOTES WHERE state = 'CA';\\n```\\n###\",\n",
       " \" \\n SELECT contestant_number FROM VOTES WHERE contestant_name NOT = 'J\",\n",
       " '\\n SELECT contestant_number, contestant_name FROM VOTES WHERE votes < (SELECT',\n",
       " ' \\n SELECT * FROM VOTES WHERE NOT EXISTS (SELECT 1 FROM AREA_',\n",
       " \"\\n SELECT area_code FROM VOTES WHERE state = 'CA';\\n \",\n",
       " '\\n```\\nSELECT \"CountryName\", \"IndepYear\" FROM \"country\" WHERE \"Ind',\n",
       " \" \\n```\\nSELECT * FROM country WHERE GovernmentForm = 'Republic';\\n```\\n##\",\n",
       " \" \\n SELECT SurfaceArea FROM country WHERE Region = 'Caribbean'; \",\n",
       " ' \\n SELECT \"Region\" FROM \"city\" WHERE \"Name\" = \\'Kabul\\';',\n",
       " ' \\n SELECT \"Name\", \"Population\", \"LifeExpectancy\", \"GNP\",',\n",
       " ' \\n SELECT \"Country\".* FROM \"country\" WHERE \"Country\".Code = \\'BR\\';',\n",
       " ' \\n SELECT \"Name\", \"Continent\", \"Region\", \"Population\" FROM \"country',\n",
       " ' \\n SELECT \"Name\" FROM \"country\" WHERE \"LifeExpectancy\" = (SELECT',\n",
       " '\\n```\\nSELECT * FROM country WHERE LifeExpectancy = (SELECT MAX(LifeExpect',\n",
       " ' \\nSELECT continent, COUNT(*) as numLanguages, AVG(Percentage) as av',\n",
       " ' \\n SELECT \"Region\" FROM \"country\" WHERE \"Language\" IN (\\'English\\', \\'D',\n",
       " ' \\n SELECT \"Language\" FROM \"countrylanguage\" WHERE \"CountryCode\" IN (SELECT \"',\n",
       " ' \\n SELECT COUNT(*) FROM conductor; ',\n",
       " '\\n SELECT Name FROM conductor WHERE Age ASC;\\n\\n###  List the names of conduct',\n",
       " \"\\n```\\nSELECT Name FROM conductor WHERE Nationality != 'USA';\\n```\\n###\",\n",
       " '\\n```\\nSELECT \\n  MIN(share),\\n  MAX(share)\\nFROM',\n",
       " '\\n SELECT Name FROM conductor WHERE Year_of_Work = (SELECT MAX(Year_of',\n",
       " ' \\n SELECT \"Name\" FROM \"conductor\" WHERE \"Conductor_ID\"',\n",
       " '\\n SELECT Name FROM conductor WHERE FOREIGN KEY (`Conductor_ID`) IN (',\n",
       " '\\n \\n SELECT \\n  COUNT(*) as num_orchestras, \\n  r',\n",
       " '\\n  SELECT \"Orchestra\".* FROM \"orchestra\" WHERE NOT EXISTS (SELECT 1',\n",
       " ' \\n```\\nSELECT * FROM orchestra \\nWHERE Year_of_Founded BET',\n",
       " ' \\n```\\nSELECT COUNT(*) FROM Highschooler;\\n```\\n###  How many',\n",
       " ' \\nSELECT Highschooler.name, Highschooler.grade \\nFROM Highschooler',\n",
       " ' \\nSELECT * FROM Highschooler;\\n\\n###  Show all the friends of a',\n",
       " ' SELECT grade FROM Highschooler WHERE student_id = 1;\\n OUTPUT: \\n',\n",
       " \" \\n```\\nSELECT * FROM Highschooler WHERE grade = '9' OR grade = '\",\n",
       " ' \\nSELECT grade, COUNT(*) as num_students \\nFROM Highschooler \\n',\n",
       " ' \\nSELECT grade.grade FROM (SELECT grade, COUNT(*) as num_students FROM High',\n",
       " ' \\nSELECT student_id, COUNT(*) as num_friends \\nFROM Friend \\n',\n",
       " ' \\nSELECT friend_id FROM Friend WHERE student_id = 1;\\n\\n###',\n",
       " ' \\nSELECT student_id FROM Friend WHERE friend_id IS NULL;\\n\\n### Output',\n",
       " ' \\nSELECT name FROM Likes WHERE liked_id = (SELECT MAX(liked_id',\n",
       " ' \\nSELECT MIN(grade) FROM Highschooler WHERE NOT EXISTS (SELECT 1 FROM',\n",
       " ' \\n SELECT \\n  COUNT(*) as num_states\\nFROM \\n  Owners',\n",
       " ' \\n SELECT AVG(age) FROM Dogs  WHERE exists (SELECT 1 FROM Tre',\n",
       " ' \\n SELECT \\n  professionals.last_name, \\n  professionals.cell',\n",
       " ' \\n SELECT \\n    dogs.name \\nFROM \\n    Dogs \\nIN',\n",
       " ' \\n SELECT professional_id, role, email_address FROM Professionals WHERE NOT EXISTS (',\n",
       " ' \\nSELECT owner_id, first_name, last_name FROM Owners WHERE owner',\n",
       " ' \\n SELECT professional_id, role, first_name \\n FROM Professionals \\n',\n",
       " ' \\n SELECT \\n  professionals.professional_id, \\n  professionals.',\n",
       " ' \\n SELECT \\n    Treatments.date_of_treatment, \\n',\n",
       " ' \\n SELECT COUNT(*) FROM `Dogs` \\n LEFT JOIN `Treatments`',\n",
       " ' \\n SELECT COUNT(*) FROM `Professionals` WHERE EXISTS (SELECT 1 FROM `',\n",
       " ' \\n SELECT AVG(age) FROM Dogs; ',\n",
       " ' \\n```\\nSELECT COUNT(*) FROM singer;\\n```\\n###  What is the name',\n",
       " ' \\n SELECT \"Name\" FROM \"singer\" WHERE \"Net_Worth_Millions',\n",
       " '\\n```\\nSELECT \"Singer\".* FROM \"singer\" \\nJOIN \"song',\n",
       " '\\n SELECT \"Name\" FROM \"singer\" WHERE \"Citizenship\" != \\'',\n",
       " ' \\n SELECT Name FROM singer WHERE Birth_Year = 1948 OR Birth',\n",
       " '\\n SELECT Name, Net_Worth_Millions FROM singer WHERE Net_Worth_Mill',\n",
       " '\\n SELECT citizenship FROM singer WHERE Net_Worth_Millions > 100;',\n",
       " ' \\n SELECT \"Singer_ID\", \"Citizenship\" FROM \"singer',\n",
       " ' \\n SELECT \"Name\" FROM \"singer\" WHERE \"Singer_ID\" NOT IN',\n",
       " ' \\n```\\nSELECT COUNT(*) FROM Other_Available_Features;\\n```\\n###',\n",
       " ' \\n```\\nSELECT feature_type_name FROM Ref_Feature_Types WHERE feature_type',\n",
       " ' \\n SELECT property_type_description FROM Ref_Property_Types WHERE property_type_code',\n",
       " ' \\n```\\nSELECT * FROM Properties WHERE room_count > 1 AND (property_type']"
      ]
     },
     "execution_count": 120,
     "metadata": {},
     "output_type": "execute_result"
    }
   ],
   "source": [
    "data['train']['llama_7b_complex']"
   ]
  },
  {
   "cell_type": "code",
   "execution_count": 5,
   "metadata": {},
   "outputs": [],
   "source": [
    "#data = DatasetDict.load_from_disk('draft/llama_7b_complex')"
   ]
  },
  {
   "cell_type": "code",
   "execution_count": 7,
   "metadata": {},
   "outputs": [
    {
     "data": {
      "application/vnd.jupyter.widget-view+json": {
       "model_id": "33e0e3810b9a42149e5ced75d04cc097",
       "version_major": 2,
       "version_minor": 0
      },
      "text/plain": [
       "Saving the dataset (0/1 shards):   0%|          | 0/209 [00:00<?, ? examples/s]"
      ]
     },
     "metadata": {},
     "output_type": "display_data"
    }
   ],
   "source": [
    "#data.save_to_disk('draft/data_7b_predictions')"
   ]
  },
  {
   "cell_type": "markdown",
   "metadata": {},
   "source": [
    "# OpenAI 👑"
   ]
  },
  {
   "cell_type": "code",
   "execution_count": 12,
   "metadata": {},
   "outputs": [
    {
     "data": {
      "text/plain": [
       "'### Complete sqlite SQL query only and with no explanation, and do not select extra columns that are not explicitly requested in the query.\\n### Sqlite SQL tables, with their properties:\\n#\\n# '"
      ]
     },
     "execution_count": 12,
     "metadata": {},
     "output_type": "execute_result"
    }
   ],
   "source": [
    "strings = [\n",
    "    '### Complete sqlite SQL query only and with no explanation, and do not select extra columns that are not explicitly requested in the query.\\n',\n",
    "    '### Sqlite SQL tables, with their properties:\\n',\n",
    "    '#\\n',\n",
    "    '# ', # create statement goes here (index 4)\n",
    "    '\\n', \n",
    "    '#\\n',\n",
    "    '### ', # question goes here (index 8) - must account for prior insertion\n",
    "    '\\n', \n",
    "    'SQL QUERY:',\n",
    "]\n",
    "\n",
    "complex_prompt = strings[0] + strings[1] + strings[2] + strings[3]\n",
    "complex_prompt"
   ]
  },
  {
   "cell_type": "code",
   "execution_count": 13,
   "metadata": {},
   "outputs": [
    {
     "data": {
      "text/plain": [
       "'Provide the SQL query that answers the QUESTION, with no explanation or special characters. CONTEXT: Relevant SQL tables, with their properties: {create_statement} QUESTION: {question} '"
      ]
     },
     "execution_count": 13,
     "metadata": {},
     "output_type": "execute_result"
    }
   ],
   "source": [
    "\"Provide the SQL query that answers the QUESTION, with no explanation or special characters. CONTEXT: Relevant SQL tables, with their properties: {create_statement} QUESTION: {question} \"\n"
   ]
  },
  {
   "cell_type": "code",
   "execution_count": 14,
   "metadata": {},
   "outputs": [],
   "source": [
    "openai.api_key = OPENAI_API_KEY"
   ]
  },
  {
   "cell_type": "code",
   "execution_count": 82,
   "metadata": {},
   "outputs": [],
   "source": [
    "def openai_sql_request_structure(\n",
    "    user_prompt: str,\n",
    "    system_context: str,\n",
    ") -> List[Dict[str, str]]:\n",
    "    \n",
    "    # if system_context is None:\n",
    "    #     system_context = self.prompts._openai_sql_request_structure_prompt\n",
    "    \n",
    "    message = [\n",
    "        {\"role\": \"system\", \"content\": system_context},\n",
    "        {\"role\": \"user\", \"content\": f'{user_prompt}'},\n",
    "        # {\"role\": \"user\", \"content\": f'Context: {user_context}\\n\\nQuestion\": {user_question}'},\n",
    "    ]\n",
    "\n",
    "    return message\n",
    "\n",
    "def openai_sql_request(\n",
    "    openai, \n",
    "    user_prompt: str,\n",
    "    system_context: str,\n",
    "    model: Optional[str] = \"gpt-3.5-turbo\", # TODO: consider using an enum for this\n",
    ") -> Optional[OpenAIObject]:\n",
    "\n",
    "    message = openai_sql_request_structure(user_prompt, system_context)\n",
    "\n",
    "    try: \n",
    "        request = openai.ChatCompletion.create(\n",
    "            model=model, \n",
    "            messages=message,\n",
    "        )\n",
    "    except Exception as e:\n",
    "        print(f\"OpenAI request failed with error: {e}\")\n",
    "        #raise e    \n",
    "        request = 'INVESTIGATE'\n",
    "\n",
    "    # if validate_response:\n",
    "    #     return openai_sql_response(request)\n",
    "\n",
    "    return request\n",
    "\n",
    "def dataset_openai_sql_request(\n",
    "    dataset: Dataset,\n",
    "    user_prompt_column: str,\n",
    "    system_context: str,\n",
    "    response_column: str,\n",
    "    model: Optional[str] = \"gpt-3.5-turbo\", # TODO: consider using an enum for this\n",
    ") -> Optional[OpenAIObject]:\n",
    "\n",
    "    user_prompt = dataset[user_prompt_column]\n",
    "\n",
    "    request = openai_sql_request(\n",
    "        openai=openai,\n",
    "        user_prompt=user_prompt,\n",
    "        system_context=system_context,\n",
    "        model=model,\n",
    "    )\n",
    "\n",
    "    return {response_column: request}"
   ]
  },
  {
   "cell_type": "code",
   "execution_count": 69,
   "metadata": {},
   "outputs": [],
   "source": [
    "data_0_50 = data['train'].select(range(0, 50))\n",
    "data_50_100 = data['train'].select(range(50, 100))\n",
    "data_100_150 = data['train'].select(range(100, 150))\n",
    "data_150_200 = data['train'].select(range(150, 200))\n",
    "data_200_ = data['train'].select(range(200, len(data['train'])))\n",
    "\n",
    "system_prompt = 'You are a SQL coder that only responds with SQL queries.'\n",
    "\n",
    "time.sleep(60)"
   ]
  },
  {
   "cell_type": "code",
   "execution_count": 72,
   "metadata": {},
   "outputs": [],
   "source": [
    "data_0_25 = data['train'].select(range(0, 25))\n",
    "data_25_50 = data['train'].select(range(25, 50))\n",
    "data_50_75 = data['train'].select(range(50, 75))\n",
    "data_75_100 = data['train'].select(range(75, 100))\n",
    "data_100_125 = data['train'].select(range(100, 125))\n",
    "data_125_150 = data['train'].select(range(125, 150))\n",
    "data_150_175 = data['train'].select(range(150, 175))\n",
    "data_175_200 = data['train'].select(range(175, 200))\n",
    "data_200_ = data['train'].select(range(200, len(data['train'])))\n",
    "\n",
    "system_prompt = 'You are a SQL coder that only responds with SQL queries.'\n",
    "\n",
    "time.sleep(60)"
   ]
  },
  {
   "cell_type": "code",
   "execution_count": 73,
   "metadata": {},
   "outputs": [
    {
     "data": {
      "application/vnd.jupyter.widget-view+json": {
       "model_id": "958a2a54447d440f8725ee79c3085e4c",
       "version_major": 2,
       "version_minor": 0
      },
      "text/plain": [
       "Map:   0%|          | 0/25 [00:00<?, ? examples/s]"
      ]
     },
     "metadata": {},
     "output_type": "display_data"
    },
    {
     "data": {
      "application/vnd.jupyter.widget-view+json": {
       "model_id": "a118ba980c6e45ac8d3b2480852f2789",
       "version_major": 2,
       "version_minor": 0
      },
      "text/plain": [
       "Map:   0%|          | 0/25 [00:00<?, ? examples/s]"
      ]
     },
     "metadata": {},
     "output_type": "display_data"
    }
   ],
   "source": [
    "data_0_25 = data_0_25.map(dataset_openai_sql_request, fn_kwargs= {\"user_prompt_column\":  'zero_shot_request_complex', \"system_context\": system_prompt, \"response_column\": 'gpt_3_5_complex'}, load_from_cache_file=False)\n",
    "time.sleep(60)\n",
    "\n",
    "data_25_50 = data_25_50.map(dataset_openai_sql_request, fn_kwargs= {\"user_prompt_column\":  'zero_shot_request_complex', \"system_context\": system_prompt, \"response_column\": 'gpt_3_5_complex'}, load_from_cache_file=False)\n",
    "time.sleep(60)"
   ]
  },
  {
   "cell_type": "code",
   "execution_count": 74,
   "metadata": {},
   "outputs": [
    {
     "data": {
      "application/vnd.jupyter.widget-view+json": {
       "model_id": "329a716e496147e39768ac31fc75d378",
       "version_major": 2,
       "version_minor": 0
      },
      "text/plain": [
       "Map:   0%|          | 0/25 [00:00<?, ? examples/s]"
      ]
     },
     "metadata": {},
     "output_type": "display_data"
    },
    {
     "data": {
      "application/vnd.jupyter.widget-view+json": {
       "model_id": "c32ef79a8538457490a2ba4ecac90e5c",
       "version_major": 2,
       "version_minor": 0
      },
      "text/plain": [
       "Map:   0%|          | 0/25 [00:00<?, ? examples/s]"
      ]
     },
     "metadata": {},
     "output_type": "display_data"
    }
   ],
   "source": [
    "data_50_75 = data_50_75.map(dataset_openai_sql_request, fn_kwargs= {\"user_prompt_column\":  'zero_shot_request_complex', \"system_context\": system_prompt, \"response_column\": 'gpt_3_5_complex'}, load_from_cache_file=False)\n",
    "time.sleep(60)\n",
    "\n",
    "data_75_100 = data_75_100.map(dataset_openai_sql_request, fn_kwargs= {\"user_prompt_column\":  'zero_shot_request_complex', \"system_context\": system_prompt, \"response_column\": 'gpt_3_5_complex'}, load_from_cache_file=False)\n",
    "time.sleep(60)"
   ]
  },
  {
   "cell_type": "code",
   "execution_count": 75,
   "metadata": {},
   "outputs": [
    {
     "data": {
      "application/vnd.jupyter.widget-view+json": {
       "model_id": "95144558234146aebb21e72a41bfa453",
       "version_major": 2,
       "version_minor": 0
      },
      "text/plain": [
       "Map:   0%|          | 0/25 [00:00<?, ? examples/s]"
      ]
     },
     "metadata": {},
     "output_type": "display_data"
    },
    {
     "data": {
      "application/vnd.jupyter.widget-view+json": {
       "model_id": "af9ddd418b964ae89bc0c44a7f4f6f76",
       "version_major": 2,
       "version_minor": 0
      },
      "text/plain": [
       "Map:   0%|          | 0/25 [00:00<?, ? examples/s]"
      ]
     },
     "metadata": {},
     "output_type": "display_data"
    }
   ],
   "source": [
    "data_100_125 = data_100_125.map(dataset_openai_sql_request, fn_kwargs= {\"user_prompt_column\":  'zero_shot_request_complex', \"system_context\": system_prompt, \"response_column\": 'gpt_3_5_complex'}, load_from_cache_file=False)\n",
    "time.sleep(60)\n",
    "\n",
    "data_125_150 = data_125_150.map(dataset_openai_sql_request, fn_kwargs= {\"user_prompt_column\":  'zero_shot_request_complex', \"system_context\": system_prompt, \"response_column\": 'gpt_3_5_complex'}, load_from_cache_file=False)\n",
    "time.sleep(60)"
   ]
  },
  {
   "cell_type": "code",
   "execution_count": 76,
   "metadata": {},
   "outputs": [
    {
     "data": {
      "application/vnd.jupyter.widget-view+json": {
       "model_id": "6253c2c7ddfb418a9adf3435d45d4be7",
       "version_major": 2,
       "version_minor": 0
      },
      "text/plain": [
       "Map:   0%|          | 0/25 [00:00<?, ? examples/s]"
      ]
     },
     "metadata": {},
     "output_type": "display_data"
    },
    {
     "data": {
      "application/vnd.jupyter.widget-view+json": {
       "model_id": "d6506c901bbe40b3be3ab6e9c0526752",
       "version_major": 2,
       "version_minor": 0
      },
      "text/plain": [
       "Map:   0%|          | 0/25 [00:00<?, ? examples/s]"
      ]
     },
     "metadata": {},
     "output_type": "display_data"
    }
   ],
   "source": [
    "data_150_175 = data_150_175.map(dataset_openai_sql_request, fn_kwargs= {\"user_prompt_column\":  'zero_shot_request_complex', \"system_context\": system_prompt, \"response_column\": 'gpt_3_5_complex'}, load_from_cache_file=False)\n",
    "time.sleep(60)\n",
    "\n",
    "data_175_200 = data_175_200.map(dataset_openai_sql_request, fn_kwargs= {\"user_prompt_column\":  'zero_shot_request_complex', \"system_context\": system_prompt, \"response_column\": 'gpt_3_5_complex'}, load_from_cache_file=False)\n",
    "time.sleep(60)"
   ]
  },
  {
   "cell_type": "code",
   "execution_count": 77,
   "metadata": {},
   "outputs": [
    {
     "data": {
      "application/vnd.jupyter.widget-view+json": {
       "model_id": "380de74484ea49a7ad6cb73ea96e88f0",
       "version_major": 2,
       "version_minor": 0
      },
      "text/plain": [
       "Map:   0%|          | 0/9 [00:00<?, ? examples/s]"
      ]
     },
     "metadata": {},
     "output_type": "display_data"
    }
   ],
   "source": [
    "data_200_ = data_200_.map(dataset_openai_sql_request, fn_kwargs= {\"user_prompt_column\":  'zero_shot_request_complex', \"system_context\": system_prompt, \"response_column\": 'gpt_3_5_complex'}, load_from_cache_file=False)\n",
    "time.sleep(60)"
   ]
  },
  {
   "cell_type": "code",
   "execution_count": 78,
   "metadata": {},
   "outputs": [
    {
     "data": {
      "application/vnd.jupyter.widget-view+json": {
       "model_id": "593056220cb949b190d7d2b2385f8933",
       "version_major": 2,
       "version_minor": 0
      },
      "text/plain": [
       "Saving the dataset (0/1 shards):   0%|          | 0/209 [00:00<?, ? examples/s]"
      ]
     },
     "metadata": {},
     "output_type": "display_data"
    }
   ],
   "source": [
    "data_gpt = datasets.concatenate_datasets([data_0_25, data_25_50, data_50_75, data_75_100, data_100_125, data_125_150, data_150_175, data_175_200, data_200_])\n",
    "\n",
    "data_gpt.save_to_disk('draft/data_gpt_3_5_complex')"
   ]
  },
  {
   "cell_type": "code",
   "execution_count": 80,
   "metadata": {},
   "outputs": [
    {
     "data": {
      "text/plain": [
       "Dataset({\n",
       "    features: ['db_id', 'query', 'question', 'create_w_keys', 'create_wo_keys', 'difficulty', 'zero_shot_request', 'defog_sqlcoder_7b', 'defog_sqlcoder_7b_latency', 'mistral_7b_instruct', 'mistral_7b_instruct_latency', 'llama_7b', 'llama_7b_latency', 'zero_shot_request_complex', 'mistral_7b_instruct_complex', 'mistral_7b_instruct_complex_latency', 'defog_sqlcoder_7b_complex', 'defog_sqlcoder_7b_complex_latency', 'llama_7b_complex', 'llama_7b_complex_latency', 'gpt_3_5_complex'],\n",
       "    num_rows: 209\n",
       "})"
      ]
     },
     "execution_count": 80,
     "metadata": {},
     "output_type": "execute_result"
    }
   ],
   "source": [
    "data_gpt"
   ]
  },
  {
   "cell_type": "code",
   "execution_count": 83,
   "metadata": {},
   "outputs": [
    {
     "data": {
      "application/vnd.jupyter.widget-view+json": {
       "model_id": "7233c66bc53b4e528090e300da13f9ab",
       "version_major": 2,
       "version_minor": 0
      },
      "text/plain": [
       "Map:   0%|          | 0/25 [00:00<?, ? examples/s]"
      ]
     },
     "metadata": {},
     "output_type": "display_data"
    },
    {
     "data": {
      "application/vnd.jupyter.widget-view+json": {
       "model_id": "28e0cf333e4b4202b6e39ae08212ab43",
       "version_major": 2,
       "version_minor": 0
      },
      "text/plain": [
       "Map:   0%|          | 0/25 [00:00<?, ? examples/s]"
      ]
     },
     "metadata": {},
     "output_type": "display_data"
    }
   ],
   "source": [
    "data_0_25 = data_0_25.map(dataset_openai_sql_request, fn_kwargs= {\"user_prompt_column\":  'zero_shot_request', \"system_context\": system_prompt, \"response_column\": 'gpt_3_5'}, load_from_cache_file=False)\n",
    "time.sleep(60)\n",
    "\n",
    "data_25_50 = data_25_50.map(dataset_openai_sql_request, fn_kwargs= {\"user_prompt_column\":  'zero_shot_request', \"system_context\": system_prompt, \"response_column\": 'gpt_3_5'}, load_from_cache_file=False)\n",
    "time.sleep(60)"
   ]
  },
  {
   "cell_type": "code",
   "execution_count": 84,
   "metadata": {},
   "outputs": [
    {
     "data": {
      "application/vnd.jupyter.widget-view+json": {
       "model_id": "0be493163e7c458d8669de6b16085653",
       "version_major": 2,
       "version_minor": 0
      },
      "text/plain": [
       "Map:   0%|          | 0/25 [00:00<?, ? examples/s]"
      ]
     },
     "metadata": {},
     "output_type": "display_data"
    },
    {
     "data": {
      "application/vnd.jupyter.widget-view+json": {
       "model_id": "af473a14aa614e01b7990447018d2ef7",
       "version_major": 2,
       "version_minor": 0
      },
      "text/plain": [
       "Map:   0%|          | 0/25 [00:00<?, ? examples/s]"
      ]
     },
     "metadata": {},
     "output_type": "display_data"
    }
   ],
   "source": [
    "data_50_75 = data_50_75.map(dataset_openai_sql_request, fn_kwargs= {\"user_prompt_column\":  'zero_shot_request', \"system_context\": system_prompt, \"response_column\": 'gpt_3_5'}, load_from_cache_file=False)\n",
    "time.sleep(60)\n",
    "\n",
    "data_75_100 = data_75_100.map(dataset_openai_sql_request, fn_kwargs= {\"user_prompt_column\":  'zero_shot_request', \"system_context\": system_prompt, \"response_column\": 'gpt_3_5'}, load_from_cache_file=False)\n",
    "time.sleep(60)"
   ]
  },
  {
   "cell_type": "code",
   "execution_count": 86,
   "metadata": {},
   "outputs": [
    {
     "data": {
      "application/vnd.jupyter.widget-view+json": {
       "model_id": "077b5c9463884e4a8fad68c197d0e449",
       "version_major": 2,
       "version_minor": 0
      },
      "text/plain": [
       "Map:   0%|          | 0/25 [00:00<?, ? examples/s]"
      ]
     },
     "metadata": {},
     "output_type": "display_data"
    },
    {
     "data": {
      "application/vnd.jupyter.widget-view+json": {
       "model_id": "0a9ee8098ff54a6e9844ec6fe0221911",
       "version_major": 2,
       "version_minor": 0
      },
      "text/plain": [
       "Map:   0%|          | 0/25 [00:00<?, ? examples/s]"
      ]
     },
     "metadata": {},
     "output_type": "display_data"
    }
   ],
   "source": [
    "time.sleep(60)\n",
    "data_100_125 = data_100_125.map(dataset_openai_sql_request, fn_kwargs= {\"user_prompt_column\":  'zero_shot_request', \"system_context\": system_prompt, \"response_column\": 'gpt_3_5'}, load_from_cache_file=False)\n",
    "time.sleep(60)\n",
    "\n",
    "data_125_150 = data_125_150.map(dataset_openai_sql_request, fn_kwargs= {\"user_prompt_column\":  'zero_shot_request', \"system_context\": system_prompt, \"response_column\": 'gpt_3_5'}, load_from_cache_file=False)\n",
    "time.sleep(60)"
   ]
  },
  {
   "cell_type": "code",
   "execution_count": 90,
   "metadata": {},
   "outputs": [
    {
     "data": {
      "application/vnd.jupyter.widget-view+json": {
       "model_id": "3f25279efa8443f3af7fd7280d7216ba",
       "version_major": 2,
       "version_minor": 0
      },
      "text/plain": [
       "Map:   0%|          | 0/25 [00:00<?, ? examples/s]"
      ]
     },
     "metadata": {},
     "output_type": "display_data"
    },
    {
     "data": {
      "application/vnd.jupyter.widget-view+json": {
       "model_id": "fc3e8236189d44e9858f0d8a610240e4",
       "version_major": 2,
       "version_minor": 0
      },
      "text/plain": [
       "Map:   0%|          | 0/25 [00:00<?, ? examples/s]"
      ]
     },
     "metadata": {},
     "output_type": "display_data"
    }
   ],
   "source": [
    "data_150_175 = data_150_175.map(dataset_openai_sql_request, fn_kwargs= {\"user_prompt_column\":  'zero_shot_request', \"system_context\": system_prompt, \"response_column\": 'gpt_3_5'}, load_from_cache_file=False)\n",
    "time.sleep(60)\n",
    "\n",
    "data_175_200 = data_175_200.map(dataset_openai_sql_request, fn_kwargs= {\"user_prompt_column\":  'zero_shot_request', \"system_context\": system_prompt, \"response_column\": 'gpt_3_5'}, load_from_cache_file=False)\n",
    "time.sleep(60)"
   ]
  },
  {
   "cell_type": "code",
   "execution_count": 91,
   "metadata": {},
   "outputs": [
    {
     "data": {
      "application/vnd.jupyter.widget-view+json": {
       "model_id": "544824bbfd364a8299cf40a3fa21105e",
       "version_major": 2,
       "version_minor": 0
      },
      "text/plain": [
       "Map:   0%|          | 0/9 [00:00<?, ? examples/s]"
      ]
     },
     "metadata": {},
     "output_type": "display_data"
    }
   ],
   "source": [
    "data_200_ = data_200_.map(dataset_openai_sql_request, fn_kwargs= {\"user_prompt_column\":  'zero_shot_request', \"system_context\": system_prompt, \"response_column\": 'gpt_3_5'}, load_from_cache_file=False)"
   ]
  },
  {
   "cell_type": "code",
   "execution_count": 92,
   "metadata": {},
   "outputs": [
    {
     "data": {
      "application/vnd.jupyter.widget-view+json": {
       "model_id": "9474461781f1402192e2cb14a6c6e878",
       "version_major": 2,
       "version_minor": 0
      },
      "text/plain": [
       "Saving the dataset (0/1 shards):   0%|          | 0/209 [00:00<?, ? examples/s]"
      ]
     },
     "metadata": {},
     "output_type": "display_data"
    }
   ],
   "source": [
    "data_gpt = datasets.concatenate_datasets([data_0_25, data_25_50, data_50_75, data_75_100, data_100_125, data_125_150, data_150_175, data_175_200, data_200_])\n",
    "\n",
    "# data_gpt.save_to_disk('draft/data_gpt_3_5')"
   ]
  },
  {
   "cell_type": "code",
   "execution_count": 135,
   "metadata": {},
   "outputs": [
    {
     "data": {
      "application/vnd.jupyter.widget-view+json": {
       "model_id": "48a8a6a235e64014b0f558a5397b62f9",
       "version_major": 2,
       "version_minor": 0
      },
      "text/plain": [
       "Saving the dataset (0/1 shards):   0%|          | 0/209 [00:00<?, ? examples/s]"
      ]
     },
     "metadata": {},
     "output_type": "display_data"
    }
   ],
   "source": [
    "data_gpt.save_to_disk('draft/all_predictions')"
   ]
  },
  {
   "cell_type": "code",
   "execution_count": 126,
   "metadata": {},
   "outputs": [],
   "source": [
    "def extract_openai_response(\n",
    "    dataset, \n",
    "    response_column: str,\n",
    "    new_column: str,\n",
    "):\n",
    "    try:\n",
    "        response = data_gpt[response_column]\n",
    "        query = response['choices'][0]['message']['content']\n",
    "    except:\n",
    "        query = 'INVESTIGATE'\n",
    "\n",
    "    return {new_column: query}"
   ]
  },
  {
   "cell_type": "code",
   "execution_count": 127,
   "metadata": {},
   "outputs": [
    {
     "data": {
      "application/vnd.jupyter.widget-view+json": {
       "model_id": "bb02415f1b18450d982852b82308d0f9",
       "version_major": 2,
       "version_minor": 0
      },
      "text/plain": [
       "Map:   0%|          | 0/209 [00:00<?, ? examples/s]"
      ]
     },
     "metadata": {},
     "output_type": "display_data"
    },
    {
     "data": {
      "text/plain": [
       "['INVESTIGATE',\n",
       " 'INVESTIGATE',\n",
       " 'INVESTIGATE',\n",
       " 'INVESTIGATE',\n",
       " 'INVESTIGATE',\n",
       " 'INVESTIGATE',\n",
       " 'INVESTIGATE',\n",
       " 'INVESTIGATE',\n",
       " 'INVESTIGATE',\n",
       " 'INVESTIGATE',\n",
       " 'INVESTIGATE',\n",
       " 'INVESTIGATE',\n",
       " 'INVESTIGATE',\n",
       " 'INVESTIGATE',\n",
       " 'INVESTIGATE',\n",
       " 'INVESTIGATE',\n",
       " 'INVESTIGATE',\n",
       " 'INVESTIGATE',\n",
       " 'INVESTIGATE',\n",
       " 'INVESTIGATE',\n",
       " 'INVESTIGATE',\n",
       " 'INVESTIGATE',\n",
       " 'INVESTIGATE',\n",
       " 'INVESTIGATE',\n",
       " 'INVESTIGATE',\n",
       " 'INVESTIGATE',\n",
       " 'INVESTIGATE',\n",
       " 'INVESTIGATE',\n",
       " 'INVESTIGATE',\n",
       " 'INVESTIGATE',\n",
       " 'INVESTIGATE',\n",
       " 'INVESTIGATE',\n",
       " 'INVESTIGATE',\n",
       " 'INVESTIGATE',\n",
       " 'INVESTIGATE',\n",
       " 'INVESTIGATE',\n",
       " 'INVESTIGATE',\n",
       " 'INVESTIGATE',\n",
       " 'INVESTIGATE',\n",
       " 'INVESTIGATE',\n",
       " 'INVESTIGATE',\n",
       " 'INVESTIGATE',\n",
       " 'INVESTIGATE',\n",
       " 'INVESTIGATE',\n",
       " 'INVESTIGATE',\n",
       " 'INVESTIGATE',\n",
       " 'INVESTIGATE',\n",
       " 'INVESTIGATE',\n",
       " 'INVESTIGATE',\n",
       " 'INVESTIGATE',\n",
       " 'INVESTIGATE',\n",
       " 'INVESTIGATE',\n",
       " 'INVESTIGATE',\n",
       " 'INVESTIGATE',\n",
       " 'INVESTIGATE',\n",
       " 'INVESTIGATE',\n",
       " 'INVESTIGATE',\n",
       " 'INVESTIGATE',\n",
       " 'INVESTIGATE',\n",
       " 'INVESTIGATE',\n",
       " 'INVESTIGATE',\n",
       " 'INVESTIGATE',\n",
       " 'INVESTIGATE',\n",
       " 'INVESTIGATE',\n",
       " 'INVESTIGATE',\n",
       " 'INVESTIGATE',\n",
       " 'INVESTIGATE',\n",
       " 'INVESTIGATE',\n",
       " 'INVESTIGATE',\n",
       " 'INVESTIGATE',\n",
       " 'INVESTIGATE',\n",
       " 'INVESTIGATE',\n",
       " 'INVESTIGATE',\n",
       " 'INVESTIGATE',\n",
       " 'INVESTIGATE',\n",
       " 'INVESTIGATE',\n",
       " 'INVESTIGATE',\n",
       " 'INVESTIGATE',\n",
       " 'INVESTIGATE',\n",
       " 'INVESTIGATE',\n",
       " 'INVESTIGATE',\n",
       " 'INVESTIGATE',\n",
       " 'INVESTIGATE',\n",
       " 'INVESTIGATE',\n",
       " 'INVESTIGATE',\n",
       " 'INVESTIGATE',\n",
       " 'INVESTIGATE',\n",
       " 'INVESTIGATE',\n",
       " 'INVESTIGATE',\n",
       " 'INVESTIGATE',\n",
       " 'INVESTIGATE',\n",
       " 'INVESTIGATE',\n",
       " 'INVESTIGATE',\n",
       " 'INVESTIGATE',\n",
       " 'INVESTIGATE',\n",
       " 'INVESTIGATE',\n",
       " 'INVESTIGATE',\n",
       " 'INVESTIGATE',\n",
       " 'INVESTIGATE',\n",
       " 'INVESTIGATE',\n",
       " 'INVESTIGATE',\n",
       " 'INVESTIGATE',\n",
       " 'INVESTIGATE',\n",
       " 'INVESTIGATE',\n",
       " 'INVESTIGATE',\n",
       " 'INVESTIGATE',\n",
       " 'INVESTIGATE',\n",
       " 'INVESTIGATE',\n",
       " 'INVESTIGATE',\n",
       " 'INVESTIGATE',\n",
       " 'INVESTIGATE',\n",
       " 'INVESTIGATE',\n",
       " 'INVESTIGATE',\n",
       " 'INVESTIGATE',\n",
       " 'INVESTIGATE',\n",
       " 'INVESTIGATE',\n",
       " 'INVESTIGATE',\n",
       " 'INVESTIGATE',\n",
       " 'INVESTIGATE',\n",
       " 'INVESTIGATE',\n",
       " 'INVESTIGATE',\n",
       " 'INVESTIGATE',\n",
       " 'INVESTIGATE',\n",
       " 'INVESTIGATE',\n",
       " 'INVESTIGATE',\n",
       " 'INVESTIGATE',\n",
       " 'INVESTIGATE',\n",
       " 'INVESTIGATE',\n",
       " 'INVESTIGATE',\n",
       " 'INVESTIGATE',\n",
       " 'INVESTIGATE',\n",
       " 'INVESTIGATE',\n",
       " 'INVESTIGATE',\n",
       " 'INVESTIGATE',\n",
       " 'INVESTIGATE',\n",
       " 'INVESTIGATE',\n",
       " 'INVESTIGATE',\n",
       " 'INVESTIGATE',\n",
       " 'INVESTIGATE',\n",
       " 'INVESTIGATE',\n",
       " 'INVESTIGATE',\n",
       " 'INVESTIGATE',\n",
       " 'INVESTIGATE',\n",
       " 'INVESTIGATE',\n",
       " 'INVESTIGATE',\n",
       " 'INVESTIGATE',\n",
       " 'INVESTIGATE',\n",
       " 'INVESTIGATE',\n",
       " 'INVESTIGATE',\n",
       " 'INVESTIGATE',\n",
       " 'INVESTIGATE',\n",
       " 'INVESTIGATE',\n",
       " 'INVESTIGATE',\n",
       " 'INVESTIGATE',\n",
       " 'INVESTIGATE',\n",
       " 'INVESTIGATE',\n",
       " 'INVESTIGATE',\n",
       " 'INVESTIGATE',\n",
       " 'INVESTIGATE',\n",
       " 'INVESTIGATE',\n",
       " 'INVESTIGATE',\n",
       " 'INVESTIGATE',\n",
       " 'INVESTIGATE',\n",
       " 'INVESTIGATE',\n",
       " 'INVESTIGATE',\n",
       " 'INVESTIGATE',\n",
       " 'INVESTIGATE',\n",
       " 'INVESTIGATE',\n",
       " 'INVESTIGATE',\n",
       " 'INVESTIGATE',\n",
       " 'INVESTIGATE',\n",
       " 'INVESTIGATE',\n",
       " 'INVESTIGATE',\n",
       " 'INVESTIGATE',\n",
       " 'INVESTIGATE',\n",
       " 'INVESTIGATE',\n",
       " 'INVESTIGATE',\n",
       " 'INVESTIGATE',\n",
       " 'INVESTIGATE',\n",
       " 'INVESTIGATE',\n",
       " 'INVESTIGATE',\n",
       " 'INVESTIGATE',\n",
       " 'INVESTIGATE',\n",
       " 'INVESTIGATE',\n",
       " 'INVESTIGATE',\n",
       " 'INVESTIGATE',\n",
       " 'INVESTIGATE',\n",
       " 'INVESTIGATE',\n",
       " 'INVESTIGATE',\n",
       " 'INVESTIGATE',\n",
       " 'INVESTIGATE',\n",
       " 'INVESTIGATE',\n",
       " 'INVESTIGATE',\n",
       " 'INVESTIGATE',\n",
       " 'INVESTIGATE',\n",
       " 'INVESTIGATE',\n",
       " 'INVESTIGATE',\n",
       " 'INVESTIGATE',\n",
       " 'INVESTIGATE',\n",
       " 'INVESTIGATE',\n",
       " 'INVESTIGATE',\n",
       " 'INVESTIGATE',\n",
       " 'INVESTIGATE',\n",
       " 'INVESTIGATE',\n",
       " 'INVESTIGATE',\n",
       " 'INVESTIGATE',\n",
       " 'INVESTIGATE',\n",
       " 'INVESTIGATE',\n",
       " 'INVESTIGATE']"
      ]
     },
     "execution_count": 127,
     "metadata": {},
     "output_type": "execute_result"
    }
   ],
   "source": [
    "data_gpt.map(extract_openai_response, fn_kwargs= {\"response_column\":  'gpt_3_5', \"new_column\": 'gpt_3_5_query'}, load_from_cache_file=False)['gpt_3_5_query']"
   ]
  },
  {
   "cell_type": "code",
   "execution_count": 128,
   "metadata": {},
   "outputs": [
    {
     "data": {
      "text/plain": [
       "'SELECT Name, Country, Age \\nFROM singer \\nORDER BY Age DESC;'"
      ]
     },
     "execution_count": 128,
     "metadata": {},
     "output_type": "execute_result"
    }
   ],
   "source": [
    "data_gpt[1]['gpt_3_5_complex']['choices'][0]['message']['content']"
   ]
  },
  {
   "cell_type": "code",
   "execution_count": 100,
   "metadata": {},
   "outputs": [
    {
     "data": {
      "text/plain": [
       "{'db_id': 'concert_singer',\n",
       " 'query': 'SELECT name ,  country ,  age FROM singer ORDER BY age DESC',\n",
       " 'question': 'Show name, country, age for all singers ordered by age from the oldest to the youngest.',\n",
       " 'create_w_keys': 'CREATE TABLE \"stadium\" ( \"Stadium_ID\" int, \"Location\" text, \"Name\" text, \"Capacity\" int, \"Highest\" int, \"Lowest\" int, \"Average\" int, PRIMARY KEY (\"Stadium_ID\") ); CREATE TABLE \"singer\" ( \"Singer_ID\" int, \"Name\" text, \"Country\" text, \"Song_Name\" text, \"Song_release_year\" text, \"Age\" int, \"Is_male\" bool, PRIMARY KEY (\"Singer_ID\") ); CREATE TABLE \"concert\" ( \"concert_ID\" int, \"concert_Name\" text, \"Theme\" text, \"Stadium_ID\" text, \"Year\" text, PRIMARY KEY (\"concert_ID\"), FOREIGN KEY (\"Stadium_ID\") REFERENCES \"stadium\"(\"Stadium_ID\") ); CREATE TABLE \"singer_in_concert\" ( \"concert_ID\" int, \"Singer_ID\" text, PRIMARY KEY (\"concert_ID\",\"Singer_ID\"), FOREIGN KEY (\"concert_ID\") REFERENCES \"concert\"(\"concert_ID\"), FOREIGN KEY (\"Singer_ID\") REFERENCES \"singer\"(\"Singer_ID\") ); ',\n",
       " 'create_wo_keys': 'CREATE TABLE stadium (Stadium_ID INT, Location TEXT, Name TEXT, Capacity INT, Highest INT, Lowest INT, Average INT); CREATE TABLE singer (Singer_ID INT, Name TEXT, Country TEXT, Song_Name TEXT, Song_release_year TEXT, Age INT, Is_male bool); CREATE TABLE concert (concert_ID INT, concert_Name TEXT, Theme TEXT, Stadium_ID TEXT, Year TEXT); CREATE TABLE singer_in_concert (concert_ID INT, Singer_ID TEXT); ',\n",
       " 'difficulty': 'medium',\n",
       " 'zero_shot_request': 'Provide the SQL query that answers the QUESTION, with no explanation or special characters. CONTEXT: Relevant SQL tables, with their properties: CREATE TABLE \"stadium\" ( \"Stadium_ID\" int, \"Location\" text, \"Name\" text, \"Capacity\" int, \"Highest\" int, \"Lowest\" int, \"Average\" int, PRIMARY KEY (\"Stadium_ID\") ); CREATE TABLE \"singer\" ( \"Singer_ID\" int, \"Name\" text, \"Country\" text, \"Song_Name\" text, \"Song_release_year\" text, \"Age\" int, \"Is_male\" bool, PRIMARY KEY (\"Singer_ID\") ); CREATE TABLE \"concert\" ( \"concert_ID\" int, \"concert_Name\" text, \"Theme\" text, \"Stadium_ID\" text, \"Year\" text, PRIMARY KEY (\"concert_ID\"), FOREIGN KEY (\"Stadium_ID\") REFERENCES \"stadium\"(\"Stadium_ID\") ); CREATE TABLE \"singer_in_concert\" ( \"concert_ID\" int, \"Singer_ID\" text, PRIMARY KEY (\"concert_ID\",\"Singer_ID\"), FOREIGN KEY (\"concert_ID\") REFERENCES \"concert\"(\"concert_ID\"), FOREIGN KEY (\"Singer_ID\") REFERENCES \"singer\"(\"Singer_ID\") );  QUESTION: Show name, country, age for all singers ordered by age from the oldest to the youngest. ',\n",
       " 'defog_sqlcoder_7b': ' SELECT singer.name, singer.country, singer.age FROM singer ORDER BY singer',\n",
       " 'defog_sqlcoder_7b_latency': 0.907311201095581,\n",
       " 'mistral_7b_instruct': '\\n\\nSELECT Singer_Name, Country, Age FROM singer ORDER BY Age DESC;',\n",
       " 'mistral_7b_instruct_latency': 0.9165787696838379,\n",
       " 'llama_7b': '',\n",
       " 'llama_7b_latency': 0.20595407485961914,\n",
       " 'zero_shot_request_complex': '### Complete sqlite SQL query only and with no explanation, and do not select extra columns that are not explicitly requested in the query.\\n ### Sqlite SQL tables, with their properties:\\n #\\n #  CREATE TABLE \"stadium\" ( \"Stadium_ID\" int, \"Location\" text, \"Name\" text, \"Capacity\" int, \"Highest\" int, \"Lowest\" int, \"Average\" int, PRIMARY KEY (\"Stadium_ID\") ); CREATE TABLE \"singer\" ( \"Singer_ID\" int, \"Name\" text, \"Country\" text, \"Song_Name\" text, \"Song_release_year\" text, \"Age\" int, \"Is_male\" bool, PRIMARY KEY (\"Singer_ID\") ); CREATE TABLE \"concert\" ( \"concert_ID\" int, \"concert_Name\" text, \"Theme\" text, \"Stadium_ID\" text, \"Year\" text, PRIMARY KEY (\"concert_ID\"), FOREIGN KEY (\"Stadium_ID\") REFERENCES \"stadium\"(\"Stadium_ID\") ); CREATE TABLE \"singer_in_concert\" ( \"concert_ID\" int, \"Singer_ID\" text, PRIMARY KEY (\"concert_ID\",\"Singer_ID\"), FOREIGN KEY (\"concert_ID\") REFERENCES \"concert\"(\"concert_ID\"), FOREIGN KEY (\"Singer_ID\") REFERENCES \"singer\"(\"Singer_ID\") );  \\n #\\n ###  Show name, country, age for all singers ordered by age from the oldest to the youngest. \\n SQL QUERY:',\n",
       " 'mistral_7b_instruct_complex': '\\n SELECT Name, Country, Age FROM singer ORDER BY Age DESC;',\n",
       " 'mistral_7b_instruct_complex_latency': 0.8159871101379395,\n",
       " 'defog_sqlcoder_7b_complex': ' SELECT singer.name, singer.country, singer.age FROM singer ORDER BY singer.',\n",
       " 'defog_sqlcoder_7b_complex_latency': 0.8989150524139404,\n",
       " 'llama_7b_complex': ' \\nSELECT name, country, age FROM singer WHERE age = (SELECT MIN(age)',\n",
       " 'llama_7b_complex_latency': 0.8686990737915039,\n",
       " 'gpt_3_5_complex': {'choices': [{'finish_reason': 'stop',\n",
       "    'index': 0,\n",
       "    'message': {'content': 'SELECT Name, Country, Age \\nFROM singer \\nORDER BY Age DESC;',\n",
       "     'role': 'assistant'}}],\n",
       "  'created': 1698206191,\n",
       "  'id': 'chatcmpl-8DPINm9jPsnj5JUpPevloqR1M2eK7',\n",
       "  'model': 'gpt-3.5-turbo-0613',\n",
       "  'object': 'chat.completion',\n",
       "  'usage': {'completion_tokens': 15,\n",
       "   'prompt_tokens': 322,\n",
       "   'total_tokens': 337}},\n",
       " 'gpt_3_5': {'choices': [{'finish_reason': 'stop',\n",
       "    'index': 0,\n",
       "    'message': {'content': 'SELECT Name, Country, Age\\nFROM singer\\nORDER BY Age DESC;',\n",
       "     'role': 'assistant'}}],\n",
       "  'created': 1698230610,\n",
       "  'id': 'chatcmpl-8DVeE6iPDm2vKGcdwMDxpF1dYW7jI',\n",
       "  'model': 'gpt-3.5-turbo-0613',\n",
       "  'object': 'chat.completion',\n",
       "  'usage': {'completion_tokens': 15,\n",
       "   'prompt_tokens': 305,\n",
       "   'total_tokens': 320}}}"
      ]
     },
     "execution_count": 100,
     "metadata": {},
     "output_type": "execute_result"
    }
   ],
   "source": [
    "data_gpt[1]"
   ]
  },
  {
   "cell_type": "code",
   "execution_count": 49,
   "metadata": {},
   "outputs": [],
   "source": [
    "system_prompt = 'You are a SQL coder that only responds with SQL queries.'\n",
    "\n",
    "resp = openai_sql_request(\n",
    "    openai = openai, \n",
    "    user_prompt=data['train'][1]['zero_shot_request'], \n",
    "    system_context=system_prompt,\n",
    "    )\n"
   ]
  },
  {
   "cell_type": "code",
   "execution_count": 51,
   "metadata": {},
   "outputs": [
    {
     "data": {
      "text/plain": [
       "<OpenAIObject chat.completion id=chatcmpl-8DObxn7mUAVGk3sSFZ1w7OI41a8vw at 0x13fa97290> JSON: {\n",
       "  \"id\": \"chatcmpl-8DObxn7mUAVGk3sSFZ1w7OI41a8vw\",\n",
       "  \"object\": \"chat.completion\",\n",
       "  \"created\": 1698203561,\n",
       "  \"model\": \"gpt-3.5-turbo-0613\",\n",
       "  \"choices\": [\n",
       "    {\n",
       "      \"index\": 0,\n",
       "      \"message\": {\n",
       "        \"role\": \"assistant\",\n",
       "        \"content\": \"SELECT Name, Country, Age\\nFROM singer\\nORDER BY Age DESC\"\n",
       "      },\n",
       "      \"finish_reason\": \"stop\"\n",
       "    }\n",
       "  ],\n",
       "  \"usage\": {\n",
       "    \"prompt_tokens\": 305,\n",
       "    \"completion_tokens\": 14,\n",
       "    \"total_tokens\": 319\n",
       "  }\n",
       "}"
      ]
     },
     "execution_count": 51,
     "metadata": {},
     "output_type": "execute_result"
    }
   ],
   "source": [
    "resp"
   ]
  },
  {
   "cell_type": "code",
   "execution_count": 50,
   "metadata": {},
   "outputs": [
    {
     "data": {
      "text/plain": [
       "'SELECT Name, Country, Age\\nFROM singer\\nORDER BY Age DESC'"
      ]
     },
     "execution_count": 50,
     "metadata": {},
     "output_type": "execute_result"
    }
   ],
   "source": [
    "resp.to_dict()['choices'][0].to_dict()['message'].to_dict()['content']"
   ]
  },
  {
   "cell_type": "code",
   "execution_count": 48,
   "metadata": {},
   "outputs": [
    {
     "data": {
      "text/plain": [
       "{'index': 0,\n",
       " 'message': <OpenAIObject at 0x13fa970b0> JSON: {\n",
       "   \"role\": \"assistant\",\n",
       "   \"content\": \"SELECT Name, Country, Age\\nFROM singer\\nORDER BY Age DESC;\"\n",
       " },\n",
       " 'finish_reason': 'stop'}"
      ]
     },
     "execution_count": 48,
     "metadata": {},
     "output_type": "execute_result"
    }
   ],
   "source": [
    "resp = resp.to_dict()\n",
    "resp = resp['choices'][0].to_dict()"
   ]
  },
  {
   "cell_type": "code",
   "execution_count": 47,
   "metadata": {},
   "outputs": [
    {
     "ename": "KeyError",
     "evalue": "'choices'",
     "output_type": "error",
     "traceback": [
      "\u001b[0;31m---------------------------------------------------------------------------\u001b[0m",
      "\u001b[0;31mKeyError\u001b[0m                                  Traceback (most recent call last)",
      "\u001b[1;32m/Users/denver/Documents/semiotic/yode/sql/internal/autoSQL/autosql/autosql/predict/drafting.ipynb Cell 31\u001b[0m line \u001b[0;36m1\n\u001b[0;32m----> <a href='vscode-notebook-cell:/Users/denver/Documents/semiotic/yode/sql/internal/autoSQL/autosql/autosql/predict/drafting.ipynb#X46sZmlsZQ%3D%3D?line=0'>1</a>\u001b[0m resp[\u001b[39m'\u001b[39;49m\u001b[39mchoices\u001b[39;49m\u001b[39m'\u001b[39;49m][\u001b[39m0\u001b[39m]\u001b[39m.\u001b[39mto_dict()[\u001b[39m'\u001b[39m\u001b[39mmessage\u001b[39m\u001b[39m'\u001b[39m]\u001b[39m.\u001b[39mto_dict()[\u001b[39m'\u001b[39m\u001b[39mcontent\u001b[39m\u001b[39m'\u001b[39m]\n",
      "\u001b[0;31mKeyError\u001b[0m: 'choices'"
     ]
    }
   ],
   "source": [
    "resp['choices'][0].to_dict()['message'].to_dict()['content']"
   ]
  },
  {
   "cell_type": "code",
   "execution_count": null,
   "metadata": {},
   "outputs": [],
   "source": []
  },
  {
   "cell_type": "code",
   "execution_count": 16,
   "metadata": {},
   "outputs": [
    {
     "data": {
      "text/plain": [
       "{'db_id': 'concert_singer',\n",
       " 'query': 'SELECT count(*) FROM singer',\n",
       " 'question': 'How many singers do we have?',\n",
       " 'create_w_keys': 'CREATE TABLE \"stadium\" ( \"Stadium_ID\" int, \"Location\" text, \"Name\" text, \"Capacity\" int, \"Highest\" int, \"Lowest\" int, \"Average\" int, PRIMARY KEY (\"Stadium_ID\") ); CREATE TABLE \"singer\" ( \"Singer_ID\" int, \"Name\" text, \"Country\" text, \"Song_Name\" text, \"Song_release_year\" text, \"Age\" int, \"Is_male\" bool, PRIMARY KEY (\"Singer_ID\") ); CREATE TABLE \"concert\" ( \"concert_ID\" int, \"concert_Name\" text, \"Theme\" text, \"Stadium_ID\" text, \"Year\" text, PRIMARY KEY (\"concert_ID\"), FOREIGN KEY (\"Stadium_ID\") REFERENCES \"stadium\"(\"Stadium_ID\") ); CREATE TABLE \"singer_in_concert\" ( \"concert_ID\" int, \"Singer_ID\" text, PRIMARY KEY (\"concert_ID\",\"Singer_ID\"), FOREIGN KEY (\"concert_ID\") REFERENCES \"concert\"(\"concert_ID\"), FOREIGN KEY (\"Singer_ID\") REFERENCES \"singer\"(\"Singer_ID\") ); ',\n",
       " 'create_wo_keys': 'CREATE TABLE stadium (Stadium_ID INT, Location TEXT, Name TEXT, Capacity INT, Highest INT, Lowest INT, Average INT); CREATE TABLE singer (Singer_ID INT, Name TEXT, Country TEXT, Song_Name TEXT, Song_release_year TEXT, Age INT, Is_male bool); CREATE TABLE concert (concert_ID INT, concert_Name TEXT, Theme TEXT, Stadium_ID TEXT, Year TEXT); CREATE TABLE singer_in_concert (concert_ID INT, Singer_ID TEXT); ',\n",
       " 'difficulty': 'easy',\n",
       " 'zero_shot_request': 'Provide the SQL query that answers the QUESTION, with no explanation or special characters. CONTEXT: Relevant SQL tables, with their properties: CREATE TABLE \"stadium\" ( \"Stadium_ID\" int, \"Location\" text, \"Name\" text, \"Capacity\" int, \"Highest\" int, \"Lowest\" int, \"Average\" int, PRIMARY KEY (\"Stadium_ID\") ); CREATE TABLE \"singer\" ( \"Singer_ID\" int, \"Name\" text, \"Country\" text, \"Song_Name\" text, \"Song_release_year\" text, \"Age\" int, \"Is_male\" bool, PRIMARY KEY (\"Singer_ID\") ); CREATE TABLE \"concert\" ( \"concert_ID\" int, \"concert_Name\" text, \"Theme\" text, \"Stadium_ID\" text, \"Year\" text, PRIMARY KEY (\"concert_ID\"), FOREIGN KEY (\"Stadium_ID\") REFERENCES \"stadium\"(\"Stadium_ID\") ); CREATE TABLE \"singer_in_concert\" ( \"concert_ID\" int, \"Singer_ID\" text, PRIMARY KEY (\"concert_ID\",\"Singer_ID\"), FOREIGN KEY (\"concert_ID\") REFERENCES \"concert\"(\"concert_ID\"), FOREIGN KEY (\"Singer_ID\") REFERENCES \"singer\"(\"Singer_ID\") );  QUESTION: How many singers do we have? ',\n",
       " 'defog_sqlcoder_7b': ' SELECT COUNT(*) FROM singer;',\n",
       " 'defog_sqlcoder_7b_latency': 0.666999101638794,\n",
       " 'mistral_7b_instruct': '\\n\\nSELECT COUNT(*) FROM singer;',\n",
       " 'mistral_7b_instruct_latency': 0.7579638957977295,\n",
       " 'llama_7b': '',\n",
       " 'llama_7b_latency': 0.3805580139160156,\n",
       " 'zero_shot_request_complex': '### Complete sqlite SQL query only and with no explanation, and do not select extra columns that are not explicitly requested in the query.\\n ### Sqlite SQL tables, with their properties:\\n #\\n #  CREATE TABLE \"stadium\" ( \"Stadium_ID\" int, \"Location\" text, \"Name\" text, \"Capacity\" int, \"Highest\" int, \"Lowest\" int, \"Average\" int, PRIMARY KEY (\"Stadium_ID\") ); CREATE TABLE \"singer\" ( \"Singer_ID\" int, \"Name\" text, \"Country\" text, \"Song_Name\" text, \"Song_release_year\" text, \"Age\" int, \"Is_male\" bool, PRIMARY KEY (\"Singer_ID\") ); CREATE TABLE \"concert\" ( \"concert_ID\" int, \"concert_Name\" text, \"Theme\" text, \"Stadium_ID\" text, \"Year\" text, PRIMARY KEY (\"concert_ID\"), FOREIGN KEY (\"Stadium_ID\") REFERENCES \"stadium\"(\"Stadium_ID\") ); CREATE TABLE \"singer_in_concert\" ( \"concert_ID\" int, \"Singer_ID\" text, PRIMARY KEY (\"concert_ID\",\"Singer_ID\"), FOREIGN KEY (\"concert_ID\") REFERENCES \"concert\"(\"concert_ID\"), FOREIGN KEY (\"Singer_ID\") REFERENCES \"singer\"(\"Singer_ID\") );  \\n #\\n ###  How many singers do we have? \\n SQL QUERY:',\n",
       " 'mistral_7b_instruct_complex': '\\n SELECT COUNT(*) FROM singer;\\n\\n #\\n ###  How many concerts',\n",
       " 'mistral_7b_instruct_complex_latency': 1.0309901237487793,\n",
       " 'defog_sqlcoder_7b_complex': ' SELECT COUNT(*) FROM singer; \\n ###  How many concerts do we have',\n",
       " 'defog_sqlcoder_7b_complex_latency': 1.098464012145996,\n",
       " 'llama_7b_complex': ' \\n SELECT COUNT(*) FROM singer; \\n #  Output: \\n #  5\\n',\n",
       " 'llama_7b_complex_latency': 0.9059309959411621}"
      ]
     },
     "execution_count": 16,
     "metadata": {},
     "output_type": "execute_result"
    }
   ],
   "source": [
    "data['train'][0]"
   ]
  },
  {
   "cell_type": "code",
   "execution_count": null,
   "metadata": {},
   "outputs": [],
   "source": []
  }
 ],
 "metadata": {
  "kernelspec": {
   "display_name": "autosql",
   "language": "python",
   "name": "autosql"
  },
  "language_info": {
   "codemirror_mode": {
    "name": "ipython",
    "version": 3
   },
   "file_extension": ".py",
   "mimetype": "text/x-python",
   "name": "python",
   "nbconvert_exporter": "python",
   "pygments_lexer": "ipython3",
   "version": "3.11.5"
  },
  "orig_nbformat": 4
 },
 "nbformat": 4,
 "nbformat_minor": 2
}
