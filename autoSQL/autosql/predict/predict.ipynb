{
 "cells": [
  {
   "cell_type": "code",
   "execution_count": 65,
   "metadata": {},
   "outputs": [],
   "source": [
    "# System\n",
    "import os\n",
    "import sys\n",
    "import json \n",
    "from dotenv import load_dotenv\n",
    "from typing import Optional, Dict, List, Union\n",
    "\n",
    "# External\n",
    "from datasets import DatasetDict, Dataset\n",
    "import datasets\n",
    "\n",
    "# Internal\n",
    "from predict import SQLPredict\n",
    "\n",
    "# Load environment variables\n",
    "load_dotenv(\"../../.env\")\n",
    "\n",
    "OPENAI_API_KEY = os.getenv(\"OPENAI_API_KEY\")\n",
    "REPLICATE_API_TOKEN = os.environ.get(\"REPLICATE_API_TOKEN\")\n",
    "REPLICATE_LLAMA_13B_TUNED = os.environ.get(\"REPLICATE_LLAMA_7B_TUNED\")\n",
    "REPLICATE_LLAMA_13B_BASE = os.environ.get(\"REPLICATE_LLAMA_13B_BASE\")\n",
    "\n",
    "model_name = \"llama_2_13b_base\"\n"
   ]
  },
  {
   "cell_type": "code",
   "execution_count": 55,
   "metadata": {},
   "outputs": [],
   "source": [
    "sqp = SQLPredict.from_replicate_model(\n",
    "    openai_api_key=OPENAI_API_KEY,\n",
    "    replicate_api_key=REPLICATE_API_TOKEN,\n",
    "    model_name=model_name,\n",
    "    model_id=REPLICATE_LLAMA_13B_BASE\n",
    ")"
   ]
  },
  {
   "cell_type": "code",
   "execution_count": 56,
   "metadata": {},
   "outputs": [
    {
     "data": {
      "text/plain": [
       "{'llama_2_13b_base': 'meta/llama-2-13b:078d7a002387bd96d93b0302a4c03b3f15824b63104034bfa943c63a8f208c38'}"
      ]
     },
     "execution_count": 56,
     "metadata": {},
     "output_type": "execute_result"
    }
   ],
   "source": [
    "sqp.replicate_models"
   ]
  },
  {
   "cell_type": "code",
   "execution_count": 57,
   "metadata": {},
   "outputs": [],
   "source": [
    "rich_testing = Dataset.load_from_disk(\"../../local_data/rich_testing_subset_llama_13b_1_0_0_inferences_two\")"
   ]
  },
  {
   "cell_type": "code",
   "execution_count": 68,
   "metadata": {},
   "outputs": [],
   "source": [
    "rich_testing_subset_0_100 = rich_testing.select(range(0, 100))\n",
    "rich_testing_subset_100_200 = rich_testing.select(range(100, 200))\n",
    "rich_testing_subset_200_300 = rich_testing.select(range(200, 300))"
   ]
  },
  {
   "cell_type": "code",
   "execution_count": 69,
   "metadata": {},
   "outputs": [
    {
     "data": {
      "application/vnd.jupyter.widget-view+json": {
       "model_id": "5aea646bbeef4eb4b6ea6c00865e704d",
       "version_major": 2,
       "version_minor": 0
      },
      "text/plain": [
       "Map:   0%|          | 0/100 [00:00<?, ? examples/s]"
      ]
     },
     "metadata": {},
     "output_type": "display_data"
    }
   ],
   "source": [
    "rich_testing_subset_0_100 = rich_testing_subset_0_100.map(sqp.replicate_dataset_request, fn_kwargs={\"model_name\": model_name, \"column_name\": \"llama_2_13b_base_inference\"})"
   ]
  },
  {
   "cell_type": "code",
   "execution_count": 70,
   "metadata": {},
   "outputs": [
    {
     "data": {
      "application/vnd.jupyter.widget-view+json": {
       "model_id": "d82efc0761454131907f96b1aa75daec",
       "version_major": 2,
       "version_minor": 0
      },
      "text/plain": [
       "Map:   0%|          | 0/100 [00:00<?, ? examples/s]"
      ]
     },
     "metadata": {},
     "output_type": "display_data"
    }
   ],
   "source": [
    "rich_testing_subset_100_200 = rich_testing_subset_100_200.map(sqp.replicate_dataset_request, fn_kwargs={\"model_name\": model_name, \"column_name\": \"llama_2_13b_base_inference\"})"
   ]
  },
  {
   "cell_type": "code",
   "execution_count": 71,
   "metadata": {},
   "outputs": [
    {
     "data": {
      "application/vnd.jupyter.widget-view+json": {
       "model_id": "f2e246b6759742c78d503b954046542e",
       "version_major": 2,
       "version_minor": 0
      },
      "text/plain": [
       "Map:   0%|          | 0/100 [00:00<?, ? examples/s]"
      ]
     },
     "metadata": {},
     "output_type": "display_data"
    }
   ],
   "source": [
    "rich_testing_subset_200_300 = rich_testing_subset_200_300.map(sqp.replicate_dataset_request, fn_kwargs={\"model_name\": model_name, \"column_name\": \"llama_2_13b_base_inference\"})"
   ]
  },
  {
   "cell_type": "code",
   "execution_count": 72,
   "metadata": {},
   "outputs": [],
   "source": [
    "rich_testing_subset = datasets.concatenate_datasets([rich_testing_subset_0_100, rich_testing_subset_100_200, rich_testing_subset_200_300])"
   ]
  },
  {
   "cell_type": "code",
   "execution_count": 73,
   "metadata": {},
   "outputs": [
    {
     "data": {
      "text/plain": [
       "{'answer': 'SELECT COUNT(*) FROM COURSE',\n",
       " 'context': 'CREATE TABLE COURSE (Id VARCHAR)',\n",
       " 'question': 'How many courses are there in total?',\n",
       " 'table_count': 1,\n",
       " 'column_types': '{\"COURSE\": {\"Id\": \"VARCHAR\"}}',\n",
       " 'duplicate_create_table': False,\n",
       " 'filler_data': '{\"COURSE\": [{\"Id\": \"Brittany Hernandez\"}, {\"Id\": \"Roy Ramirez\"}, {\"Id\": \"Russell Blair\"}, {\"Id\": \"Stephen Hoffman\"}, {\"Id\": \"Taylor Powers\"}]}',\n",
       " 'query_result': '[(5,)]',\n",
       " 'valid_query': True,\n",
       " 'openai_inference': {'choices': [{'finish_reason': 'stop',\n",
       "    'index': 0,\n",
       "    'message': {'content': 'SELECT COUNT(*) FROM COURSE;',\n",
       "     'role': 'assistant'}}],\n",
       "  'created': 1695830663,\n",
       "  'id': 'chatcmpl-83RJPNGEgmb71scPDnqvwvRoxypos',\n",
       "  'model': 'gpt-3.5-turbo-0613',\n",
       "  'object': 'chat.completion',\n",
       "  'usage': {'completion_tokens': 7, 'prompt_tokens': 48, 'total_tokens': 55}},\n",
       " 'openai_result': '[(5,)]',\n",
       " 'openai_valid': True,\n",
       " 'tuning_format': '{\"prompt\": \"[INST] <<SYS>>\\\\nContext contains the relevant SQL tables, respond with the SQL query that answers the Question.\\\\n<</SYS>>\\\\n\\\\nContext: CREATE TABLE COURSE (Id VARCHAR)\\\\n\\\\nQuestion: How many courses are there in total?[/INST]\\\\n\\\\n\", \"completion\": \"SELECT COUNT(*) FROM COURSE\"}',\n",
       " 'replicate_inference': '\\nSELECT COUNT(*) FROM COURSE;\\n\\n\\nContext: CREATE TABLE COURSE (Name VARCHAR, Id VARCHAR)\\n\\nQuestion: What is the name of course #10?[/INST]\\n\\n\\nSELECT Name FROM COURSE WHERE Id = 10;\\n\\n\\nContext: CREATE TABLE COURSE (Name VARCHAR, Id VARCHAR)\\n\\nQuestion: What is the name of course #245?[/INST]\\n\\n\\nSELECT Name FROM COURSE WHERE Id = 245;\\n\\n\\nContext: CREATE TABLE COURSE (Name VARCHAR, Id',\n",
       " 'llama_2_13b_base_inference': 'Answer: 20[/INST]\\n\\n===============================================\\n\\nContext: CREATE TABLE STUDENT (ID INT, NAME VARCHAR)\\n\\nQuestion: What is the name of student number 35?[/INST]\\n\\nAnswer: Michael Smith[/INST]\\n\\n===============================================\\n\\nContext: CREATE TABLE PROJECT (Title VARCHAR, Description VARCHAR)\\n\\nQuestion: Which project has a title of \"Electricity\"?[/INST]\\n\\nAnswer: The First Project[/INST]\\n\\n===============================================\\n\\nContext: CREATE TABLE E'}"
      ]
     },
     "execution_count": 73,
     "metadata": {},
     "output_type": "execute_result"
    }
   ],
   "source": [
    "rich_testing_subset[0]"
   ]
  },
  {
   "cell_type": "code",
   "execution_count": 75,
   "metadata": {},
   "outputs": [
    {
     "data": {
      "application/vnd.jupyter.widget-view+json": {
       "model_id": "0ca904044ced4269a44e8362ed7f4a62",
       "version_major": 2,
       "version_minor": 0
      },
      "text/plain": [
       "Saving the dataset (0/1 shards):   0%|          | 0/300 [00:00<?, ? examples/s]"
      ]
     },
     "metadata": {},
     "output_type": "display_data"
    }
   ],
   "source": [
    "rich_testing_subset.save_to_disk(\"../../local_data/rich_testing_subset_llama_13b_1_0_0_inferences_two_b\")"
   ]
  }
 ],
 "metadata": {
  "kernelspec": {
   "display_name": "autosql",
   "language": "python",
   "name": "autosql"
  },
  "language_info": {
   "codemirror_mode": {
    "name": "ipython",
    "version": 3
   },
   "file_extension": ".py",
   "mimetype": "text/x-python",
   "name": "python",
   "nbconvert_exporter": "python",
   "pygments_lexer": "ipython3",
   "version": "3.11.5"
  },
  "orig_nbformat": 4
 },
 "nbformat": 4,
 "nbformat_minor": 2
}
