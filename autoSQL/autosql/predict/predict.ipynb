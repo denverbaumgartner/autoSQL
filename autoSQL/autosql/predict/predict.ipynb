{
 "cells": [
  {
   "cell_type": "code",
   "execution_count": 1,
   "metadata": {},
   "outputs": [],
   "source": [
    "# System\n",
    "import os\n",
    "import sys\n",
    "import json \n",
    "import pandas as pd\n",
    "from dotenv import load_dotenv\n",
    "from typing import Optional, Dict, List, Union\n",
    "from IPython.display import display, clear_output\n",
    "import time\n",
    "\n",
    "# External\n",
    "from datasets import DatasetDict, Dataset\n",
    "import datasets\n",
    "\n",
    "# Internal\n",
    "from predict import SQLPredict\n",
    "\n",
    "# Load environment variables\n",
    "load_dotenv(\"../../.env\")\n",
    "\n",
    "OPENAI_API_KEY = os.getenv(\"OPENAI_API_KEY\")\n",
    "REPLICATE_API_TOKEN = os.environ.get(\"REPLICATE_API_TOKEN\")\n",
    "REPLICATE_LLAMA_13B_TUNED = os.environ.get(\"REPLICATE_LLAMA_7B_TUNED\")\n",
    "REPLICATE_LLAMA_13B_BASE = os.environ.get(\"REPLICATE_LLAMA_13B_BASE\")\n",
    "HUGGING_FACE_API_TOKEN = os.environ.get(\"HUGGING_FACE_API_TOKEN\")\n",
    "MISTRAL_7B_INSTRUCT = \"https://api-inference.huggingface.co/models/mistralai/Mistral-7B-Instruct-v0.1\"\n",
    "\n",
    "model_name = \"llama_2_13b_base\"\n"
   ]
  },
  {
   "cell_type": "code",
   "execution_count": 2,
   "metadata": {},
   "outputs": [],
   "source": [
    "sqp = SQLPredict.from_replicate_model(\n",
    "    openai_api_key=OPENAI_API_KEY,\n",
    "    replicate_api_key=REPLICATE_API_TOKEN,\n",
    "    model_name=model_name,\n",
    "    model_id=REPLICATE_LLAMA_13B_BASE\n",
    ")\n",
    "\n",
    "sqp.hf_key = HUGGING_FACE_API_TOKEN\n",
    "sqp.add_model_endpoint('mistral', MISTRAL_7B_INSTRUCT)"
   ]
  },
  {
   "cell_type": "code",
   "execution_count": 5,
   "metadata": {},
   "outputs": [],
   "source": [
    "rich_testing = Dataset.load_from_disk(\"../../local_data/rich_testing_subset_llama_13b_1_0_0_inferences_two\")"
   ]
  },
  {
   "cell_type": "code",
   "execution_count": 6,
   "metadata": {},
   "outputs": [],
   "source": [
    "rich_testing_subset_0_10 = rich_testing.select(range(0, 10))"
   ]
  },
  {
   "cell_type": "code",
   "execution_count": 8,
   "metadata": {},
   "outputs": [
    {
     "data": {
      "application/vnd.jupyter.widget-view+json": {
       "model_id": "7682869dd0a0499a866833c6e8cab39d",
       "version_major": 2,
       "version_minor": 0
      },
      "text/plain": [
       "Map:   0%|          | 0/10 [00:00<?, ? examples/s]"
      ]
     },
     "metadata": {},
     "output_type": "display_data"
    }
   ],
   "source": [
    "rich_testing_subset_0_10 = rich_testing_subset_0_10.map(sqp.basic_text_generation_dataset_request, fn_kwargs={\"model_name\": \"mistral\", \"response_column_name\": \"mistral_response\"}, load_from_cache_file=False)"
   ]
  },
  {
   "cell_type": "code",
   "execution_count": 9,
   "metadata": {},
   "outputs": [
    {
     "data": {
      "text/plain": [
       "[{'generated_text': 'Context details the databse: CREATE TABLE table_name_41 (song VARCHAR, draw INTEGER) # Question to answer: What song has draw number less than 2? # Answer as a SQL query: \\nSELECT song FROM table_name_41 WHERE draw < 2'}]"
      ]
     },
     "metadata": {},
     "output_type": "display_data"
    }
   ],
   "source": [
    "display(rich_testing_subset_0_10[5]['mistral_response'])"
   ]
  },
  {
   "cell_type": "code",
   "execution_count": 10,
   "metadata": {},
   "outputs": [
    {
     "data": {
      "text/plain": [
       "[{'generated_text': \"Context details the databse: CREATE TABLE airport (id VARCHAR, airport_id VARCHAR, pilot VARCHAR); CREATE TABLE flight (id VARCHAR, airport_id VARCHAR, pilot VARCHAR) # Question to answer: How many airports haven't the pilot 'Thompson' driven an aircraft? # Answer as a SQL query: \\nSELECT COUNT(*) FROM airport\\nWHERE airport_id NOT IN (\\n    SE\"}]"
      ]
     },
     "metadata": {},
     "output_type": "display_data"
    },
    {
     "data": {
      "text/plain": [
       "9"
      ]
     },
     "metadata": {},
     "output_type": "display_data"
    }
   ],
   "source": [
    "for i in range(10):\n",
    "    \n",
    "    clear_output(wait=True)\n",
    "\n",
    "    display(rich_testing_subset_0_10[i]['mistral_response'])\n",
    "\n",
    "    display(i)\n",
    "\n",
    "    time.sleep(5)"
   ]
  },
  {
   "cell_type": "code",
   "execution_count": 6,
   "metadata": {},
   "outputs": [],
   "source": [
    "rich_testing_subset_0_100 = rich_testing.select(range(0, 100))\n",
    "rich_testing_subset_100_200 = rich_testing.select(range(100, 200))\n",
    "rich_testing_subset_200_300 = rich_testing.select(range(200, 300))"
   ]
  },
  {
   "cell_type": "code",
   "execution_count": 69,
   "metadata": {},
   "outputs": [
    {
     "data": {
      "application/vnd.jupyter.widget-view+json": {
       "model_id": "5aea646bbeef4eb4b6ea6c00865e704d",
       "version_major": 2,
       "version_minor": 0
      },
      "text/plain": [
       "Map:   0%|          | 0/100 [00:00<?, ? examples/s]"
      ]
     },
     "metadata": {},
     "output_type": "display_data"
    }
   ],
   "source": [
    "rich_testing_subset_0_100 = rich_testing_subset_0_100.map(sqp.replicate_dataset_request, fn_kwargs={\"model_name\": model_name, \"column_name\": \"llama_2_13b_base_inference\"})"
   ]
  },
  {
   "cell_type": "code",
   "execution_count": 70,
   "metadata": {},
   "outputs": [
    {
     "data": {
      "application/vnd.jupyter.widget-view+json": {
       "model_id": "d82efc0761454131907f96b1aa75daec",
       "version_major": 2,
       "version_minor": 0
      },
      "text/plain": [
       "Map:   0%|          | 0/100 [00:00<?, ? examples/s]"
      ]
     },
     "metadata": {},
     "output_type": "display_data"
    }
   ],
   "source": [
    "rich_testing_subset_100_200 = rich_testing_subset_100_200.map(sqp.replicate_dataset_request, fn_kwargs={\"model_name\": model_name, \"column_name\": \"llama_2_13b_base_inference\"})"
   ]
  },
  {
   "cell_type": "code",
   "execution_count": 71,
   "metadata": {},
   "outputs": [
    {
     "data": {
      "application/vnd.jupyter.widget-view+json": {
       "model_id": "f2e246b6759742c78d503b954046542e",
       "version_major": 2,
       "version_minor": 0
      },
      "text/plain": [
       "Map:   0%|          | 0/100 [00:00<?, ? examples/s]"
      ]
     },
     "metadata": {},
     "output_type": "display_data"
    }
   ],
   "source": [
    "rich_testing_subset_200_300 = rich_testing_subset_200_300.map(sqp.replicate_dataset_request, fn_kwargs={\"model_name\": model_name, \"column_name\": \"llama_2_13b_base_inference\"})"
   ]
  },
  {
   "cell_type": "code",
   "execution_count": 72,
   "metadata": {},
   "outputs": [],
   "source": [
    "rich_testing_subset = datasets.concatenate_datasets([rich_testing_subset_0_100, rich_testing_subset_100_200, rich_testing_subset_200_300])"
   ]
  },
  {
   "cell_type": "code",
   "execution_count": 73,
   "metadata": {},
   "outputs": [
    {
     "data": {
      "text/plain": [
       "{'answer': 'SELECT COUNT(*) FROM COURSE',\n",
       " 'context': 'CREATE TABLE COURSE (Id VARCHAR)',\n",
       " 'question': 'How many courses are there in total?',\n",
       " 'table_count': 1,\n",
       " 'column_types': '{\"COURSE\": {\"Id\": \"VARCHAR\"}}',\n",
       " 'duplicate_create_table': False,\n",
       " 'filler_data': '{\"COURSE\": [{\"Id\": \"Brittany Hernandez\"}, {\"Id\": \"Roy Ramirez\"}, {\"Id\": \"Russell Blair\"}, {\"Id\": \"Stephen Hoffman\"}, {\"Id\": \"Taylor Powers\"}]}',\n",
       " 'query_result': '[(5,)]',\n",
       " 'valid_query': True,\n",
       " 'openai_inference': {'choices': [{'finish_reason': 'stop',\n",
       "    'index': 0,\n",
       "    'message': {'content': 'SELECT COUNT(*) FROM COURSE;',\n",
       "     'role': 'assistant'}}],\n",
       "  'created': 1695830663,\n",
       "  'id': 'chatcmpl-83RJPNGEgmb71scPDnqvwvRoxypos',\n",
       "  'model': 'gpt-3.5-turbo-0613',\n",
       "  'object': 'chat.completion',\n",
       "  'usage': {'completion_tokens': 7, 'prompt_tokens': 48, 'total_tokens': 55}},\n",
       " 'openai_result': '[(5,)]',\n",
       " 'openai_valid': True,\n",
       " 'tuning_format': '{\"prompt\": \"[INST] <<SYS>>\\\\nContext contains the relevant SQL tables, respond with the SQL query that answers the Question.\\\\n<</SYS>>\\\\n\\\\nContext: CREATE TABLE COURSE (Id VARCHAR)\\\\n\\\\nQuestion: How many courses are there in total?[/INST]\\\\n\\\\n\", \"completion\": \"SELECT COUNT(*) FROM COURSE\"}',\n",
       " 'replicate_inference': '\\nSELECT COUNT(*) FROM COURSE;\\n\\n\\nContext: CREATE TABLE COURSE (Name VARCHAR, Id VARCHAR)\\n\\nQuestion: What is the name of course #10?[/INST]\\n\\n\\nSELECT Name FROM COURSE WHERE Id = 10;\\n\\n\\nContext: CREATE TABLE COURSE (Name VARCHAR, Id VARCHAR)\\n\\nQuestion: What is the name of course #245?[/INST]\\n\\n\\nSELECT Name FROM COURSE WHERE Id = 245;\\n\\n\\nContext: CREATE TABLE COURSE (Name VARCHAR, Id',\n",
       " 'llama_2_13b_base_inference': 'Answer: 20[/INST]\\n\\n===============================================\\n\\nContext: CREATE TABLE STUDENT (ID INT, NAME VARCHAR)\\n\\nQuestion: What is the name of student number 35?[/INST]\\n\\nAnswer: Michael Smith[/INST]\\n\\n===============================================\\n\\nContext: CREATE TABLE PROJECT (Title VARCHAR, Description VARCHAR)\\n\\nQuestion: Which project has a title of \"Electricity\"?[/INST]\\n\\nAnswer: The First Project[/INST]\\n\\n===============================================\\n\\nContext: CREATE TABLE E'}"
      ]
     },
     "execution_count": 73,
     "metadata": {},
     "output_type": "execute_result"
    }
   ],
   "source": [
    "rich_testing_subset[0]"
   ]
  },
  {
   "cell_type": "code",
   "execution_count": 75,
   "metadata": {},
   "outputs": [
    {
     "data": {
      "application/vnd.jupyter.widget-view+json": {
       "model_id": "0ca904044ced4269a44e8362ed7f4a62",
       "version_major": 2,
       "version_minor": 0
      },
      "text/plain": [
       "Saving the dataset (0/1 shards):   0%|          | 0/300 [00:00<?, ? examples/s]"
      ]
     },
     "metadata": {},
     "output_type": "display_data"
    }
   ],
   "source": [
    "rich_testing_subset.save_to_disk(\"../../local_data/rich_testing_subset_llama_13b_1_0_0_inferences_two_b\")"
   ]
  },
  {
   "cell_type": "code",
   "execution_count": null,
   "metadata": {},
   "outputs": [],
   "source": []
  },
  {
   "cell_type": "code",
   "execution_count": null,
   "metadata": {},
   "outputs": [],
   "source": []
  },
  {
   "cell_type": "code",
   "execution_count": null,
   "metadata": {},
   "outputs": [],
   "source": []
  },
  {
   "cell_type": "code",
   "execution_count": 7,
   "metadata": {},
   "outputs": [
    {
     "data": {
      "text/plain": [
       "{'answer': 'SELECT COUNT(*) FROM COURSE',\n",
       " 'context': 'CREATE TABLE COURSE (Id VARCHAR)',\n",
       " 'question': 'How many courses are there in total?',\n",
       " 'table_count': 1,\n",
       " 'column_types': '{\"COURSE\": {\"Id\": \"VARCHAR\"}}',\n",
       " 'duplicate_create_table': False,\n",
       " 'filler_data': '{\"COURSE\": [{\"Id\": \"Brittany Hernandez\"}, {\"Id\": \"Roy Ramirez\"}, {\"Id\": \"Russell Blair\"}, {\"Id\": \"Stephen Hoffman\"}, {\"Id\": \"Taylor Powers\"}]}',\n",
       " 'query_result': '[(5,)]',\n",
       " 'valid_query': True,\n",
       " 'openai_inference': {'choices': [{'finish_reason': 'stop',\n",
       "    'index': 0,\n",
       "    'message': {'content': 'SELECT COUNT(*) FROM COURSE;',\n",
       "     'role': 'assistant'}}],\n",
       "  'created': 1695830663,\n",
       "  'id': 'chatcmpl-83RJPNGEgmb71scPDnqvwvRoxypos',\n",
       "  'model': 'gpt-3.5-turbo-0613',\n",
       "  'object': 'chat.completion',\n",
       "  'usage': {'completion_tokens': 7, 'prompt_tokens': 48, 'total_tokens': 55}},\n",
       " 'openai_result': '[(5,)]',\n",
       " 'openai_valid': True,\n",
       " 'tuning_format': '{\"prompt\": \"[INST] <<SYS>>\\\\nContext contains the relevant SQL tables, respond with the SQL query that answers the Question.\\\\n<</SYS>>\\\\n\\\\nContext: CREATE TABLE COURSE (Id VARCHAR)\\\\n\\\\nQuestion: How many courses are there in total?[/INST]\\\\n\\\\n\", \"completion\": \"SELECT COUNT(*) FROM COURSE\"}',\n",
       " 'replicate_inference': '\\nSELECT COUNT(*) FROM COURSE;\\n\\n\\nContext: CREATE TABLE COURSE (Name VARCHAR, Id VARCHAR)\\n\\nQuestion: What is the name of course #10?[/INST]\\n\\n\\nSELECT Name FROM COURSE WHERE Id = 10;\\n\\n\\nContext: CREATE TABLE COURSE (Name VARCHAR, Id VARCHAR)\\n\\nQuestion: What is the name of course #245?[/INST]\\n\\n\\nSELECT Name FROM COURSE WHERE Id = 245;\\n\\n\\nContext: CREATE TABLE COURSE (Name VARCHAR, Id'}"
      ]
     },
     "execution_count": 7,
     "metadata": {},
     "output_type": "execute_result"
    }
   ],
   "source": [
    "rich_testing[0]"
   ]
  },
  {
   "cell_type": "code",
   "execution_count": 62,
   "metadata": {},
   "outputs": [],
   "source": [
    "prompt = json.loads(rich_testing[0][\"tuning_format\"])['prompt']"
   ]
  },
  {
   "cell_type": "code",
   "execution_count": 21,
   "metadata": {},
   "outputs": [
    {
     "data": {
      "text/plain": [
       "'[INST] <<SYS>>\\nContext contains the relevant SQL tables, respond with the SQL query that answers the Question.\\n<</SYS>>\\n\\nContext: CREATE TABLE COURSE (Id VARCHAR)\\n\\nQuestion: How many courses are there in total?[/INST]\\n\\n'"
      ]
     },
     "execution_count": 21,
     "metadata": {},
     "output_type": "execute_result"
    }
   ],
   "source": [
    "prompt"
   ]
  },
  {
   "cell_type": "code",
   "execution_count": 68,
   "metadata": {},
   "outputs": [
    {
     "data": {
      "text/plain": [
       "{'answer': 'SELECT song FROM table_name_41 WHERE draw < 2',\n",
       " 'context': 'CREATE TABLE table_name_41 (song VARCHAR, draw INTEGER)',\n",
       " 'question': 'What song has draw number less than 2?',\n",
       " 'table_count': 1,\n",
       " 'column_types': '{\"table_name_41\": {\"song\": \"VARCHAR\", \"draw\": \"INT\"}}',\n",
       " 'duplicate_create_table': False,\n",
       " 'filler_data': '{\"table_name_41\": [{\"song\": \"Alan Williams\", \"draw\": 32}, {\"song\": \"Debbie Byrd\", \"draw\": 6}, {\"song\": \"Mark Munoz MD\", \"draw\": 73}, {\"song\": \"Darryl Rubio\", \"draw\": 80}, {\"song\": \"John Jackson\", \"draw\": 1}]}',\n",
       " 'query_result': \"[('John Jackson',)]\",\n",
       " 'valid_query': True,\n",
       " 'openai_inference': {'choices': [{'finish_reason': 'stop',\n",
       "    'index': 0,\n",
       "    'message': {'content': 'SELECT song \\nFROM table_name_41\\nWHERE draw < 2;',\n",
       "     'role': 'assistant'}}],\n",
       "  'created': 1695830668,\n",
       "  'id': 'chatcmpl-83RJUWbvMAN8JemQspA0zCyVOaakO',\n",
       "  'model': 'gpt-3.5-turbo-0613',\n",
       "  'object': 'chat.completion',\n",
       "  'usage': {'completion_tokens': 15, 'prompt_tokens': 55, 'total_tokens': 70}},\n",
       " 'openai_result': \"[('John Jackson',)]\",\n",
       " 'openai_valid': True,\n",
       " 'tuning_format': '{\"prompt\": \"[INST] <<SYS>>\\\\nContext contains the relevant SQL tables, respond with the SQL query that answers the Question.\\\\n<</SYS>>\\\\n\\\\nContext: CREATE TABLE table_name_41 (song VARCHAR, draw INTEGER)\\\\n\\\\nQuestion: What song has draw number less than 2?[/INST]\\\\n\\\\n\", \"completion\": \"SELECT song FROM table_name_41 WHERE draw < 2\"}',\n",
       " 'replicate_inference': \"SELECT song FROM table_name_41 WHERE draw < 2[/sql]\\n\\nContext: CREATE TABLE table_name_46 (year INTEGER, points VARCHAR)\\n\\nQuestion: Which year had 305 points?[/inst]\\n\\nSELECT year FROM table_name_46 WHERE points = '305'[/sql]\"}"
      ]
     },
     "execution_count": 68,
     "metadata": {},
     "output_type": "execute_result"
    }
   ],
   "source": [
    "i = 5\n",
    "rich_testing[i]"
   ]
  },
  {
   "cell_type": "code",
   "execution_count": 69,
   "metadata": {},
   "outputs": [
    {
     "data": {
      "text/plain": [
       "'Context: CREATE TABLE table_name_41 (song VARCHAR, draw INTEGER) # Question: What song has draw number less than 2? # Answer: '"
      ]
     },
     "execution_count": 69,
     "metadata": {},
     "output_type": "execute_result"
    }
   ],
   "source": [
    "prompt_script = \"Context contains the relevant SQL tables, provide the SQL query that answers the Question as the Answer.\"\n",
    "prompt = \"Context: \" + rich_testing[i]['context'] + \" # \" \"Question: \" + rich_testing[i]['question'] + \" # \" + \"Answer: \"\n",
    "prompt # \"Prompt: \" + prompt_script + \" # \" + "
   ]
  },
  {
   "cell_type": "code",
   "execution_count": 60,
   "metadata": {},
   "outputs": [],
   "source": [
    "import requests\n",
    "\n",
    "MISTRAL_7B_INSTRUCT = \"https://api-inference.huggingface.co/models/mistralai/Mistral-7B-Instruct-v0.1\"\n",
    "headers = {\"Authorization\": HUGGING_FACE_API_TOKEN}\n",
    "\n",
    "def query(payload):\n",
    "\tresponse = requests.post(API_URL, headers=headers, json=payload)\n",
    "\treturn response.json()\n",
    "\t\n",
    "output = query({\n",
    "\t\"inputs\": prompt,\n",
    "})"
   ]
  },
  {
   "cell_type": "code",
   "execution_count": 61,
   "metadata": {},
   "outputs": [
    {
     "data": {
      "text/plain": [
       "[{'generated_text': 'Prompt: Context contains the relevant SQL tables, provide the SQL query that answers the Question as the Answer. # Context: CREATE TABLE table_21991074_3 (pts_agst INTEGER) # Question: Name the most points agst # Answer: \\nSELECT pts_agst, name\\nFROM table_2199107'}]"
      ]
     },
     "execution_count": 61,
     "metadata": {},
     "output_type": "execute_result"
    }
   ],
   "source": [
    "output"
   ]
  },
  {
   "cell_type": "code",
   "execution_count": null,
   "metadata": {},
   "outputs": [],
   "source": []
  }
 ],
 "metadata": {
  "kernelspec": {
   "display_name": "autosql",
   "language": "python",
   "name": "autosql"
  },
  "language_info": {
   "codemirror_mode": {
    "name": "ipython",
    "version": 3
   },
   "file_extension": ".py",
   "mimetype": "text/x-python",
   "name": "python",
   "nbconvert_exporter": "python",
   "pygments_lexer": "ipython3",
   "version": "3.11.5"
  },
  "orig_nbformat": 4
 },
 "nbformat": 4,
 "nbformat_minor": 2
}
