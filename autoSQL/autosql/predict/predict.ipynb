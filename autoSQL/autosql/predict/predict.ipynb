{
 "cells": [
  {
   "cell_type": "code",
   "execution_count": 2,
   "metadata": {},
   "outputs": [],
   "source": [
    "# System\n",
    "import os\n",
    "import sys\n",
    "import json \n",
    "import pandas as pd\n",
    "from dotenv import load_dotenv\n",
    "from typing import Optional, Dict, List, Union\n",
    "from IPython.display import display, clear_output\n",
    "import time\n",
    "\n",
    "# External\n",
    "from datasets import DatasetDict, Dataset\n",
    "import datasets\n",
    "\n",
    "# Internal\n",
    "from predict import SQLPredict\n",
    "\n",
    "# Load environment variables\n",
    "load_dotenv(\"../../.env\")\n",
    "\n",
    "OPENAI_API_KEY = os.getenv(\"OPENAI_API_KEY\")\n",
    "REPLICATE_API_TOKEN = os.environ.get(\"REPLICATE_API_TOKEN\")\n",
    "REPLICATE_LLAMA_13B_TUNED = os.environ.get(\"REPLICATE_LLAMA_7B_TUNED\")\n",
    "REPLICATE_LLAMA_13B_BASE = os.environ.get(\"REPLICATE_LLAMA_13B_BASE\")\n",
    "HUGGING_FACE_API_TOKEN = os.environ.get(\"HUGGING_FACE_API_TOKEN\")\n",
    "MISTRAL_7B_INSTRUCT = \"https://api-inference.huggingface.co/models/mistralai/Mistral-7B-Instruct-v0.1\"\n",
    "\n",
    "model_name = \"llama_2_13b_base\"\n"
   ]
  },
  {
   "cell_type": "code",
   "execution_count": 3,
   "metadata": {},
   "outputs": [],
   "source": [
    "sqp = SQLPredict.from_replicate_model(\n",
    "    openai_api_key=OPENAI_API_KEY,\n",
    "    replicate_api_key=REPLICATE_API_TOKEN,\n",
    "    model_name=model_name,\n",
    "    model_id=REPLICATE_LLAMA_13B_BASE\n",
    ")\n",
    "\n",
    "sqp.hf_key = HUGGING_FACE_API_TOKEN\n",
    "sqp.add_model_endpoint('mistral', MISTRAL_7B_INSTRUCT)"
   ]
  },
  {
   "cell_type": "code",
   "execution_count": 4,
   "metadata": {},
   "outputs": [],
   "source": [
    "rich_testing = Dataset.load_from_disk(\"../../local_data/rich_testing_subset_llama_13b_1_0_0_inferences_three\")"
   ]
  },
  {
   "cell_type": "code",
   "execution_count": 6,
   "metadata": {},
   "outputs": [],
   "source": [
    "rich_testing_subset_0_100 = rich_testing.select(range(0, 100))\n",
    "rich_testing_subset_100_200 = rich_testing.select(range(100, 200))\n",
    "rich_testing_subset_200_300 = rich_testing.select(range(200, 300))"
   ]
  },
  {
   "cell_type": "code",
   "execution_count": 7,
   "metadata": {},
   "outputs": [
    {
     "data": {
      "application/vnd.jupyter.widget-view+json": {
       "model_id": "17793b0dcfe74a13ac5f320c8e929da1",
       "version_major": 2,
       "version_minor": 0
      },
      "text/plain": [
       "Map:   0%|          | 0/100 [00:00<?, ? examples/s]"
      ]
     },
     "metadata": {},
     "output_type": "display_data"
    }
   ],
   "source": [
    "rich_testing_subset_0_100 = rich_testing_subset_0_100.map(sqp.replicate_dataset_request, fn_kwargs={\"model_name\": model_name, \"column_name\": \"llama_2_13b_base_inference\", \"prompt_type\": \"basic_text_generation\"})"
   ]
  },
  {
   "cell_type": "code",
   "execution_count": 11,
   "metadata": {},
   "outputs": [
    {
     "data": {
      "application/vnd.jupyter.widget-view+json": {
       "model_id": "8a013e53247d4138acfe6066fdbb4236",
       "version_major": 2,
       "version_minor": 0
      },
      "text/plain": [
       "Map:   0%|          | 0/100 [00:00<?, ? examples/s]"
      ]
     },
     "metadata": {},
     "output_type": "display_data"
    }
   ],
   "source": [
    "rich_testing_subset_100_200 = rich_testing_subset_100_200.map(sqp.replicate_dataset_request, fn_kwargs={\"model_name\": model_name, \"column_name\": \"llama_2_13b_base_inference\", \"prompt_type\": \"basic_text_generation\"})"
   ]
  },
  {
   "cell_type": "code",
   "execution_count": 12,
   "metadata": {},
   "outputs": [
    {
     "data": {
      "application/vnd.jupyter.widget-view+json": {
       "model_id": "377f1e76d35a46ccb4067d6a8f789fde",
       "version_major": 2,
       "version_minor": 0
      },
      "text/plain": [
       "Map:   0%|          | 0/100 [00:00<?, ? examples/s]"
      ]
     },
     "metadata": {},
     "output_type": "display_data"
    }
   ],
   "source": [
    "rich_testing_subset_200_300 = rich_testing_subset_200_300.map(sqp.replicate_dataset_request, fn_kwargs={\"model_name\": model_name, \"column_name\": \"llama_2_13b_base_inference\", \"prompt_type\": \"basic_text_generation\"})"
   ]
  },
  {
   "cell_type": "markdown",
   "metadata": {},
   "source": [
    "# Mistral Inferences"
   ]
  },
  {
   "cell_type": "code",
   "execution_count": 24,
   "metadata": {},
   "outputs": [
    {
     "data": {
      "application/vnd.jupyter.widget-view+json": {
       "model_id": "816282d419264f4496a255016e47878f",
       "version_major": 2,
       "version_minor": 0
      },
      "text/plain": [
       "Map:   0%|          | 0/100 [00:00<?, ? examples/s]"
      ]
     },
     "metadata": {},
     "output_type": "display_data"
    }
   ],
   "source": [
    "rich_testing_subset_0_100 = rich_testing_subset_0_100.map(sqp.basic_text_generation_dataset_request, fn_kwargs={\"model_name\": \"mistral\", \"response_column_name\": \"mistral_response\", \"headers\": headers}, load_from_cache_file=False)"
   ]
  },
  {
   "cell_type": "code",
   "execution_count": 25,
   "metadata": {},
   "outputs": [
    {
     "data": {
      "application/vnd.jupyter.widget-view+json": {
       "model_id": "7843ab806f3a4e4c8a1440ef07bdc1d7",
       "version_major": 2,
       "version_minor": 0
      },
      "text/plain": [
       "Map:   0%|          | 0/100 [00:00<?, ? examples/s]"
      ]
     },
     "metadata": {},
     "output_type": "display_data"
    }
   ],
   "source": [
    "rich_testing_subset_100_200 = rich_testing_subset_100_200.map(sqp.basic_text_generation_dataset_request, fn_kwargs={\"model_name\": \"mistral\", \"response_column_name\": \"mistral_response\", \"headers\": headers}, load_from_cache_file=False)"
   ]
  },
  {
   "cell_type": "code",
   "execution_count": 26,
   "metadata": {},
   "outputs": [
    {
     "data": {
      "application/vnd.jupyter.widget-view+json": {
       "model_id": "9c83de9467de4cb09cba1f62839681d0",
       "version_major": 2,
       "version_minor": 0
      },
      "text/plain": [
       "Map:   0%|          | 0/100 [00:00<?, ? examples/s]"
      ]
     },
     "metadata": {},
     "output_type": "display_data"
    }
   ],
   "source": [
    "rich_testing_subset_200_300 = rich_testing_subset_200_300.map(sqp.basic_text_generation_dataset_request, fn_kwargs={\"model_name\": \"mistral\", \"response_column_name\": \"mistral_response\", \"headers\": headers}, load_from_cache_file=False)"
   ]
  },
  {
   "cell_type": "code",
   "execution_count": 14,
   "metadata": {},
   "outputs": [],
   "source": [
    "rich_testing_subset = datasets.concatenate_datasets([rich_testing_subset_0_100, rich_testing_subset_100_200, rich_testing_subset_200_300])"
   ]
  },
  {
   "cell_type": "code",
   "execution_count": 16,
   "metadata": {},
   "outputs": [
    {
     "data": {
      "application/vnd.jupyter.widget-view+json": {
       "model_id": "b574df95e5064e4dbbd60ad1f85c8351",
       "version_major": 2,
       "version_minor": 0
      },
      "text/plain": [
       "Saving the dataset (0/1 shards):   0%|          | 0/300 [00:00<?, ? examples/s]"
      ]
     },
     "metadata": {},
     "output_type": "display_data"
    }
   ],
   "source": [
    "rich_testing_subset.save_to_disk(\"../../local_data/rich_testing_subset_llama_13b_1_0_0_inferences_four\")"
   ]
  }
 ],
 "metadata": {
  "kernelspec": {
   "display_name": "autosql",
   "language": "python",
   "name": "autosql"
  },
  "language_info": {
   "codemirror_mode": {
    "name": "ipython",
    "version": 3
   },
   "file_extension": ".py",
   "mimetype": "text/x-python",
   "name": "python",
   "nbconvert_exporter": "python",
   "pygments_lexer": "ipython3",
   "version": "3.11.5"
  },
  "orig_nbformat": 4
 },
 "nbformat": 4,
 "nbformat_minor": 2
}
