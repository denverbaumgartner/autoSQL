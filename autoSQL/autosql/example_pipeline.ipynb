{
 "cells": [
  {
   "cell_type": "code",
   "execution_count": null,
   "metadata": {},
   "outputs": [],
   "source": [
    "import os\n",
    "from data import SQLData\n",
    "from _decimal import Decimal\n",
    "from dotenv import load_dotenv\n",
    "\n",
    "from datasets import DatasetDict, Dataset\n",
    "\n",
    "from data import SQLData\n",
    "from predict import SQLPredict\n",
    "from eval import SQLEval\n",
    "\n",
    "# Load environment variables from .env file\n",
    "load_dotenv(\"../.env\")\n",
    "\n",
    "# Now you can get the loaded environment variable using os.environ\n",
    "GITHUB_GIST_TOKEN = os.environ.get(\"GITHUB_GIST_TOKEN\")\n",
    "REPLICATE_API_TOKEN = os.environ.get(\"REPLICATE_API_TOKEN\")\n",
    "OPENAI_API_KEY = os.environ.get(\"OPENAI_API_KEY\")\n",
    "REPLICATE_LLAMA_13B_TUNED = os.environ.get(\"REPLICATE_LLAMA_13B_TUNED\")\n",
    "\n",
    "dataset_name = 'b-mc2/sql-create-context'"
   ]
  },
  {
   "cell_type": "code",
   "execution_count": null,
   "metadata": {},
   "outputs": [],
   "source": [
    "sqp = SQLPredict.from_replicate_model(\n",
    "    openai_api_key=OPENAI_API_KEY,\n",
    "    replicate_api_key=REPLICATE_API_TOKEN,\n",
    "    model_name=\"llama_2_13b_sql\",\n",
    "    model_id=REPLICATE_LLAMA_13B_TUNED\n",
    ")\n",
    "sqd = SQLData.from_sql_create_context()\n",
    "sqe = SQLEval()"
   ]
  },
  {
   "cell_type": "markdown",
   "metadata": {},
   "source": [
    "# Data Processing"
   ]
  },
  {
   "cell_type": "code",
   "execution_count": null,
   "metadata": {},
   "outputs": [],
   "source": [
    "sqd.preprocess_data(dataset_name=dataset_name)\n",
    "sqd.filter_data(dataset_name=dataset_name)"
   ]
  }
 ],
 "metadata": {
  "language_info": {
   "name": "python"
  },
  "orig_nbformat": 4
 },
 "nbformat": 4,
 "nbformat_minor": 2
}
